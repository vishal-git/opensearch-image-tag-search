{
 "cells": [
  {
   "cell_type": "markdown",
   "id": "221e7fc9-796f-47ad-b361-0a607cb33b70",
   "metadata": {},
   "source": [
    "So far, we have ingested all input data into an OpenSearch index. In this Notebook, we will perform multiple searches and collect the results to calculate accuracy metrics such as **precision** and **recall**."
   ]
  },
  {
   "cell_type": "code",
   "execution_count": 1,
   "id": "e6c3d93c-0f6e-47a1-835d-159965fb947e",
   "metadata": {},
   "outputs": [],
   "source": [
    "import ast\n",
    "import json\n",
    "import requests\n",
    "import pandas as pd"
   ]
  },
  {
   "cell_type": "markdown",
   "id": "09d0556d-2ba2-474a-ad91-c070b563b2de",
   "metadata": {},
   "source": [
    "### Read the source dataset"
   ]
  },
  {
   "cell_type": "code",
   "execution_count": 2,
   "id": "ca6adb74-d0ba-42df-b225-6152bdfb7a84",
   "metadata": {},
   "outputs": [
    {
     "data": {
      "text/html": [
       "<div>\n",
       "<style scoped>\n",
       "    .dataframe tbody tr th:only-of-type {\n",
       "        vertical-align: middle;\n",
       "    }\n",
       "\n",
       "    .dataframe tbody tr th {\n",
       "        vertical-align: top;\n",
       "    }\n",
       "\n",
       "    .dataframe thead th {\n",
       "        text-align: right;\n",
       "    }\n",
       "</style>\n",
       "<table border=\"1\" class=\"dataframe\">\n",
       "  <thead>\n",
       "    <tr style=\"text-align: right;\">\n",
       "      <th></th>\n",
       "      <th>image_id</th>\n",
       "      <th>image_url</th>\n",
       "      <th>tags_list</th>\n",
       "      <th>tags</th>\n",
       "    </tr>\n",
       "  </thead>\n",
       "  <tbody>\n",
       "    <tr>\n",
       "      <th>53559</th>\n",
       "      <td>2366867</td>\n",
       "      <td>http://crowdfile.blob.core.chinacloudapi.cn/46...</td>\n",
       "      <td>[birds, camera, bird, sky, neck, peach sky, me...</td>\n",
       "      <td>birds camera bird sky neck peach sky metal pol...</td>\n",
       "    </tr>\n",
       "    <tr>\n",
       "      <th>41981</th>\n",
       "      <td>2378980</td>\n",
       "      <td>http://crowdfile.blob.core.chinacloudapi.cn/46...</td>\n",
       "      <td>[window, line, double door, front windshield, ...</td>\n",
       "      <td>window line double door front windshield back ...</td>\n",
       "    </tr>\n",
       "    <tr>\n",
       "      <th>89244</th>\n",
       "      <td>2329504</td>\n",
       "      <td>http://crowdfile.blob.core.chinacloudapi.cn/46...</td>\n",
       "      <td>[window, head, man, flag, pole, light, tie, bu...</td>\n",
       "      <td>window head man flag pole light tie bus car sk...</td>\n",
       "    </tr>\n",
       "    <tr>\n",
       "      <th>71785</th>\n",
       "      <td>2347788</td>\n",
       "      <td>http://crowdfile.blob.core.chinacloudapi.cn/46...</td>\n",
       "      <td>[headband, kid, child, whisk, visor, container...</td>\n",
       "      <td>headband kid child whisk visor container chips...</td>\n",
       "    </tr>\n",
       "    <tr>\n",
       "      <th>100014</th>\n",
       "      <td>2318253</td>\n",
       "      <td>http://crowdfile.blob.core.chinacloudapi.cn/46...</td>\n",
       "      <td>[bear, eye, claws, face, grass, mouth, these, ...</td>\n",
       "      <td>bear eye claws face grass mouth these stone th...</td>\n",
       "    </tr>\n",
       "  </tbody>\n",
       "</table>\n",
       "</div>"
      ],
      "text/plain": [
       "        image_id                                          image_url  \\\n",
       "53559    2366867  http://crowdfile.blob.core.chinacloudapi.cn/46...   \n",
       "41981    2378980  http://crowdfile.blob.core.chinacloudapi.cn/46...   \n",
       "89244    2329504  http://crowdfile.blob.core.chinacloudapi.cn/46...   \n",
       "71785    2347788  http://crowdfile.blob.core.chinacloudapi.cn/46...   \n",
       "100014   2318253  http://crowdfile.blob.core.chinacloudapi.cn/46...   \n",
       "\n",
       "                                                tags_list  \\\n",
       "53559   [birds, camera, bird, sky, neck, peach sky, me...   \n",
       "41981   [window, line, double door, front windshield, ...   \n",
       "89244   [window, head, man, flag, pole, light, tie, bu...   \n",
       "71785   [headband, kid, child, whisk, visor, container...   \n",
       "100014  [bear, eye, claws, face, grass, mouth, these, ...   \n",
       "\n",
       "                                                     tags  \n",
       "53559   birds camera bird sky neck peach sky metal pol...  \n",
       "41981   window line double door front windshield back ...  \n",
       "89244   window head man flag pole light tie bus car sk...  \n",
       "71785   headband kid child whisk visor container chips...  \n",
       "100014  bear eye claws face grass mouth these stone th...  "
      ]
     },
     "execution_count": 2,
     "metadata": {},
     "output_type": "execute_result"
    }
   ],
   "source": [
    "df = pd.read_csv('../data/vgenome_sample_1k.csv', index_col=0)\n",
    "df = df.rename(columns={'tags': 'tags_list'})\n",
    "df['tags_list'] = df['tags_list'].apply(ast.literal_eval)\n",
    "df['tags'] = df['tags_list'].apply(lambda x: \" \".join(x))\n",
    "\n",
    "df.head()"
   ]
  },
  {
   "cell_type": "markdown",
   "id": "ea41628e-66ae-4f1e-ae6d-a5a979b0fba0",
   "metadata": {},
   "source": [
    "### Prepare the judgement data"
   ]
  },
  {
   "cell_type": "markdown",
   "id": "67dfe5c2-6ef7-441c-a5cf-4c1ee074b7d1",
   "metadata": {},
   "source": [
    "We will select ten most common tags that we can use to perform searches."
   ]
  },
  {
   "cell_type": "code",
   "execution_count": 4,
   "id": "31cf2292-90e3-432f-af54-fc069b5fadba",
   "metadata": {},
   "outputs": [
    {
     "data": {
      "text/plain": [
       "17995"
      ]
     },
     "execution_count": 4,
     "metadata": {},
     "output_type": "execute_result"
    }
   ],
   "source": [
    "# get the list of all tags\n",
    "all_tags = []\n",
    "\n",
    "for tag in df['tags_list'].values:\n",
    "    all_tags += tag\n",
    "\n",
    "len(all_tags)"
   ]
  },
  {
   "cell_type": "code",
   "execution_count": 5,
   "id": "4bdd88c0-5846-4121-9797-be11f0c675a3",
   "metadata": {},
   "outputs": [
    {
     "data": {
      "text/plain": [
       "man         271\n",
       "ground      226\n",
       "sky         214\n",
       "shirt       210\n",
       "wall        208\n",
       "tree        194\n",
       "building    190\n",
       "window      178\n",
       "head        169\n",
       "grass       157\n",
       "Name: count, dtype: int64"
      ]
     },
     "execution_count": 5,
     "metadata": {},
     "output_type": "execute_result"
    }
   ],
   "source": [
    "from collections import Counter\n",
    "\n",
    "# count the number of occurrences (images) for each tag\n",
    "occurrences = pd.Series(all_tags).value_counts()\n",
    "occurrences[:10]"
   ]
  },
  {
   "cell_type": "code",
   "execution_count": 6,
   "id": "e2e618c6-34e9-4895-96cb-46a1b08b8b8e",
   "metadata": {},
   "outputs": [
    {
     "data": {
      "text/plain": [
       "['man',\n",
       " 'ground',\n",
       " 'sky',\n",
       " 'shirt',\n",
       " 'wall',\n",
       " 'tree',\n",
       " 'building',\n",
       " 'window',\n",
       " 'head',\n",
       " 'grass']"
      ]
     },
     "execution_count": 6,
     "metadata": {},
     "output_type": "execute_result"
    }
   ],
   "source": [
    "select_tags = list(occurrences[:10].index.values)\n",
    "select_tags"
   ]
  },
  {
   "cell_type": "markdown",
   "id": "bc12a425-0e29-4c56-a6c3-ff6279f2dcfb",
   "metadata": {},
   "source": [
    "In addition, let's select five tags at random. This will help with negative testing. It's important to include rare tags in the evaluation set to get a good understanding of the accuracy."
   ]
  },
  {
   "cell_type": "code",
   "execution_count": 7,
   "id": "932b5cba-4bc6-482f-9e67-4eeab4afcf88",
   "metadata": {},
   "outputs": [
    {
     "data": {
      "text/plain": [
       "['pole', 'collar', 'side', 'street light', 'woman']"
      ]
     },
     "execution_count": 7,
     "metadata": {},
     "output_type": "execute_result"
    }
   ],
   "source": [
    "import random\n",
    "\n",
    "random_tags = random.sample(all_tags, 5)\n",
    "random_tags"
   ]
  },
  {
   "cell_type": "code",
   "execution_count": 8,
   "id": "20564228-0688-4cc3-a772-f57ca580537d",
   "metadata": {},
   "outputs": [
    {
     "data": {
      "text/plain": [
       "['wall',\n",
       " 'street light',\n",
       " 'pole',\n",
       " 'shirt',\n",
       " 'building',\n",
       " 'grass',\n",
       " 'sky',\n",
       " 'head',\n",
       " 'ground',\n",
       " 'collar',\n",
       " 'window',\n",
       " 'woman',\n",
       " 'man',\n",
       " 'side',\n",
       " 'tree']"
      ]
     },
     "execution_count": 8,
     "metadata": {},
     "output_type": "execute_result"
    }
   ],
   "source": [
    "# append the five random tags to the original list\n",
    "select_tags = list(set(select_tags + random_tags))\n",
    "select_tags"
   ]
  },
  {
   "cell_type": "code",
   "execution_count": 9,
   "id": "ed40d104-0d6f-488d-ae19-febe95506be5",
   "metadata": {},
   "outputs": [
    {
     "data": {
      "text/plain": [
       "15"
      ]
     },
     "execution_count": 9,
     "metadata": {},
     "output_type": "execute_result"
    }
   ],
   "source": [
    "len(select_tags)"
   ]
  },
  {
   "cell_type": "markdown",
   "id": "30c2f060-2511-4438-aa72-403365fcc067",
   "metadata": {},
   "source": [
    "We will use these fifteen tags to perform searches, collect results, and create the evaluation set."
   ]
  },
  {
   "cell_type": "markdown",
   "id": "4c564c5b-af96-4cc3-a297-4c062a98e10c",
   "metadata": {},
   "source": [
    "#### Add the ground truth"
   ]
  },
  {
   "cell_type": "markdown",
   "id": "eed67b1b-bc13-4711-8adb-2619f5364c9d",
   "metadata": {},
   "source": [
    "Let's include the list of images in which each of the `select_tag` is found. This is our **ground truth** for these fifteen tags."
   ]
  },
  {
   "cell_type": "code",
   "execution_count": 11,
   "id": "2ea92f70-399b-410a-b151-6c699510d088",
   "metadata": {},
   "outputs": [],
   "source": [
    "judgement_data = {}\n",
    "\n",
    "for search_tag in select_tags:\n",
    "    matched_images = []\n",
    "    # for each select tag, iterate thru the dataset\n",
    "    for i, row in df.iterrows():\n",
    "        # for each row (image) in the dataset, add the image if that tag was found in that image\n",
    "        for available_tag in set(row['tags_list']):\n",
    "            if available_tag == search_tag:\n",
    "                matched_images.append(row['image_id'])\n",
    "    judgement_data[search_tag] = matched_images"
   ]
  },
  {
   "cell_type": "code",
   "execution_count": 12,
   "id": "e9dbed80-1e23-480e-a2fd-18fca7d9a34b",
   "metadata": {},
   "outputs": [
    {
     "data": {
      "text/html": [
       "<div>\n",
       "<style scoped>\n",
       "    .dataframe tbody tr th:only-of-type {\n",
       "        vertical-align: middle;\n",
       "    }\n",
       "\n",
       "    .dataframe tbody tr th {\n",
       "        vertical-align: top;\n",
       "    }\n",
       "\n",
       "    .dataframe thead th {\n",
       "        text-align: right;\n",
       "    }\n",
       "</style>\n",
       "<table border=\"1\" class=\"dataframe\">\n",
       "  <thead>\n",
       "    <tr style=\"text-align: right;\">\n",
       "      <th></th>\n",
       "      <th>search_tag</th>\n",
       "      <th>image_ids</th>\n",
       "    </tr>\n",
       "  </thead>\n",
       "  <tbody>\n",
       "    <tr>\n",
       "      <th>0</th>\n",
       "      <td>wall</td>\n",
       "      <td>[285966, 832, 512, 2399605, 2377478, 2390176, ...</td>\n",
       "    </tr>\n",
       "    <tr>\n",
       "      <th>1</th>\n",
       "      <td>street light</td>\n",
       "      <td>[832, 2377478, 2357116, 2369703, 285812, 23340...</td>\n",
       "    </tr>\n",
       "    <tr>\n",
       "      <th>2</th>\n",
       "      <td>pole</td>\n",
       "      <td>[2329504, 2405367, 2318141, 2323433, 2403833, ...</td>\n",
       "    </tr>\n",
       "    <tr>\n",
       "      <th>3</th>\n",
       "      <td>shirt</td>\n",
       "      <td>[2329504, 2347788, 2325505, 2417733, 2338858, ...</td>\n",
       "    </tr>\n",
       "    <tr>\n",
       "      <th>4</th>\n",
       "      <td>building</td>\n",
       "      <td>[2329504, 150439, 2378215, 2377478, 2323433, 2...</td>\n",
       "    </tr>\n",
       "    <tr>\n",
       "      <th>5</th>\n",
       "      <td>grass</td>\n",
       "      <td>[2318253, 2325505, 2408241, 2370306, 2348450, ...</td>\n",
       "    </tr>\n",
       "    <tr>\n",
       "      <th>6</th>\n",
       "      <td>sky</td>\n",
       "      <td>[2366867, 2329504, 2417733, 2398437, 832, 2405...</td>\n",
       "    </tr>\n",
       "    <tr>\n",
       "      <th>7</th>\n",
       "      <td>head</td>\n",
       "      <td>[2329504, 2325505, 2417733, 2398437, 2318141, ...</td>\n",
       "    </tr>\n",
       "    <tr>\n",
       "      <th>8</th>\n",
       "      <td>ground</td>\n",
       "      <td>[2347788, 2318253, 2333971, 2318141, 2370306, ...</td>\n",
       "    </tr>\n",
       "    <tr>\n",
       "      <th>9</th>\n",
       "      <td>collar</td>\n",
       "      <td>[2338858, 2407115, 2330169, 2356769, 2360082, ...</td>\n",
       "    </tr>\n",
       "    <tr>\n",
       "      <th>10</th>\n",
       "      <td>window</td>\n",
       "      <td>[2378980, 2329504, 2325122, 2400061, 2378215, ...</td>\n",
       "    </tr>\n",
       "    <tr>\n",
       "      <th>11</th>\n",
       "      <td>woman</td>\n",
       "      <td>[2347788, 2325122, 2378467, 2321096, 2332467, ...</td>\n",
       "    </tr>\n",
       "    <tr>\n",
       "      <th>12</th>\n",
       "      <td>man</td>\n",
       "      <td>[2329504, 2325505, 2417733, 2408241, 285966, 2...</td>\n",
       "    </tr>\n",
       "    <tr>\n",
       "      <th>13</th>\n",
       "      <td>side</td>\n",
       "      <td>[2378214, 2415636, 2357116, 2367149, 2381037, ...</td>\n",
       "    </tr>\n",
       "    <tr>\n",
       "      <th>14</th>\n",
       "      <td>tree</td>\n",
       "      <td>[2378980, 2398437, 832, 2405367, 107926, 23782...</td>\n",
       "    </tr>\n",
       "  </tbody>\n",
       "</table>\n",
       "</div>"
      ],
      "text/plain": [
       "      search_tag                                          image_ids\n",
       "0           wall  [285966, 832, 512, 2399605, 2377478, 2390176, ...\n",
       "1   street light  [832, 2377478, 2357116, 2369703, 285812, 23340...\n",
       "2           pole  [2329504, 2405367, 2318141, 2323433, 2403833, ...\n",
       "3          shirt  [2329504, 2347788, 2325505, 2417733, 2338858, ...\n",
       "4       building  [2329504, 150439, 2378215, 2377478, 2323433, 2...\n",
       "5          grass  [2318253, 2325505, 2408241, 2370306, 2348450, ...\n",
       "6            sky  [2366867, 2329504, 2417733, 2398437, 832, 2405...\n",
       "7           head  [2329504, 2325505, 2417733, 2398437, 2318141, ...\n",
       "8         ground  [2347788, 2318253, 2333971, 2318141, 2370306, ...\n",
       "9         collar  [2338858, 2407115, 2330169, 2356769, 2360082, ...\n",
       "10        window  [2378980, 2329504, 2325122, 2400061, 2378215, ...\n",
       "11         woman  [2347788, 2325122, 2378467, 2321096, 2332467, ...\n",
       "12           man  [2329504, 2325505, 2417733, 2408241, 285966, 2...\n",
       "13          side  [2378214, 2415636, 2357116, 2367149, 2381037, ...\n",
       "14          tree  [2378980, 2398437, 832, 2405367, 107926, 23782..."
      ]
     },
     "execution_count": 12,
     "metadata": {},
     "output_type": "execute_result"
    }
   ],
   "source": [
    "# convert the dictionary into a dataframe\n",
    "df_judgement = pd.DataFrame(list(judgement_data.items()),\n",
    "                            columns=['search_tag', 'image_ids'])\n",
    "df_judgement"
   ]
  },
  {
   "cell_type": "markdown",
   "id": "e6a6cf66-0428-4978-94cb-fa7e6ff821f4",
   "metadata": {},
   "source": [
    "Let's also count the number of images in which each tag is found."
   ]
  },
  {
   "cell_type": "code",
   "execution_count": 13,
   "id": "e7b2908c-1cc1-48aa-b5b8-5a22d7b159f3",
   "metadata": {},
   "outputs": [
    {
     "data": {
      "text/html": [
       "<div>\n",
       "<style scoped>\n",
       "    .dataframe tbody tr th:only-of-type {\n",
       "        vertical-align: middle;\n",
       "    }\n",
       "\n",
       "    .dataframe tbody tr th {\n",
       "        vertical-align: top;\n",
       "    }\n",
       "\n",
       "    .dataframe thead th {\n",
       "        text-align: right;\n",
       "    }\n",
       "</style>\n",
       "<table border=\"1\" class=\"dataframe\">\n",
       "  <thead>\n",
       "    <tr style=\"text-align: right;\">\n",
       "      <th></th>\n",
       "      <th>search_tag</th>\n",
       "      <th>image_ids</th>\n",
       "      <th>matched_image_ct</th>\n",
       "    </tr>\n",
       "  </thead>\n",
       "  <tbody>\n",
       "    <tr>\n",
       "      <th>0</th>\n",
       "      <td>wall</td>\n",
       "      <td>[285966, 832, 512, 2399605, 2377478, 2390176, ...</td>\n",
       "      <td>208</td>\n",
       "    </tr>\n",
       "    <tr>\n",
       "      <th>1</th>\n",
       "      <td>street light</td>\n",
       "      <td>[832, 2377478, 2357116, 2369703, 285812, 23340...</td>\n",
       "      <td>13</td>\n",
       "    </tr>\n",
       "    <tr>\n",
       "      <th>2</th>\n",
       "      <td>pole</td>\n",
       "      <td>[2329504, 2405367, 2318141, 2323433, 2403833, ...</td>\n",
       "      <td>128</td>\n",
       "    </tr>\n",
       "    <tr>\n",
       "      <th>3</th>\n",
       "      <td>shirt</td>\n",
       "      <td>[2329504, 2347788, 2325505, 2417733, 2338858, ...</td>\n",
       "      <td>210</td>\n",
       "    </tr>\n",
       "    <tr>\n",
       "      <th>4</th>\n",
       "      <td>building</td>\n",
       "      <td>[2329504, 150439, 2378215, 2377478, 2323433, 2...</td>\n",
       "      <td>190</td>\n",
       "    </tr>\n",
       "    <tr>\n",
       "      <th>5</th>\n",
       "      <td>grass</td>\n",
       "      <td>[2318253, 2325505, 2408241, 2370306, 2348450, ...</td>\n",
       "      <td>157</td>\n",
       "    </tr>\n",
       "    <tr>\n",
       "      <th>6</th>\n",
       "      <td>sky</td>\n",
       "      <td>[2366867, 2329504, 2417733, 2398437, 832, 2405...</td>\n",
       "      <td>214</td>\n",
       "    </tr>\n",
       "    <tr>\n",
       "      <th>7</th>\n",
       "      <td>head</td>\n",
       "      <td>[2329504, 2325505, 2417733, 2398437, 2318141, ...</td>\n",
       "      <td>169</td>\n",
       "    </tr>\n",
       "    <tr>\n",
       "      <th>8</th>\n",
       "      <td>ground</td>\n",
       "      <td>[2347788, 2318253, 2333971, 2318141, 2370306, ...</td>\n",
       "      <td>226</td>\n",
       "    </tr>\n",
       "    <tr>\n",
       "      <th>9</th>\n",
       "      <td>collar</td>\n",
       "      <td>[2338858, 2407115, 2330169, 2356769, 2360082, ...</td>\n",
       "      <td>20</td>\n",
       "    </tr>\n",
       "    <tr>\n",
       "      <th>10</th>\n",
       "      <td>window</td>\n",
       "      <td>[2378980, 2329504, 2325122, 2400061, 2378215, ...</td>\n",
       "      <td>178</td>\n",
       "    </tr>\n",
       "    <tr>\n",
       "      <th>11</th>\n",
       "      <td>woman</td>\n",
       "      <td>[2347788, 2325122, 2378467, 2321096, 2332467, ...</td>\n",
       "      <td>116</td>\n",
       "    </tr>\n",
       "    <tr>\n",
       "      <th>12</th>\n",
       "      <td>man</td>\n",
       "      <td>[2329504, 2325505, 2417733, 2408241, 285966, 2...</td>\n",
       "      <td>271</td>\n",
       "    </tr>\n",
       "    <tr>\n",
       "      <th>13</th>\n",
       "      <td>side</td>\n",
       "      <td>[2378214, 2415636, 2357116, 2367149, 2381037, ...</td>\n",
       "      <td>28</td>\n",
       "    </tr>\n",
       "    <tr>\n",
       "      <th>14</th>\n",
       "      <td>tree</td>\n",
       "      <td>[2378980, 2398437, 832, 2405367, 107926, 23782...</td>\n",
       "      <td>194</td>\n",
       "    </tr>\n",
       "  </tbody>\n",
       "</table>\n",
       "</div>"
      ],
      "text/plain": [
       "      search_tag                                          image_ids  \\\n",
       "0           wall  [285966, 832, 512, 2399605, 2377478, 2390176, ...   \n",
       "1   street light  [832, 2377478, 2357116, 2369703, 285812, 23340...   \n",
       "2           pole  [2329504, 2405367, 2318141, 2323433, 2403833, ...   \n",
       "3          shirt  [2329504, 2347788, 2325505, 2417733, 2338858, ...   \n",
       "4       building  [2329504, 150439, 2378215, 2377478, 2323433, 2...   \n",
       "5          grass  [2318253, 2325505, 2408241, 2370306, 2348450, ...   \n",
       "6            sky  [2366867, 2329504, 2417733, 2398437, 832, 2405...   \n",
       "7           head  [2329504, 2325505, 2417733, 2398437, 2318141, ...   \n",
       "8         ground  [2347788, 2318253, 2333971, 2318141, 2370306, ...   \n",
       "9         collar  [2338858, 2407115, 2330169, 2356769, 2360082, ...   \n",
       "10        window  [2378980, 2329504, 2325122, 2400061, 2378215, ...   \n",
       "11         woman  [2347788, 2325122, 2378467, 2321096, 2332467, ...   \n",
       "12           man  [2329504, 2325505, 2417733, 2408241, 285966, 2...   \n",
       "13          side  [2378214, 2415636, 2357116, 2367149, 2381037, ...   \n",
       "14          tree  [2378980, 2398437, 832, 2405367, 107926, 23782...   \n",
       "\n",
       "    matched_image_ct  \n",
       "0                208  \n",
       "1                 13  \n",
       "2                128  \n",
       "3                210  \n",
       "4                190  \n",
       "5                157  \n",
       "6                214  \n",
       "7                169  \n",
       "8                226  \n",
       "9                 20  \n",
       "10               178  \n",
       "11               116  \n",
       "12               271  \n",
       "13                28  \n",
       "14               194  "
      ]
     },
     "execution_count": 13,
     "metadata": {},
     "output_type": "execute_result"
    }
   ],
   "source": [
    "df_judgement['matched_image_ct'] = df_judgement['image_ids'].apply(lambda x: len(x))\n",
    "\n",
    "df_judgement"
   ]
  },
  {
   "cell_type": "markdown",
   "id": "981203ab-8d0c-454a-8d0e-48583bbd7e75",
   "metadata": {},
   "source": [
    "### Perform Search"
   ]
  },
  {
   "cell_type": "markdown",
   "id": "feb3d5f4-8fd8-4450-9bea-35ff853bd2f7",
   "metadata": {},
   "source": [
    "Now, while performing search, we will have to take the search keywork (aka search tag) and convert it into a vector first. This vector will be compared with the vector embeddings that are stored in the database.\n",
    "\n",
    "We already know the model ID (from the previous notebook), but let's capture it here explicitly in this notebook."
   ]
  },
  {
   "cell_type": "code",
   "execution_count": 14,
   "id": "a84716f2-3583-4e96-82a0-d61ffcac0d7b",
   "metadata": {},
   "outputs": [
    {
     "data": {
      "text/plain": [
       "'CNlMZZQBuL5CuRNm06zQ'"
      ]
     },
     "execution_count": 14,
     "metadata": {},
     "output_type": "execute_result"
    }
   ],
   "source": [
    "url = \"http://localhost:9200/_plugins/_ml/models/_search\"\n",
    "\n",
    "headers = {'Content-Type': 'application/json'}\n",
    "\n",
    "payload = {\n",
    "    \"query\": {\n",
    "        \"match_all\": {}\n",
    "    },\n",
    "    \"size\": 1\n",
    "}\n",
    "\n",
    "response = requests.post(url, headers=headers, data=json.dumps(payload))\n",
    "\n",
    "model_id = response.json()['hits']['hits'][0]['_source']['model_id']\n",
    "model_id"
   ]
  },
  {
   "cell_type": "markdown",
   "id": "f90a76ee-1c4a-4156-aa22-bf73681935bc",
   "metadata": {},
   "source": [
    "This is the same model ID that we registered in the [second notebook](01_prepare_opensearch.ipynb)."
   ]
  },
  {
   "cell_type": "markdown",
   "id": "f0cff930-2865-43af-963f-721bc5e80b72",
   "metadata": {},
   "source": [
    "Let's use this model as the `neural_query_enricher` in our pipeline."
   ]
  },
  {
   "cell_type": "code",
   "execution_count": 15,
   "id": "adf452c5-94f7-4989-92fe-56a202f13849",
   "metadata": {},
   "outputs": [
    {
     "name": "stdout",
     "output_type": "stream",
     "text": [
      "{'acknowledged': True}\n"
     ]
    }
   ],
   "source": [
    "url = \"http://localhost:9200/_search/pipeline/default_model_pipeline\"\n",
    "\n",
    "payload = {\n",
    "    \"request_processors\": [\n",
    "        {\n",
    "            \"neural_query_enricher\" : {\n",
    "                \"default_model_id\": f\"{model_id}\",\n",
    "            }\n",
    "        }\n",
    "    ]\n",
    "}\n",
    "\n",
    "response = requests.put(url, headers=headers, data=json.dumps(payload))\n",
    "\n",
    "print(response.json())"
   ]
  },
  {
   "cell_type": "markdown",
   "id": "c35aca6e-7bf9-4df3-bab3-66daefc61c8b",
   "metadata": {},
   "source": [
    "#### Trial search"
   ]
  },
  {
   "cell_type": "markdown",
   "id": "b5e4aaa3-c7c1-4370-9c72-323358355d48",
   "metadata": {},
   "source": [
    "Let's perform a trial search first using a keyword \"circle\". In other words, we would like search to return top five images that contain the tag circle (or something similar to it)."
   ]
  },
  {
   "cell_type": "code",
   "execution_count": 17,
   "id": "13c6fb6a-610e-4eb7-bd63-e6c35929704b",
   "metadata": {},
   "outputs": [
    {
     "name": "stdout",
     "output_type": "stream",
     "text": [
      "{'took': 25, 'timed_out': False, '_shards': {'total': 1, 'successful': 1, 'skipped': 0, 'failed': 0}, 'hits': {'total': {'value': 5, 'relation': 'eq'}, 'max_score': 0.429884, 'hits': [{'_index': 'tags_db', '_id': '2359132', '_score': 0.429884, '_source': {'tags': 'surfboard balcony pipes railing bicycle seat pattern bicycle basket round disk ceiling toy doll plaque gloves sun pattern tan wood wall orange flower writing stripes signatures bunch ground middle mustache grapes fence circle board points grape'}}, {'_index': 'tags_db', '_id': '2338356', '_score': 0.42776644, '_source': {'tags': 'sign pole directions human top tree background bicycle basket'}}, {'_index': 'tags_db', '_id': '2317802', '_score': 0.41676605, '_source': {'tags': 'cap sand kid head kite wheel path spokes man bicycle area air dress leaves girl sunglasses can kites sky people bike old tree log beach'}}, {'_index': 'tags_db', '_id': '2379616', '_score': 0.41057575, '_source': {'tags': 'head leg emblem man trees arm helmet car headlight light moped dots cyclist car stripe people bike shirt traffic lights person road island sign scooter design light pole bicycle wheel van poles traffic light'}}, {'_index': 'tags_db', '_id': '2321976', '_score': 0.40957135, '_source': {'tags': 'stem white sticker spot basket edge oranges orange fruits apples lines label shine groove brown bin apple bin piece'}}]}}\n"
     ]
    }
   ],
   "source": [
    "url = \"http://localhost:9200/tags_db/_search\"\n",
    "\n",
    "payload = {\n",
    "    \"_source\": {\n",
    "        \"excludes\": [\n",
    "            \"tag_embedding\"\n",
    "        ]\n",
    "    },\n",
    "    \"query\": {\n",
    "        \"neural\": {\n",
    "            \"tag_embedding\": {\n",
    "                \"query_text\": \"circle\",\n",
    "                \"model_id\": f\"{model_id}\",\n",
    "                \"k\": 5\n",
    "            }\n",
    "        }\n",
    "    }\n",
    "}\n",
    "\n",
    "response = requests.get(url, headers=headers, data=json.dumps(payload))\n",
    "\n",
    "print(response.json())"
   ]
  },
  {
   "cell_type": "code",
   "execution_count": 18,
   "id": "75b03e6e-5fc1-418b-b78d-0c8f874dca7a",
   "metadata": {},
   "outputs": [
    {
     "data": {
      "text/plain": [
       "[{'_index': 'tags_db',\n",
       "  '_id': '2359132',\n",
       "  '_score': 0.429884,\n",
       "  '_source': {'tags': 'surfboard balcony pipes railing bicycle seat pattern bicycle basket round disk ceiling toy doll plaque gloves sun pattern tan wood wall orange flower writing stripes signatures bunch ground middle mustache grapes fence circle board points grape'}},\n",
       " {'_index': 'tags_db',\n",
       "  '_id': '2338356',\n",
       "  '_score': 0.42776644,\n",
       "  '_source': {'tags': 'sign pole directions human top tree background bicycle basket'}},\n",
       " {'_index': 'tags_db',\n",
       "  '_id': '2317802',\n",
       "  '_score': 0.41676605,\n",
       "  '_source': {'tags': 'cap sand kid head kite wheel path spokes man bicycle area air dress leaves girl sunglasses can kites sky people bike old tree log beach'}},\n",
       " {'_index': 'tags_db',\n",
       "  '_id': '2379616',\n",
       "  '_score': 0.41057575,\n",
       "  '_source': {'tags': 'head leg emblem man trees arm helmet car headlight light moped dots cyclist car stripe people bike shirt traffic lights person road island sign scooter design light pole bicycle wheel van poles traffic light'}},\n",
       " {'_index': 'tags_db',\n",
       "  '_id': '2321976',\n",
       "  '_score': 0.40957135,\n",
       "  '_source': {'tags': 'stem white sticker spot basket edge oranges orange fruits apples lines label shine groove brown bin apple bin piece'}}]"
      ]
     },
     "execution_count": 18,
     "metadata": {},
     "output_type": "execute_result"
    }
   ],
   "source": [
    "response.json()['hits']['hits']"
   ]
  },
  {
   "cell_type": "markdown",
   "id": "facf1b62-6dbe-4d4e-9669-34c1b6eceb85",
   "metadata": {},
   "source": [
    "So we got five results back. The first image contains the tag \"circle\". The second one doesn't, but I guess it contains somewhat similar things, like sign and bycycle? We are using a very small model, so we shouldn't expect highly accurate results."
   ]
  },
  {
   "cell_type": "code",
   "execution_count": 19,
   "id": "595954aa-8ecd-4311-af53-8c8783f4da69",
   "metadata": {},
   "outputs": [
    {
     "data": {
      "text/plain": [
       "['2359132', '2338356', '2317802', '2379616', '2321976']"
      ]
     },
     "execution_count": 19,
     "metadata": {},
     "output_type": "execute_result"
    }
   ],
   "source": [
    "# we can also grab all the matched image IDs \n",
    "matched_image_ids = [i['_id'] for i in response.json()['hits']['hits']]\n",
    "matched_image_ids"
   ]
  },
  {
   "cell_type": "markdown",
   "id": "1a48da52-e0d8-49e7-ba58-cd567a7f6f00",
   "metadata": {},
   "source": [
    "#### Perform search and collect results"
   ]
  },
  {
   "cell_type": "code",
   "execution_count": 20,
   "id": "48b013f6-c4cb-4e0c-8ac4-b9ea23bb9998",
   "metadata": {},
   "outputs": [],
   "source": [
    "# we will restrict the number of results to ten\n",
    "num_search_results = 10\n",
    "\n",
    "for i, row in df_judgement.iterrows():\n",
    "    search_tag = row['search_tag']\n",
    "    payload = {\n",
    "        \"_source\": {\n",
    "            \"excludes\": [\n",
    "                \"tag_embedding\"\n",
    "            ]\n",
    "        },\n",
    "        \"query\": {\n",
    "            \"neural\": {\n",
    "                \"tag_embedding\": {\n",
    "                    \"query_text\": search_tag,\n",
    "                    \"model_id\": f\"{model_id}\",\n",
    "                    \"k\": num_search_results\n",
    "                }\n",
    "            }\n",
    "        }\n",
    "    }\n",
    "\n",
    "    response = requests.get(url, headers=headers, data=json.dumps(payload))\n",
    "\n",
    "    # grab all image IDs that matched\n",
    "    matched_image_ids = [i['_id'] for i in response.json()['hits']['hits']]\n",
    "\n",
    "    # update the judgement dataset\n",
    "    df_judgement.loc[i, 'search_results'] = str(matched_image_ids)"
   ]
  },
  {
   "cell_type": "code",
   "execution_count": 21,
   "id": "0db83c13-c708-49c7-9e62-ed7eceeeaa21",
   "metadata": {},
   "outputs": [
    {
     "data": {
      "text/html": [
       "<div>\n",
       "<style scoped>\n",
       "    .dataframe tbody tr th:only-of-type {\n",
       "        vertical-align: middle;\n",
       "    }\n",
       "\n",
       "    .dataframe tbody tr th {\n",
       "        vertical-align: top;\n",
       "    }\n",
       "\n",
       "    .dataframe thead th {\n",
       "        text-align: right;\n",
       "    }\n",
       "</style>\n",
       "<table border=\"1\" class=\"dataframe\">\n",
       "  <thead>\n",
       "    <tr style=\"text-align: right;\">\n",
       "      <th></th>\n",
       "      <th>search_tag</th>\n",
       "      <th>image_ids</th>\n",
       "      <th>matched_image_ct</th>\n",
       "      <th>search_results</th>\n",
       "    </tr>\n",
       "  </thead>\n",
       "  <tbody>\n",
       "    <tr>\n",
       "      <th>0</th>\n",
       "      <td>wall</td>\n",
       "      <td>[285966, 832, 512, 2399605, 2377478, 2390176, ...</td>\n",
       "      <td>208</td>\n",
       "      <td>['2356720', '2391643', '2331561', '2396458', '...</td>\n",
       "    </tr>\n",
       "    <tr>\n",
       "      <th>1</th>\n",
       "      <td>street light</td>\n",
       "      <td>[832, 2377478, 2357116, 2369703, 285812, 23340...</td>\n",
       "      <td>13</td>\n",
       "      <td>['2346143', '2325260', '2357116', '2376249', '...</td>\n",
       "    </tr>\n",
       "    <tr>\n",
       "      <th>2</th>\n",
       "      <td>pole</td>\n",
       "      <td>[2329504, 2405367, 2318141, 2323433, 2403833, ...</td>\n",
       "      <td>128</td>\n",
       "      <td>['2413632', '2365776', '2361335', '2385842', '...</td>\n",
       "    </tr>\n",
       "    <tr>\n",
       "      <th>3</th>\n",
       "      <td>shirt</td>\n",
       "      <td>[2329504, 2347788, 2325505, 2417733, 2338858, ...</td>\n",
       "      <td>210</td>\n",
       "      <td>['2338592', '2415636', '2317318', '2390763', '...</td>\n",
       "    </tr>\n",
       "    <tr>\n",
       "      <th>4</th>\n",
       "      <td>building</td>\n",
       "      <td>[2329504, 150439, 2378215, 2377478, 2323433, 2...</td>\n",
       "      <td>190</td>\n",
       "      <td>['2867', '2392594', '2365776', '2391643', '186...</td>\n",
       "    </tr>\n",
       "  </tbody>\n",
       "</table>\n",
       "</div>"
      ],
      "text/plain": [
       "     search_tag                                          image_ids  \\\n",
       "0          wall  [285966, 832, 512, 2399605, 2377478, 2390176, ...   \n",
       "1  street light  [832, 2377478, 2357116, 2369703, 285812, 23340...   \n",
       "2          pole  [2329504, 2405367, 2318141, 2323433, 2403833, ...   \n",
       "3         shirt  [2329504, 2347788, 2325505, 2417733, 2338858, ...   \n",
       "4      building  [2329504, 150439, 2378215, 2377478, 2323433, 2...   \n",
       "\n",
       "   matched_image_ct                                     search_results  \n",
       "0               208  ['2356720', '2391643', '2331561', '2396458', '...  \n",
       "1                13  ['2346143', '2325260', '2357116', '2376249', '...  \n",
       "2               128  ['2413632', '2365776', '2361335', '2385842', '...  \n",
       "3               210  ['2338592', '2415636', '2317318', '2390763', '...  \n",
       "4               190  ['2867', '2392594', '2365776', '2391643', '186...  "
      ]
     },
     "execution_count": 21,
     "metadata": {},
     "output_type": "execute_result"
    }
   ],
   "source": [
    "df_judgement.head()"
   ]
  },
  {
   "cell_type": "markdown",
   "id": "4644d46e-063d-4226-85b3-dd0c527889d1",
   "metadata": {},
   "source": [
    "Let's convert the `search_results` column into a list."
   ]
  },
  {
   "cell_type": "code",
   "execution_count": 22,
   "id": "262fc0a1-cb64-46f7-9b56-f497d61abd41",
   "metadata": {},
   "outputs": [
    {
     "data": {
      "text/html": [
       "<div>\n",
       "<style scoped>\n",
       "    .dataframe tbody tr th:only-of-type {\n",
       "        vertical-align: middle;\n",
       "    }\n",
       "\n",
       "    .dataframe tbody tr th {\n",
       "        vertical-align: top;\n",
       "    }\n",
       "\n",
       "    .dataframe thead th {\n",
       "        text-align: right;\n",
       "    }\n",
       "</style>\n",
       "<table border=\"1\" class=\"dataframe\">\n",
       "  <thead>\n",
       "    <tr style=\"text-align: right;\">\n",
       "      <th></th>\n",
       "      <th>search_tag</th>\n",
       "      <th>image_ids</th>\n",
       "      <th>matched_image_ct</th>\n",
       "      <th>search_results</th>\n",
       "    </tr>\n",
       "  </thead>\n",
       "  <tbody>\n",
       "    <tr>\n",
       "      <th>0</th>\n",
       "      <td>wall</td>\n",
       "      <td>[285966, 832, 512, 2399605, 2377478, 2390176, ...</td>\n",
       "      <td>208</td>\n",
       "      <td>[2356720, 2391643, 2331561, 2396458, 2392594, ...</td>\n",
       "    </tr>\n",
       "    <tr>\n",
       "      <th>1</th>\n",
       "      <td>street light</td>\n",
       "      <td>[832, 2377478, 2357116, 2369703, 285812, 23340...</td>\n",
       "      <td>13</td>\n",
       "      <td>[2346143, 2325260, 2357116, 2376249, 2369703, ...</td>\n",
       "    </tr>\n",
       "    <tr>\n",
       "      <th>2</th>\n",
       "      <td>pole</td>\n",
       "      <td>[2329504, 2405367, 2318141, 2323433, 2403833, ...</td>\n",
       "      <td>128</td>\n",
       "      <td>[2413632, 2365776, 2361335, 2385842, 2401000, ...</td>\n",
       "    </tr>\n",
       "    <tr>\n",
       "      <th>3</th>\n",
       "      <td>shirt</td>\n",
       "      <td>[2329504, 2347788, 2325505, 2417733, 2338858, ...</td>\n",
       "      <td>210</td>\n",
       "      <td>[2338592, 2415636, 2317318, 2390763, 2356510, ...</td>\n",
       "    </tr>\n",
       "    <tr>\n",
       "      <th>4</th>\n",
       "      <td>building</td>\n",
       "      <td>[2329504, 150439, 2378215, 2377478, 2323433, 2...</td>\n",
       "      <td>190</td>\n",
       "      <td>[2867, 2392594, 2365776, 2391643, 1869, 4341, ...</td>\n",
       "    </tr>\n",
       "  </tbody>\n",
       "</table>\n",
       "</div>"
      ],
      "text/plain": [
       "     search_tag                                          image_ids  \\\n",
       "0          wall  [285966, 832, 512, 2399605, 2377478, 2390176, ...   \n",
       "1  street light  [832, 2377478, 2357116, 2369703, 285812, 23340...   \n",
       "2          pole  [2329504, 2405367, 2318141, 2323433, 2403833, ...   \n",
       "3         shirt  [2329504, 2347788, 2325505, 2417733, 2338858, ...   \n",
       "4      building  [2329504, 150439, 2378215, 2377478, 2323433, 2...   \n",
       "\n",
       "   matched_image_ct                                     search_results  \n",
       "0               208  [2356720, 2391643, 2331561, 2396458, 2392594, ...  \n",
       "1                13  [2346143, 2325260, 2357116, 2376249, 2369703, ...  \n",
       "2               128  [2413632, 2365776, 2361335, 2385842, 2401000, ...  \n",
       "3               210  [2338592, 2415636, 2317318, 2390763, 2356510, ...  \n",
       "4               190  [2867, 2392594, 2365776, 2391643, 1869, 4341, ...  "
      ]
     },
     "execution_count": 22,
     "metadata": {},
     "output_type": "execute_result"
    }
   ],
   "source": [
    "df_judgement[\"search_results\"] = df_judgement[\"search_results\"].apply(\n",
    "    lambda x: list(map(int, ast.literal_eval(x))))\n",
    "\n",
    "df_judgement.head()"
   ]
  },
  {
   "cell_type": "markdown",
   "id": "0ea51efa-f157-427a-ae2c-90d35fec2ce8",
   "metadata": {},
   "source": [
    "### Evals"
   ]
  },
  {
   "cell_type": "markdown",
   "id": "ec0ed900-3809-43c8-b7ce-6652ee9802ed",
   "metadata": {},
   "source": [
    "We can now compare the search results (matched images) with the ground truth."
   ]
  },
  {
   "cell_type": "code",
   "execution_count": 23,
   "id": "34173b54-9544-4a7c-aef5-deb8feb90f33",
   "metadata": {},
   "outputs": [
    {
     "data": {
      "text/html": [
       "<div>\n",
       "<style scoped>\n",
       "    .dataframe tbody tr th:only-of-type {\n",
       "        vertical-align: middle;\n",
       "    }\n",
       "\n",
       "    .dataframe tbody tr th {\n",
       "        vertical-align: top;\n",
       "    }\n",
       "\n",
       "    .dataframe thead th {\n",
       "        text-align: right;\n",
       "    }\n",
       "</style>\n",
       "<table border=\"1\" class=\"dataframe\">\n",
       "  <thead>\n",
       "    <tr style=\"text-align: right;\">\n",
       "      <th></th>\n",
       "      <th>search_tag</th>\n",
       "      <th>image_ids</th>\n",
       "      <th>matched_image_ct</th>\n",
       "      <th>search_results</th>\n",
       "      <th>common_count</th>\n",
       "    </tr>\n",
       "  </thead>\n",
       "  <tbody>\n",
       "    <tr>\n",
       "      <th>0</th>\n",
       "      <td>wall</td>\n",
       "      <td>[285966, 832, 512, 2399605, 2377478, 2390176, ...</td>\n",
       "      <td>208</td>\n",
       "      <td>[2356720, 2391643, 2331561, 2396458, 2392594, ...</td>\n",
       "      <td>7</td>\n",
       "    </tr>\n",
       "    <tr>\n",
       "      <th>1</th>\n",
       "      <td>street light</td>\n",
       "      <td>[832, 2377478, 2357116, 2369703, 285812, 23340...</td>\n",
       "      <td>13</td>\n",
       "      <td>[2346143, 2325260, 2357116, 2376249, 2369703, ...</td>\n",
       "      <td>5</td>\n",
       "    </tr>\n",
       "    <tr>\n",
       "      <th>2</th>\n",
       "      <td>pole</td>\n",
       "      <td>[2329504, 2405367, 2318141, 2323433, 2403833, ...</td>\n",
       "      <td>128</td>\n",
       "      <td>[2413632, 2365776, 2361335, 2385842, 2401000, ...</td>\n",
       "      <td>8</td>\n",
       "    </tr>\n",
       "    <tr>\n",
       "      <th>3</th>\n",
       "      <td>shirt</td>\n",
       "      <td>[2329504, 2347788, 2325505, 2417733, 2338858, ...</td>\n",
       "      <td>210</td>\n",
       "      <td>[2338592, 2415636, 2317318, 2390763, 2356510, ...</td>\n",
       "      <td>8</td>\n",
       "    </tr>\n",
       "    <tr>\n",
       "      <th>4</th>\n",
       "      <td>building</td>\n",
       "      <td>[2329504, 150439, 2378215, 2377478, 2323433, 2...</td>\n",
       "      <td>190</td>\n",
       "      <td>[2867, 2392594, 2365776, 2391643, 1869, 4341, ...</td>\n",
       "      <td>9</td>\n",
       "    </tr>\n",
       "    <tr>\n",
       "      <th>5</th>\n",
       "      <td>grass</td>\n",
       "      <td>[2318253, 2325505, 2408241, 2370306, 2348450, ...</td>\n",
       "      <td>157</td>\n",
       "      <td>[2365362, 2351034, 2380367, 2336529, 2347309, ...</td>\n",
       "      <td>10</td>\n",
       "    </tr>\n",
       "    <tr>\n",
       "      <th>6</th>\n",
       "      <td>sky</td>\n",
       "      <td>[2366867, 2329504, 2417733, 2398437, 832, 2405...</td>\n",
       "      <td>214</td>\n",
       "      <td>[2326381, 2329873, 2365362, 1593, 2369158, 233...</td>\n",
       "      <td>10</td>\n",
       "    </tr>\n",
       "    <tr>\n",
       "      <th>7</th>\n",
       "      <td>head</td>\n",
       "      <td>[2329504, 2325505, 2417733, 2398437, 2318141, ...</td>\n",
       "      <td>169</td>\n",
       "      <td>[2342714, 2332438, 2398437, 2317685, 2318141, ...</td>\n",
       "      <td>9</td>\n",
       "    </tr>\n",
       "    <tr>\n",
       "      <th>8</th>\n",
       "      <td>ground</td>\n",
       "      <td>[2347788, 2318253, 2333971, 2318141, 2370306, ...</td>\n",
       "      <td>226</td>\n",
       "      <td>[2330697, 2401032, 2338592, 2380367, 2336468, ...</td>\n",
       "      <td>6</td>\n",
       "    </tr>\n",
       "    <tr>\n",
       "      <th>9</th>\n",
       "      <td>collar</td>\n",
       "      <td>[2338858, 2407115, 2330169, 2356769, 2360082, ...</td>\n",
       "      <td>20</td>\n",
       "      <td>[2339493, 2390598, 2417994, 2325266, 2318379, ...</td>\n",
       "      <td>5</td>\n",
       "    </tr>\n",
       "    <tr>\n",
       "      <th>10</th>\n",
       "      <td>window</td>\n",
       "      <td>[2378980, 2329504, 2325122, 2400061, 2378215, ...</td>\n",
       "      <td>178</td>\n",
       "      <td>[2867, 4341, 1869, 2391643, 1160109, 2368936, ...</td>\n",
       "      <td>9</td>\n",
       "    </tr>\n",
       "    <tr>\n",
       "      <th>11</th>\n",
       "      <td>woman</td>\n",
       "      <td>[2347788, 2325122, 2378467, 2321096, 2332467, ...</td>\n",
       "      <td>116</td>\n",
       "      <td>[2326255, 2330169, 2315973, 2385257, 2386910, ...</td>\n",
       "      <td>6</td>\n",
       "    </tr>\n",
       "    <tr>\n",
       "      <th>12</th>\n",
       "      <td>man</td>\n",
       "      <td>[2329504, 2325505, 2417733, 2408241, 285966, 2...</td>\n",
       "      <td>271</td>\n",
       "      <td>[2342083, 2349766, 2365452, 2356510, 2327087, ...</td>\n",
       "      <td>10</td>\n",
       "    </tr>\n",
       "    <tr>\n",
       "      <th>13</th>\n",
       "      <td>side</td>\n",
       "      <td>[2378214, 2415636, 2357116, 2367149, 2381037, ...</td>\n",
       "      <td>28</td>\n",
       "      <td>[2383854, 2346143, 2405965, 2342714, 2332438, ...</td>\n",
       "      <td>0</td>\n",
       "    </tr>\n",
       "    <tr>\n",
       "      <th>14</th>\n",
       "      <td>tree</td>\n",
       "      <td>[2378980, 2398437, 832, 2405367, 107926, 23782...</td>\n",
       "      <td>194</td>\n",
       "      <td>[4877, 2405991, 2336135, 2318779, 2378215, 239...</td>\n",
       "      <td>7</td>\n",
       "    </tr>\n",
       "  </tbody>\n",
       "</table>\n",
       "</div>"
      ],
      "text/plain": [
       "      search_tag                                          image_ids  \\\n",
       "0           wall  [285966, 832, 512, 2399605, 2377478, 2390176, ...   \n",
       "1   street light  [832, 2377478, 2357116, 2369703, 285812, 23340...   \n",
       "2           pole  [2329504, 2405367, 2318141, 2323433, 2403833, ...   \n",
       "3          shirt  [2329504, 2347788, 2325505, 2417733, 2338858, ...   \n",
       "4       building  [2329504, 150439, 2378215, 2377478, 2323433, 2...   \n",
       "5          grass  [2318253, 2325505, 2408241, 2370306, 2348450, ...   \n",
       "6            sky  [2366867, 2329504, 2417733, 2398437, 832, 2405...   \n",
       "7           head  [2329504, 2325505, 2417733, 2398437, 2318141, ...   \n",
       "8         ground  [2347788, 2318253, 2333971, 2318141, 2370306, ...   \n",
       "9         collar  [2338858, 2407115, 2330169, 2356769, 2360082, ...   \n",
       "10        window  [2378980, 2329504, 2325122, 2400061, 2378215, ...   \n",
       "11         woman  [2347788, 2325122, 2378467, 2321096, 2332467, ...   \n",
       "12           man  [2329504, 2325505, 2417733, 2408241, 285966, 2...   \n",
       "13          side  [2378214, 2415636, 2357116, 2367149, 2381037, ...   \n",
       "14          tree  [2378980, 2398437, 832, 2405367, 107926, 23782...   \n",
       "\n",
       "    matched_image_ct                                     search_results  \\\n",
       "0                208  [2356720, 2391643, 2331561, 2396458, 2392594, ...   \n",
       "1                 13  [2346143, 2325260, 2357116, 2376249, 2369703, ...   \n",
       "2                128  [2413632, 2365776, 2361335, 2385842, 2401000, ...   \n",
       "3                210  [2338592, 2415636, 2317318, 2390763, 2356510, ...   \n",
       "4                190  [2867, 2392594, 2365776, 2391643, 1869, 4341, ...   \n",
       "5                157  [2365362, 2351034, 2380367, 2336529, 2347309, ...   \n",
       "6                214  [2326381, 2329873, 2365362, 1593, 2369158, 233...   \n",
       "7                169  [2342714, 2332438, 2398437, 2317685, 2318141, ...   \n",
       "8                226  [2330697, 2401032, 2338592, 2380367, 2336468, ...   \n",
       "9                 20  [2339493, 2390598, 2417994, 2325266, 2318379, ...   \n",
       "10               178  [2867, 4341, 1869, 2391643, 1160109, 2368936, ...   \n",
       "11               116  [2326255, 2330169, 2315973, 2385257, 2386910, ...   \n",
       "12               271  [2342083, 2349766, 2365452, 2356510, 2327087, ...   \n",
       "13                28  [2383854, 2346143, 2405965, 2342714, 2332438, ...   \n",
       "14               194  [4877, 2405991, 2336135, 2318779, 2378215, 239...   \n",
       "\n",
       "    common_count  \n",
       "0              7  \n",
       "1              5  \n",
       "2              8  \n",
       "3              8  \n",
       "4              9  \n",
       "5             10  \n",
       "6             10  \n",
       "7              9  \n",
       "8              6  \n",
       "9              5  \n",
       "10             9  \n",
       "11             6  \n",
       "12            10  \n",
       "13             0  \n",
       "14             7  "
      ]
     },
     "execution_count": 23,
     "metadata": {},
     "output_type": "execute_result"
    }
   ],
   "source": [
    "# count the number of correctly identified images\n",
    "\n",
    "df_judgement[\"common_count\"] = df_judgement.apply(\n",
    "    lambda row: len(set(row[\"image_ids\"]) & set(row[\"search_results\"])), axis=1)\n",
    "\n",
    "df_judgement"
   ]
  },
  {
   "cell_type": "markdown",
   "id": "f4fc162b-145d-41b9-adf3-e086c0cab72c",
   "metadata": {},
   "source": [
    "#### Calculate precision and recall"
   ]
  },
  {
   "cell_type": "code",
   "execution_count": 24,
   "id": "5e729852-13eb-44a8-abe6-4d08ca6caf49",
   "metadata": {},
   "outputs": [
    {
     "data": {
      "text/html": [
       "<div>\n",
       "<style scoped>\n",
       "    .dataframe tbody tr th:only-of-type {\n",
       "        vertical-align: middle;\n",
       "    }\n",
       "\n",
       "    .dataframe tbody tr th {\n",
       "        vertical-align: top;\n",
       "    }\n",
       "\n",
       "    .dataframe thead th {\n",
       "        text-align: right;\n",
       "    }\n",
       "</style>\n",
       "<table border=\"1\" class=\"dataframe\">\n",
       "  <thead>\n",
       "    <tr style=\"text-align: right;\">\n",
       "      <th></th>\n",
       "      <th>search_tag</th>\n",
       "      <th>image_ids</th>\n",
       "      <th>matched_image_ct</th>\n",
       "      <th>search_results</th>\n",
       "      <th>common_count</th>\n",
       "      <th>precision</th>\n",
       "      <th>recall_at_10</th>\n",
       "    </tr>\n",
       "  </thead>\n",
       "  <tbody>\n",
       "    <tr>\n",
       "      <th>0</th>\n",
       "      <td>wall</td>\n",
       "      <td>[285966, 832, 512, 2399605, 2377478, 2390176, ...</td>\n",
       "      <td>208</td>\n",
       "      <td>[2356720, 2391643, 2331561, 2396458, 2392594, ...</td>\n",
       "      <td>7</td>\n",
       "      <td>0.7</td>\n",
       "      <td>0.033654</td>\n",
       "    </tr>\n",
       "    <tr>\n",
       "      <th>1</th>\n",
       "      <td>street light</td>\n",
       "      <td>[832, 2377478, 2357116, 2369703, 285812, 23340...</td>\n",
       "      <td>13</td>\n",
       "      <td>[2346143, 2325260, 2357116, 2376249, 2369703, ...</td>\n",
       "      <td>5</td>\n",
       "      <td>0.5</td>\n",
       "      <td>0.384615</td>\n",
       "    </tr>\n",
       "    <tr>\n",
       "      <th>2</th>\n",
       "      <td>pole</td>\n",
       "      <td>[2329504, 2405367, 2318141, 2323433, 2403833, ...</td>\n",
       "      <td>128</td>\n",
       "      <td>[2413632, 2365776, 2361335, 2385842, 2401000, ...</td>\n",
       "      <td>8</td>\n",
       "      <td>0.8</td>\n",
       "      <td>0.062500</td>\n",
       "    </tr>\n",
       "    <tr>\n",
       "      <th>3</th>\n",
       "      <td>shirt</td>\n",
       "      <td>[2329504, 2347788, 2325505, 2417733, 2338858, ...</td>\n",
       "      <td>210</td>\n",
       "      <td>[2338592, 2415636, 2317318, 2390763, 2356510, ...</td>\n",
       "      <td>8</td>\n",
       "      <td>0.8</td>\n",
       "      <td>0.038095</td>\n",
       "    </tr>\n",
       "    <tr>\n",
       "      <th>4</th>\n",
       "      <td>building</td>\n",
       "      <td>[2329504, 150439, 2378215, 2377478, 2323433, 2...</td>\n",
       "      <td>190</td>\n",
       "      <td>[2867, 2392594, 2365776, 2391643, 1869, 4341, ...</td>\n",
       "      <td>9</td>\n",
       "      <td>0.9</td>\n",
       "      <td>0.047368</td>\n",
       "    </tr>\n",
       "  </tbody>\n",
       "</table>\n",
       "</div>"
      ],
      "text/plain": [
       "     search_tag                                          image_ids  \\\n",
       "0          wall  [285966, 832, 512, 2399605, 2377478, 2390176, ...   \n",
       "1  street light  [832, 2377478, 2357116, 2369703, 285812, 23340...   \n",
       "2          pole  [2329504, 2405367, 2318141, 2323433, 2403833, ...   \n",
       "3         shirt  [2329504, 2347788, 2325505, 2417733, 2338858, ...   \n",
       "4      building  [2329504, 150439, 2378215, 2377478, 2323433, 2...   \n",
       "\n",
       "   matched_image_ct                                     search_results  \\\n",
       "0               208  [2356720, 2391643, 2331561, 2396458, 2392594, ...   \n",
       "1                13  [2346143, 2325260, 2357116, 2376249, 2369703, ...   \n",
       "2               128  [2413632, 2365776, 2361335, 2385842, 2401000, ...   \n",
       "3               210  [2338592, 2415636, 2317318, 2390763, 2356510, ...   \n",
       "4               190  [2867, 2392594, 2365776, 2391643, 1869, 4341, ...   \n",
       "\n",
       "   common_count  precision  recall_at_10  \n",
       "0             7        0.7      0.033654  \n",
       "1             5        0.5      0.384615  \n",
       "2             8        0.8      0.062500  \n",
       "3             8        0.8      0.038095  \n",
       "4             9        0.9      0.047368  "
      ]
     },
     "execution_count": 24,
     "metadata": {},
     "output_type": "execute_result"
    }
   ],
   "source": [
    "# precision: how many of the matched images are actually correct?\n",
    "df_judgement['precision'] = df_judgement['common_count'] / num_search_results\n",
    "\n",
    "# recall: how many of the correct images are captured by search\n",
    "df_judgement[f'recall_at_{num_search_results}'] = df_judgement['common_count'] / df_judgement['matched_image_ct'] \n",
    "\n",
    "df_judgement.head()"
   ]
  },
  {
   "cell_type": "markdown",
   "id": "aeab4cd9-21b0-44ce-8fb9-f1316fc10267",
   "metadata": {},
   "source": [
    "#### Average percision and recall"
   ]
  },
  {
   "cell_type": "code",
   "execution_count": 27,
   "id": "e18d0569-ebe1-4ad1-bbec-b86f04a3b719",
   "metadata": {},
   "outputs": [
    {
     "name": "stdout",
     "output_type": "stream",
     "text": [
      "Average Precision: 0.73\n",
      "Average Recall (at 10): 0.08\n"
     ]
    }
   ],
   "source": [
    "print(f\"Average Precision: {df_judgement['precision'].mean():.2f}\")\n",
    "\n",
    "print(f\"Average Recall (at 10): {df_judgement['recall_at_10'].mean():.2f}\")"
   ]
  },
  {
   "cell_type": "markdown",
   "id": "09406faa-363c-42ac-bf53-e3d4513c6d4d",
   "metadata": {},
   "source": [
    "The recall is very low, which shouldn't be surprising because we are returning only ten results from search. Increasing this number would improve the recall (and, most likely, hurt precision). In practice, a similarity threshold should be used to restrict the number of results instead of a static number (like ten)."
   ]
  }
 ],
 "metadata": {
  "kernelspec": {
   "display_name": "Python 3 (ipykernel)",
   "language": "python",
   "name": "python3"
  },
  "language_info": {
   "codemirror_mode": {
    "name": "ipython",
    "version": 3
   },
   "file_extension": ".py",
   "mimetype": "text/x-python",
   "name": "python",
   "nbconvert_exporter": "python",
   "pygments_lexer": "ipython3",
   "version": "3.10.12"
  }
 },
 "nbformat": 4,
 "nbformat_minor": 5
}
