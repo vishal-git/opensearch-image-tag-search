{
 "cells": [
  {
   "cell_type": "markdown",
   "id": "b51b96db-0466-4a78-989d-48ca30946551",
   "metadata": {},
   "source": [
    "Now that we have configured OpenSearch and created an ingestion pipeline, we will ingest the **Visual Genome** dataset that we created in the [first notebook](01_load_data.ipynb)."
   ]
  },
  {
   "cell_type": "code",
   "execution_count": 1,
   "id": "99bd4095-c2e2-4db0-88e2-18cf8e2bc9e3",
   "metadata": {},
   "outputs": [],
   "source": [
    "import ast\n",
    "import json\n",
    "import requests\n",
    "import pandas as pd\n",
    "from opensearchpy import OpenSearch"
   ]
  },
  {
   "cell_type": "markdown",
   "id": "da33c647-1d3f-4267-a026-149650445c48",
   "metadata": {},
   "source": [
    "### Read the dataset"
   ]
  },
  {
   "cell_type": "code",
   "execution_count": 2,
   "id": "047ddb05-0430-4808-9c22-2c95949ac980",
   "metadata": {},
   "outputs": [
    {
     "data": {
      "text/plain": [
       "(1000, 3)"
      ]
     },
     "execution_count": 2,
     "metadata": {},
     "output_type": "execute_result"
    }
   ],
   "source": [
    "df = pd.read_csv('../data/vgenome_sample_1k.csv', index_col=0)\n",
    "df.shape"
   ]
  },
  {
   "cell_type": "code",
   "execution_count": 3,
   "id": "cb845cb6-5d3c-4865-babd-ab6df34f4322",
   "metadata": {},
   "outputs": [
    {
     "data": {
      "text/html": [
       "<div>\n",
       "<style scoped>\n",
       "    .dataframe tbody tr th:only-of-type {\n",
       "        vertical-align: middle;\n",
       "    }\n",
       "\n",
       "    .dataframe tbody tr th {\n",
       "        vertical-align: top;\n",
       "    }\n",
       "\n",
       "    .dataframe thead th {\n",
       "        text-align: right;\n",
       "    }\n",
       "</style>\n",
       "<table border=\"1\" class=\"dataframe\">\n",
       "  <thead>\n",
       "    <tr style=\"text-align: right;\">\n",
       "      <th></th>\n",
       "      <th>image_id</th>\n",
       "      <th>image_url</th>\n",
       "      <th>tags</th>\n",
       "    </tr>\n",
       "  </thead>\n",
       "  <tbody>\n",
       "    <tr>\n",
       "      <th>53559</th>\n",
       "      <td>2366867</td>\n",
       "      <td>http://crowdfile.blob.core.chinacloudapi.cn/46...</td>\n",
       "      <td>['birds', 'camera', 'bird', 'sky', 'neck', 'pe...</td>\n",
       "    </tr>\n",
       "    <tr>\n",
       "      <th>41981</th>\n",
       "      <td>2378980</td>\n",
       "      <td>http://crowdfile.blob.core.chinacloudapi.cn/46...</td>\n",
       "      <td>['window', 'line', 'double door', 'front winds...</td>\n",
       "    </tr>\n",
       "    <tr>\n",
       "      <th>89244</th>\n",
       "      <td>2329504</td>\n",
       "      <td>http://crowdfile.blob.core.chinacloudapi.cn/46...</td>\n",
       "      <td>['window', 'head', 'man', 'flag', 'pole', 'lig...</td>\n",
       "    </tr>\n",
       "    <tr>\n",
       "      <th>71785</th>\n",
       "      <td>2347788</td>\n",
       "      <td>http://crowdfile.blob.core.chinacloudapi.cn/46...</td>\n",
       "      <td>['headband', 'kid', 'child', 'whisk', 'visor',...</td>\n",
       "    </tr>\n",
       "    <tr>\n",
       "      <th>100014</th>\n",
       "      <td>2318253</td>\n",
       "      <td>http://crowdfile.blob.core.chinacloudapi.cn/46...</td>\n",
       "      <td>['bear', 'eye', 'claws', 'face', 'grass', 'mou...</td>\n",
       "    </tr>\n",
       "  </tbody>\n",
       "</table>\n",
       "</div>"
      ],
      "text/plain": [
       "        image_id                                          image_url  \\\n",
       "53559    2366867  http://crowdfile.blob.core.chinacloudapi.cn/46...   \n",
       "41981    2378980  http://crowdfile.blob.core.chinacloudapi.cn/46...   \n",
       "89244    2329504  http://crowdfile.blob.core.chinacloudapi.cn/46...   \n",
       "71785    2347788  http://crowdfile.blob.core.chinacloudapi.cn/46...   \n",
       "100014   2318253  http://crowdfile.blob.core.chinacloudapi.cn/46...   \n",
       "\n",
       "                                                     tags  \n",
       "53559   ['birds', 'camera', 'bird', 'sky', 'neck', 'pe...  \n",
       "41981   ['window', 'line', 'double door', 'front winds...  \n",
       "89244   ['window', 'head', 'man', 'flag', 'pole', 'lig...  \n",
       "71785   ['headband', 'kid', 'child', 'whisk', 'visor',...  \n",
       "100014  ['bear', 'eye', 'claws', 'face', 'grass', 'mou...  "
      ]
     },
     "execution_count": 3,
     "metadata": {},
     "output_type": "execute_result"
    }
   ],
   "source": [
    "df.head()"
   ]
  },
  {
   "cell_type": "code",
   "execution_count": 4,
   "id": "2f6568a9-da0a-4f14-b9ef-812b4a20bdc3",
   "metadata": {},
   "outputs": [
    {
     "data": {
      "text/plain": [
       "str"
      ]
     },
     "execution_count": 4,
     "metadata": {},
     "output_type": "execute_result"
    }
   ],
   "source": [
    "type(df.iloc[0, 2])"
   ]
  },
  {
   "cell_type": "markdown",
   "id": "80365311-3cca-4d79-bfaa-6e37d996d357",
   "metadata": {},
   "source": [
    "The `tags` column was read in as a string. Let's change that into a list of strings."
   ]
  },
  {
   "cell_type": "code",
   "execution_count": 5,
   "id": "03166186-e901-4b5a-89d8-e9350cf463ba",
   "metadata": {},
   "outputs": [
    {
     "data": {
      "text/html": [
       "<div>\n",
       "<style scoped>\n",
       "    .dataframe tbody tr th:only-of-type {\n",
       "        vertical-align: middle;\n",
       "    }\n",
       "\n",
       "    .dataframe tbody tr th {\n",
       "        vertical-align: top;\n",
       "    }\n",
       "\n",
       "    .dataframe thead th {\n",
       "        text-align: right;\n",
       "    }\n",
       "</style>\n",
       "<table border=\"1\" class=\"dataframe\">\n",
       "  <thead>\n",
       "    <tr style=\"text-align: right;\">\n",
       "      <th></th>\n",
       "      <th>image_id</th>\n",
       "      <th>image_url</th>\n",
       "      <th>tags_list</th>\n",
       "    </tr>\n",
       "  </thead>\n",
       "  <tbody>\n",
       "    <tr>\n",
       "      <th>53559</th>\n",
       "      <td>2366867</td>\n",
       "      <td>http://crowdfile.blob.core.chinacloudapi.cn/46...</td>\n",
       "      <td>[birds, camera, bird, sky, neck, peach sky, me...</td>\n",
       "    </tr>\n",
       "    <tr>\n",
       "      <th>41981</th>\n",
       "      <td>2378980</td>\n",
       "      <td>http://crowdfile.blob.core.chinacloudapi.cn/46...</td>\n",
       "      <td>[window, line, double door, front windshield, ...</td>\n",
       "    </tr>\n",
       "    <tr>\n",
       "      <th>89244</th>\n",
       "      <td>2329504</td>\n",
       "      <td>http://crowdfile.blob.core.chinacloudapi.cn/46...</td>\n",
       "      <td>[window, head, man, flag, pole, light, tie, bu...</td>\n",
       "    </tr>\n",
       "    <tr>\n",
       "      <th>71785</th>\n",
       "      <td>2347788</td>\n",
       "      <td>http://crowdfile.blob.core.chinacloudapi.cn/46...</td>\n",
       "      <td>[headband, kid, child, whisk, visor, container...</td>\n",
       "    </tr>\n",
       "    <tr>\n",
       "      <th>100014</th>\n",
       "      <td>2318253</td>\n",
       "      <td>http://crowdfile.blob.core.chinacloudapi.cn/46...</td>\n",
       "      <td>[bear, eye, claws, face, grass, mouth, these, ...</td>\n",
       "    </tr>\n",
       "  </tbody>\n",
       "</table>\n",
       "</div>"
      ],
      "text/plain": [
       "        image_id                                          image_url  \\\n",
       "53559    2366867  http://crowdfile.blob.core.chinacloudapi.cn/46...   \n",
       "41981    2378980  http://crowdfile.blob.core.chinacloudapi.cn/46...   \n",
       "89244    2329504  http://crowdfile.blob.core.chinacloudapi.cn/46...   \n",
       "71785    2347788  http://crowdfile.blob.core.chinacloudapi.cn/46...   \n",
       "100014   2318253  http://crowdfile.blob.core.chinacloudapi.cn/46...   \n",
       "\n",
       "                                                tags_list  \n",
       "53559   [birds, camera, bird, sky, neck, peach sky, me...  \n",
       "41981   [window, line, double door, front windshield, ...  \n",
       "89244   [window, head, man, flag, pole, light, tie, bu...  \n",
       "71785   [headband, kid, child, whisk, visor, container...  \n",
       "100014  [bear, eye, claws, face, grass, mouth, these, ...  "
      ]
     },
     "execution_count": 5,
     "metadata": {},
     "output_type": "execute_result"
    }
   ],
   "source": [
    "df = df.rename(columns={'tags': 'tags_list'})\n",
    "\n",
    "df['tags_list'] = df['tags_list'].apply(ast.literal_eval)\n",
    "\n",
    "df.head()"
   ]
  },
  {
   "cell_type": "markdown",
   "id": "d24ec143-dd30-45a3-8378-5013ba9e04a8",
   "metadata": {},
   "source": [
    "Let's also create a list of all tags a concatenated, single string."
   ]
  },
  {
   "cell_type": "code",
   "execution_count": 6,
   "id": "10adc7fd-ff99-42fe-aee8-aa6444f2c154",
   "metadata": {},
   "outputs": [
    {
     "data": {
      "text/html": [
       "<div>\n",
       "<style scoped>\n",
       "    .dataframe tbody tr th:only-of-type {\n",
       "        vertical-align: middle;\n",
       "    }\n",
       "\n",
       "    .dataframe tbody tr th {\n",
       "        vertical-align: top;\n",
       "    }\n",
       "\n",
       "    .dataframe thead th {\n",
       "        text-align: right;\n",
       "    }\n",
       "</style>\n",
       "<table border=\"1\" class=\"dataframe\">\n",
       "  <thead>\n",
       "    <tr style=\"text-align: right;\">\n",
       "      <th></th>\n",
       "      <th>image_id</th>\n",
       "      <th>image_url</th>\n",
       "      <th>tags_list</th>\n",
       "      <th>tags</th>\n",
       "    </tr>\n",
       "  </thead>\n",
       "  <tbody>\n",
       "    <tr>\n",
       "      <th>53559</th>\n",
       "      <td>2366867</td>\n",
       "      <td>http://crowdfile.blob.core.chinacloudapi.cn/46...</td>\n",
       "      <td>[birds, camera, bird, sky, neck, peach sky, me...</td>\n",
       "      <td>birds camera bird sky neck peach sky metal pol...</td>\n",
       "    </tr>\n",
       "    <tr>\n",
       "      <th>41981</th>\n",
       "      <td>2378980</td>\n",
       "      <td>http://crowdfile.blob.core.chinacloudapi.cn/46...</td>\n",
       "      <td>[window, line, double door, front windshield, ...</td>\n",
       "      <td>window line double door front windshield back ...</td>\n",
       "    </tr>\n",
       "    <tr>\n",
       "      <th>89244</th>\n",
       "      <td>2329504</td>\n",
       "      <td>http://crowdfile.blob.core.chinacloudapi.cn/46...</td>\n",
       "      <td>[window, head, man, flag, pole, light, tie, bu...</td>\n",
       "      <td>window head man flag pole light tie bus car sk...</td>\n",
       "    </tr>\n",
       "    <tr>\n",
       "      <th>71785</th>\n",
       "      <td>2347788</td>\n",
       "      <td>http://crowdfile.blob.core.chinacloudapi.cn/46...</td>\n",
       "      <td>[headband, kid, child, whisk, visor, container...</td>\n",
       "      <td>headband kid child whisk visor container chips...</td>\n",
       "    </tr>\n",
       "    <tr>\n",
       "      <th>100014</th>\n",
       "      <td>2318253</td>\n",
       "      <td>http://crowdfile.blob.core.chinacloudapi.cn/46...</td>\n",
       "      <td>[bear, eye, claws, face, grass, mouth, these, ...</td>\n",
       "      <td>bear eye claws face grass mouth these stone th...</td>\n",
       "    </tr>\n",
       "  </tbody>\n",
       "</table>\n",
       "</div>"
      ],
      "text/plain": [
       "        image_id                                          image_url  \\\n",
       "53559    2366867  http://crowdfile.blob.core.chinacloudapi.cn/46...   \n",
       "41981    2378980  http://crowdfile.blob.core.chinacloudapi.cn/46...   \n",
       "89244    2329504  http://crowdfile.blob.core.chinacloudapi.cn/46...   \n",
       "71785    2347788  http://crowdfile.blob.core.chinacloudapi.cn/46...   \n",
       "100014   2318253  http://crowdfile.blob.core.chinacloudapi.cn/46...   \n",
       "\n",
       "                                                tags_list  \\\n",
       "53559   [birds, camera, bird, sky, neck, peach sky, me...   \n",
       "41981   [window, line, double door, front windshield, ...   \n",
       "89244   [window, head, man, flag, pole, light, tie, bu...   \n",
       "71785   [headband, kid, child, whisk, visor, container...   \n",
       "100014  [bear, eye, claws, face, grass, mouth, these, ...   \n",
       "\n",
       "                                                     tags  \n",
       "53559   birds camera bird sky neck peach sky metal pol...  \n",
       "41981   window line double door front windshield back ...  \n",
       "89244   window head man flag pole light tie bus car sk...  \n",
       "71785   headband kid child whisk visor container chips...  \n",
       "100014  bear eye claws face grass mouth these stone th...  "
      ]
     },
     "execution_count": 6,
     "metadata": {},
     "output_type": "execute_result"
    }
   ],
   "source": [
    "df['tags'] = df['tags_list'].apply(lambda x: \" \".join(x))\n",
    "\n",
    "df.head()"
   ]
  },
  {
   "cell_type": "markdown",
   "id": "c179881b-6f40-4ae8-86db-c76499dd8438",
   "metadata": {},
   "source": [
    "### Ingest data"
   ]
  },
  {
   "cell_type": "markdown",
   "id": "d9b40273-8dab-40a6-8e5d-e582871001c9",
   "metadata": {},
   "source": [
    "Before we ingest data, let's update the OpenSearch configurations by adding the `tags-ingest-pipeline`. Also, in order to use the tags embedding processor that we defined in our pipeline, we also need to create a _k-NN_ index. Since we had named out embedding vector column `tag_embedding`, that's the column that we need to map as a _k-NN_ vector. We also map the `tags` column as a text field."
   ]
  },
  {
   "cell_type": "code",
   "execution_count": 7,
   "id": "0011eb72-b1d4-40b8-b8f3-4b7c3f982971",
   "metadata": {},
   "outputs": [
    {
     "name": "stdout",
     "output_type": "stream",
     "text": [
      "{'settings': {'index.knn': True, 'default_pipeline': 'tags-ingest-pipeline', 'index': {'number_of_shards': 1, 'number_of_replicas': 0, 'mapping.total_fields.limit': 20000}, 'analysis': {'filter': {'english_minimal_stem': {'type': 'stemmer', 'language': 'minimal_english'}}, 'analyzer': {'english_stemmed': {'type': 'custom', 'tokenizer': 'standard', 'filter': ['lowercase', 'english_minimal_stem']}}}}, 'mappings': {'properties': {'tag_embedding': {'type': 'knn_vector', 'dimension': 384, 'method': {'engine': 'lucene', 'space_type': 'l2', 'name': 'hnsw', 'parameters': {}}}, 'tags': {'type': 'text'}, 'product_id': {'type': 'keyword'}, 'product_title': {'type': 'text', 'analyzer': 'english_stemmed'}, 'product_description': {'type': 'text', 'analyzer': 'english_stemmed'}, 'product_bullet_point': {'type': 'text', 'analyzer': 'english_stemmed', 'fielddata': True}, 'product_brand': {'type': 'text', 'analyzer': 'english_stemmed', 'fielddata': True}, 'product_color': {'type': 'text', 'analyzer': 'english_stemmed', 'fielddata': True}}}}\n"
     ]
    }
   ],
   "source": [
    "json_file_path = '../configs/schema.json'\n",
    "\n",
    "with open(json_file_path, 'r') as file:\n",
    "    schema = json.load(file)\n",
    "\n",
    "new_settings = {\n",
    "    \"settings\": {\n",
    "        \"index.knn\": True,\n",
    "        \"default_pipeline\": \"tags-ingest-pipeline\"\n",
    "    }\n",
    "}\n",
    "\n",
    "new_mappings = {\n",
    "    \"mappings\": {\n",
    "        \"properties\": {\n",
    "            \"tag_embedding\": {\n",
    "                \"type\": \"knn_vector\",\n",
    "                \"dimension\": 384,\n",
    "                \"method\": {\n",
    "                    \"engine\": \"lucene\",\n",
    "                    \"space_type\": \"l2\",\n",
    "                    \"name\": \"hnsw\",\n",
    "                    \"parameters\": {}\n",
    "                }\n",
    "            },\n",
    "            \"tags\": {\n",
    "                \"type\": \"text\"\n",
    "            }\n",
    "        }\n",
    "    }\n",
    "}\n",
    "\n",
    "settings = {**new_settings['settings'], **schema['settings']}\n",
    "properties = {**new_mappings['mappings']['properties'], **schema['mappings']['properties']}\n",
    "\n",
    "schema['settings'] = settings\n",
    "schema['mappings']['properties'] = properties\n",
    "\n",
    "print(schema)"
   ]
  },
  {
   "cell_type": "markdown",
   "id": "92015c17-7653-4099-83dc-6ef8ff918583",
   "metadata": {},
   "source": [
    "#### Create an index for ingestion"
   ]
  },
  {
   "cell_type": "markdown",
   "id": "fa55e990-0d44-4bf2-be2f-c1f487e7e660",
   "metadata": {},
   "source": [
    "This index, let's call it `tags_db` will have the `tags-ingest-pipeline` as the defaul pipeline."
   ]
  },
  {
   "cell_type": "code",
   "execution_count": 8,
   "id": "55d24b4e-d4af-4207-a9e3-67b74a58ee4e",
   "metadata": {},
   "outputs": [
    {
     "name": "stdout",
     "output_type": "stream",
     "text": [
      "{'acknowledged': True, 'shards_acknowledged': True, 'index': 'tags_db'}\n"
     ]
    }
   ],
   "source": [
    "url = \"http://localhost:9200/tags_db\"\n",
    "\n",
    "headers = {'Content-Type': 'application/json'}\n",
    "\n",
    "payload = schema\n",
    "\n",
    "# delete if it already exists\n",
    "response = requests.delete(url, headers=headers)\n",
    "\n",
    "response = requests.put(url, headers=headers, data=json.dumps(payload))\n",
    "\n",
    "print(response.json())"
   ]
  },
  {
   "cell_type": "markdown",
   "id": "96aefa07-f281-48fd-828a-6a8447136075",
   "metadata": {},
   "source": [
    "_Now_ we are ready to ingest the documents."
   ]
  },
  {
   "cell_type": "code",
   "execution_count": 9,
   "id": "05391804-789a-421a-bb82-dd19a6a26c8e",
   "metadata": {},
   "outputs": [],
   "source": [
    "host = 'localhost'\n",
    "port = 9200\n",
    "\n",
    "client = OpenSearch(\n",
    "    hosts=[{'host': host, 'port': port}],\n",
    "    http_compress=True,  # enable HTTP compression\n",
    "    use_ssl=False,       # set to True if SSL is enabled on your cluster\n",
    "    verify_certs=False   # set to True if SSL certificates should be verified\n",
    ")\n",
    "\n",
    "index_name = 'tags_db'"
   ]
  },
  {
   "cell_type": "code",
   "execution_count": 10,
   "id": "30874324-5a65-4ff4-892c-b49aa64ee3c3",
   "metadata": {},
   "outputs": [],
   "source": [
    "# input data (to be indexed)\n",
    "docs = df[['image_id', 'tags']].to_dict(orient='records')\n",
    "\n",
    "# we need to convert the dataframe into JSON format\n",
    "json_lines = []\n",
    "for _, row in df.iterrows():\n",
    "    index_entry = {\"index\": {\"_index\": \"tags_db\", \"_id\": row[\"image_id\"]}}\n",
    "    tags_entry = {\"tags\": row[\"tags\"]}\n",
    "    json_lines.append(json.dumps(index_entry))\n",
    "    json_lines.append(json.dumps(tags_entry))\n",
    "\n",
    "# join JSON lines into a single string\n",
    "result = \"\\n\".join(json_lines)"
   ]
  },
  {
   "cell_type": "code",
   "execution_count": 11,
   "id": "2355a4f4-c3cd-4592-a7ff-4692a3e59f1f",
   "metadata": {},
   "outputs": [],
   "source": [
    "# bulk upload (since our dataset is pretty small)\n",
    "\n",
    "response = client.bulk(index=index_name, body=result)"
   ]
  },
  {
   "cell_type": "markdown",
   "id": "54171f61-ed82-4d20-906d-f147d6bb40f8",
   "metadata": {},
   "source": [
    "### Perform default search"
   ]
  },
  {
   "cell_type": "code",
   "execution_count": 12,
   "id": "01cb55ae-43d3-454d-8095-08f9b2355f91",
   "metadata": {},
   "outputs": [
    {
     "name": "stdout",
     "output_type": "stream",
     "text": [
      "{'took': 554, 'timed_out': False, '_shards': {'total': 1, 'successful': 1, 'skipped': 0, 'failed': 0}, 'hits': {'total': {'value': 989, 'relation': 'eq'}, 'max_score': None, 'hits': []}}\n"
     ]
    }
   ],
   "source": [
    "url = \"http://localhost:9200/tags_db/_search\"\n",
    "\n",
    "payload = {\n",
    "    \"query\": {\n",
    "        \"match_all\": {}\n",
    "    },\n",
    "    \"track_total_hits\": \"true\",\n",
    "    \"size\": 0\n",
    "}\n",
    "\n",
    "response = requests.post(url, headers=headers, data=json.dumps(payload))\n",
    "\n",
    "print(response.json())"
   ]
  },
  {
   "cell_type": "code",
   "execution_count": 13,
   "id": "0a5f70bb-2081-4374-b452-35108291994d",
   "metadata": {},
   "outputs": [
    {
     "data": {
      "text/plain": [
       "(1000, 989)"
      ]
     },
     "execution_count": 13,
     "metadata": {},
     "output_type": "execute_result"
    }
   ],
   "source": [
    "df.shape[0], response.json()['hits']['total']['value']"
   ]
  },
  {
   "cell_type": "markdown",
   "id": "7a0a2a6c-9d30-41b4-b252-f7f8ea281d08",
   "metadata": {},
   "source": [
    "For some reason, not all images are loaded (11 were skipped), but that's fine for this exercise. The next step is to perform search using specific search keywords. Let's move on to the [next notebook](03_search_and_eval.ipynb)."
   ]
  }
 ],
 "metadata": {
  "kernelspec": {
   "display_name": "Python 3 (ipykernel)",
   "language": "python",
   "name": "python3"
  },
  "language_info": {
   "codemirror_mode": {
    "name": "ipython",
    "version": 3
   },
   "file_extension": ".py",
   "mimetype": "text/x-python",
   "name": "python",
   "nbconvert_exporter": "python",
   "pygments_lexer": "ipython3",
   "version": "3.10.12"
  }
 },
 "nbformat": 4,
 "nbformat_minor": 5
}
