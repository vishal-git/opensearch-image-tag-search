{
 "cells": [
  {
   "cell_type": "code",
   "execution_count": 1,
   "id": "99bd4095-c2e2-4db0-88e2-18cf8e2bc9e3",
   "metadata": {},
   "outputs": [],
   "source": [
    "import pandas as pd\n",
    "import numpy as np\n",
    "import requests\n",
    "import json\n",
    "from opensearchpy import OpenSearch"
   ]
  },
  {
   "cell_type": "code",
   "execution_count": 10,
   "id": "047ddb05-0430-4808-9c22-2c95949ac980",
   "metadata": {},
   "outputs": [
    {
     "data": {
      "text/html": [
       "<div>\n",
       "<style scoped>\n",
       "    .dataframe tbody tr th:only-of-type {\n",
       "        vertical-align: middle;\n",
       "    }\n",
       "\n",
       "    .dataframe tbody tr th {\n",
       "        vertical-align: top;\n",
       "    }\n",
       "\n",
       "    .dataframe thead th {\n",
       "        text-align: right;\n",
       "    }\n",
       "</style>\n",
       "<table border=\"1\" class=\"dataframe\">\n",
       "  <thead>\n",
       "    <tr style=\"text-align: right;\">\n",
       "      <th></th>\n",
       "      <th>image_id</th>\n",
       "      <th>url</th>\n",
       "      <th>tags</th>\n",
       "    </tr>\n",
       "  </thead>\n",
       "  <tbody>\n",
       "    <tr>\n",
       "      <th>0</th>\n",
       "      <td>1</td>\n",
       "      <td>https://cs.stanford.edu/people/rak248/VG_100K_...</td>\n",
       "      <td>['windows', 'car', 'man', 'trees', 'back', 'tr...</td>\n",
       "    </tr>\n",
       "    <tr>\n",
       "      <th>1</th>\n",
       "      <td>2</td>\n",
       "      <td>https://cs.stanford.edu/people/rak248/VG_100K/...</td>\n",
       "      <td>['sign', 'sidewalk', 'window', 'backpack', 'sn...</td>\n",
       "    </tr>\n",
       "    <tr>\n",
       "      <th>2</th>\n",
       "      <td>3</td>\n",
       "      <td>https://cs.stanford.edu/people/rak248/VG_100K/...</td>\n",
       "      <td>['photos', 'wireless phone', 'chain', 'compute...</td>\n",
       "    </tr>\n",
       "    <tr>\n",
       "      <th>3</th>\n",
       "      <td>4</td>\n",
       "      <td>https://cs.stanford.edu/people/rak248/VG_100K/...</td>\n",
       "      <td>['carpet', 'chair', 'cloths', 'colour', 'frame...</td>\n",
       "    </tr>\n",
       "    <tr>\n",
       "      <th>4</th>\n",
       "      <td>5</td>\n",
       "      <td>https://cs.stanford.edu/people/rak248/VG_100K/...</td>\n",
       "      <td>['windows', 'chair', 'colour', 'paper', 'cable...</td>\n",
       "    </tr>\n",
       "  </tbody>\n",
       "</table>\n",
       "</div>"
      ],
      "text/plain": [
       "   image_id                                                url  \\\n",
       "0         1  https://cs.stanford.edu/people/rak248/VG_100K_...   \n",
       "1         2  https://cs.stanford.edu/people/rak248/VG_100K/...   \n",
       "2         3  https://cs.stanford.edu/people/rak248/VG_100K/...   \n",
       "3         4  https://cs.stanford.edu/people/rak248/VG_100K/...   \n",
       "4         5  https://cs.stanford.edu/people/rak248/VG_100K/...   \n",
       "\n",
       "                                                tags  \n",
       "0  ['windows', 'car', 'man', 'trees', 'back', 'tr...  \n",
       "1  ['sign', 'sidewalk', 'window', 'backpack', 'sn...  \n",
       "2  ['photos', 'wireless phone', 'chain', 'compute...  \n",
       "3  ['carpet', 'chair', 'cloths', 'colour', 'frame...  \n",
       "4  ['windows', 'chair', 'colour', 'paper', 'cable...  "
      ]
     },
     "execution_count": 10,
     "metadata": {},
     "output_type": "execute_result"
    }
   ],
   "source": [
    "df = pd.read_csv('../data/vgenome_sample_1k.csv', index_col=0)\n",
    "df.head()"
   ]
  },
  {
   "cell_type": "code",
   "execution_count": 11,
   "id": "cb845cb6-5d3c-4865-babd-ab6df34f4322",
   "metadata": {},
   "outputs": [
    {
     "data": {
      "text/plain": [
       "(1081, 3)"
      ]
     },
     "execution_count": 11,
     "metadata": {},
     "output_type": "execute_result"
    }
   ],
   "source": [
    "df.shape"
   ]
  },
  {
   "cell_type": "code",
   "execution_count": 12,
   "id": "53ba4228-4c31-46b6-89de-f53894e732db",
   "metadata": {},
   "outputs": [
    {
     "data": {
      "text/html": [
       "<div>\n",
       "<style scoped>\n",
       "    .dataframe tbody tr th:only-of-type {\n",
       "        vertical-align: middle;\n",
       "    }\n",
       "\n",
       "    .dataframe tbody tr th {\n",
       "        vertical-align: top;\n",
       "    }\n",
       "\n",
       "    .dataframe thead th {\n",
       "        text-align: right;\n",
       "    }\n",
       "</style>\n",
       "<table border=\"1\" class=\"dataframe\">\n",
       "  <thead>\n",
       "    <tr style=\"text-align: right;\">\n",
       "      <th></th>\n",
       "      <th>image_id</th>\n",
       "      <th>url</th>\n",
       "      <th>tags_list</th>\n",
       "      <th>tags</th>\n",
       "    </tr>\n",
       "  </thead>\n",
       "  <tbody>\n",
       "    <tr>\n",
       "      <th>0</th>\n",
       "      <td>1</td>\n",
       "      <td>https://cs.stanford.edu/people/rak248/VG_100K_...</td>\n",
       "      <td>[windows, car, man, trees, back, tree trunk, a...</td>\n",
       "      <td>windows car man trees back tree trunk arm bike...</td>\n",
       "    </tr>\n",
       "    <tr>\n",
       "      <th>1</th>\n",
       "      <td>2</td>\n",
       "      <td>https://cs.stanford.edu/people/rak248/VG_100K/...</td>\n",
       "      <td>[sign, sidewalk, window, backpack, sneakers, t...</td>\n",
       "      <td>sign sidewalk window backpack sneakers tree bu...</td>\n",
       "    </tr>\n",
       "    <tr>\n",
       "      <th>2</th>\n",
       "      <td>3</td>\n",
       "      <td>https://cs.stanford.edu/people/rak248/VG_100K/...</td>\n",
       "      <td>[photos, wireless phone, chain, computer tower...</td>\n",
       "      <td>photos wireless phone chain computer tower hai...</td>\n",
       "    </tr>\n",
       "    <tr>\n",
       "      <th>3</th>\n",
       "      <td>4</td>\n",
       "      <td>https://cs.stanford.edu/people/rak248/VG_100K/...</td>\n",
       "      <td>[carpet, chair, cloths, colour, frame, drape, ...</td>\n",
       "      <td>carpet chair cloths colour frame drape table t...</td>\n",
       "    </tr>\n",
       "    <tr>\n",
       "      <th>4</th>\n",
       "      <td>5</td>\n",
       "      <td>https://cs.stanford.edu/people/rak248/VG_100K/...</td>\n",
       "      <td>[windows, chair, colour, paper, cables, color,...</td>\n",
       "      <td>windows chair colour paper cables color shelf ...</td>\n",
       "    </tr>\n",
       "  </tbody>\n",
       "</table>\n",
       "</div>"
      ],
      "text/plain": [
       "   image_id                                                url  \\\n",
       "0         1  https://cs.stanford.edu/people/rak248/VG_100K_...   \n",
       "1         2  https://cs.stanford.edu/people/rak248/VG_100K/...   \n",
       "2         3  https://cs.stanford.edu/people/rak248/VG_100K/...   \n",
       "3         4  https://cs.stanford.edu/people/rak248/VG_100K/...   \n",
       "4         5  https://cs.stanford.edu/people/rak248/VG_100K/...   \n",
       "\n",
       "                                           tags_list  \\\n",
       "0  [windows, car, man, trees, back, tree trunk, a...   \n",
       "1  [sign, sidewalk, window, backpack, sneakers, t...   \n",
       "2  [photos, wireless phone, chain, computer tower...   \n",
       "3  [carpet, chair, cloths, colour, frame, drape, ...   \n",
       "4  [windows, chair, colour, paper, cables, color,...   \n",
       "\n",
       "                                                tags  \n",
       "0  windows car man trees back tree trunk arm bike...  \n",
       "1  sign sidewalk window backpack sneakers tree bu...  \n",
       "2  photos wireless phone chain computer tower hai...  \n",
       "3  carpet chair cloths colour frame drape table t...  \n",
       "4  windows chair colour paper cables color shelf ...  "
      ]
     },
     "execution_count": 12,
     "metadata": {},
     "output_type": "execute_result"
    }
   ],
   "source": [
    "import ast\n",
    "\n",
    "df = df.rename(columns={'tags': 'tags_list'})\n",
    "\n",
    "df['tags_list'] = df['tags_list'].apply(ast.literal_eval)\n",
    "\n",
    "df['tags'] = df['tags_list'].apply(lambda x: \" \".join(x))\n",
    "df.head()"
   ]
  },
  {
   "cell_type": "code",
   "execution_count": 13,
   "id": "0011eb72-b1d4-40b8-b8f3-4b7c3f982971",
   "metadata": {},
   "outputs": [
    {
     "data": {
      "text/html": [
       "<style>.renderjson a              { text-decoration: none; }\n",
       ".renderjson .disclosure    { color: grey; font-size: 125%; }\n",
       ".renderjson .syntax        { color: grey; }\n",
       ".renderjson .string        { color: #fe46a5; }\n",
       ".renderjson .number        { color: #0f9b8e; }\n",
       ".renderjson .boolean       { color: black; }\n",
       ".renderjson .key           { color: #2684ff; }\n",
       ".renderjson .keyword       { color: gray; }\n",
       ".renderjson .object.syntax { color: gray; }\n",
       ".renderjson .array.syntax  { color: gray; }</style><div id=\"e1fe2465-7474-45ec-8e3a-4bf8a54ec861\"></div>"
      ],
      "text/plain": [
       "<IPython.core.display.HTML object>"
      ]
     },
     "metadata": {},
     "output_type": "display_data"
    },
    {
     "data": {
      "text/html": [
       "<script>var renderjson=function(){var t=function(){for(var t=[];arguments.length;)t.push(n(s(Array.prototype.shift.call(arguments)),o(Array.prototype.shift.call(arguments))));return t},n=function(){for(var t=Array.prototype.shift.call(arguments),e=0;e<arguments.length;e++)arguments[e].constructor==Array?n.apply(this,[t].concat(arguments[e])):t.appendChild(arguments[e]);return t},e=function(t,n){return t.insertBefore(n,t.firstChild),t},r=function(t,n){var e=n||Object.keys(t);for(var r in e)if(Object.hasOwnProperty.call(t,e[r]))return!1;return!0},o=function(t){return document.createTextNode(t)},s=function(t){var n=document.createElement(\"span\");return t&&(n.className=t),n},l=function(t,n,e){var r=document.createElement(\"a\");return n&&(r.className=n),r.appendChild(o(t)),r.href=\"#\",r.onclick=function(t){return e(),t&&t.stopPropagation(),!1},r};function a(i,c,u,p,y){var _=u?\"\":c,f=function(r,a,i,c,u){var f,g=s(c),h=function(){f||n(g.parentNode,f=e(u(),l(y.hide,\"disclosure\",(function(){f.style.display=\"none\",g.style.display=\"inline\"})))),f.style.display=\"inline\",g.style.display=\"none\"};n(g,l(y.show,\"disclosure\",h),t(c+\" syntax\",r),l(a,null,h),t(c+\" syntax\",i));var d=n(s(),o(_.slice(0,-1)),g);return p>0&&\"string\"!=c&&h(),d};return null===i?t(null,_,\"keyword\",\"null\"):void 0===i?t(null,_,\"keyword\",\"undefined\"):\"string\"==typeof i&&i.length>y.max_string_length?f('\"',i.substr(0,y.max_string_length)+\" ...\",'\"',\"string\",(function(){return n(s(\"string\"),t(null,_,\"string\",JSON.stringify(i)))})):\"object\"!=typeof i||[Number,String,Boolean,Date].indexOf(i.constructor)>=0?t(null,_,typeof i,JSON.stringify(i)):i.constructor==Array?0==i.length?t(null,_,\"array syntax\",\"[]\"):f(\"[\",y.collapse_msg(i.length),\"]\",\"array\",(function(){for(var e=n(s(\"array\"),t(\"array syntax\",\"[\",null,\"\\n\")),r=0;r<i.length;r++)n(e,a(y.replacer.call(i,r,i[r]),c+\"    \",!1,p-1,y),r!=i.length-1?t(\"syntax\",\",\"):[],o(\"\\n\"));return n(e,t(null,c,\"array syntax\",\"]\")),e})):r(i,y.property_list)?t(null,_,\"object syntax\",\"{}\"):f(\"{\",y.collapse_msg(Object.keys(i).length),\"}\",\"object\",(function(){var e=n(s(\"object\"),t(\"object syntax\",\"{\",null,\"\\n\"));for(var r in i)var l=r;var u=y.property_list||Object.keys(i);for(var _ in y.sort_objects&&(u=u.sort()),u){(r=u[_])in i&&n(e,t(null,c+\"    \",\"key\",'\"'+r+'\"',\"object syntax\",\": \"),a(y.replacer.call(i,r,i[r]),c+\"    \",!0,p-1,y),r!=l?t(\"syntax\",\",\"):[],o(\"\\n\"))}return n(e,t(null,c,\"object syntax\",\"}\")),e}))}var i=function t(e){var r=new Object(t.options);r.replacer=\"function\"==typeof r.replacer?r.replacer:function(t,n){return n};var o=n(document.createElement(\"pre\"),a(e,\"\",!1,r.show_to_level,r));return o.className=\"renderjson\",o};return i.set_icons=function(t,n){return i.options.show=t,i.options.hide=n,i},i.set_show_to_level=function(t){return i.options.show_to_level=\"string\"==typeof t&&\"all\"===t.toLowerCase()?Number.MAX_VALUE:t,i},i.set_max_string_length=function(t){return i.options.max_string_length=\"string\"==typeof t&&\"none\"===t.toLowerCase()?Number.MAX_VALUE:t,i},i.set_sort_objects=function(t){return i.options.sort_objects=t,i},i.set_replacer=function(t){return i.options.replacer=t,i},i.set_collapse_msg=function(t){return i.options.collapse_msg=t,i},i.set_property_list=function(t){return i.options.property_list=t,i},i.set_show_by_default=function(t){return i.options.show_to_level=t?Number.MAX_VALUE:0,i},i.options={},i.set_icons(\"⊕\",\"⊖\"),i.set_show_by_default(!1),i.set_sort_objects(!1),i.set_max_string_length(\"none\"),i.set_replacer(void 0),i.set_property_list(void 0),i.set_collapse_msg((function(t){return t+\" item\"+(1==t?\"\":\"s\")})),i}(); renderjson.set_show_to_level(2); document.getElementById(\"e1fe2465-7474-45ec-8e3a-4bf8a54ec861\").appendChild(renderjson({\"settings\": {\"index.knn\": true, \"default_pipeline\": \"tags-ingest-pipeline\", \"index\": {\"number_of_shards\": 1, \"number_of_replicas\": 0, \"mapping.total_fields.limit\": 20000}, \"analysis\": {\"filter\": {\"english_minimal_stem\": {\"type\": \"stemmer\", \"language\": \"minimal_english\"}}, \"analyzer\": {\"english_stemmed\": {\"type\": \"custom\", \"tokenizer\": \"standard\", \"filter\": [\"lowercase\", \"english_minimal_stem\"]}}}}, \"mappings\": {\"properties\": {\"tag_embedding\": {\"type\": \"knn_vector\", \"dimension\": 384, \"method\": {\"engine\": \"lucene\", \"space_type\": \"l2\", \"name\": \"hnsw\", \"parameters\": {}}}, \"product_id\": {\"type\": \"keyword\"}, \"product_title\": {\"type\": \"text\", \"analyzer\": \"english_stemmed\"}, \"product_description\": {\"type\": \"text\", \"analyzer\": \"english_stemmed\"}, \"product_bullet_point\": {\"type\": \"text\", \"analyzer\": \"english_stemmed\", \"fielddata\": true}, \"product_brand\": {\"type\": \"text\", \"analyzer\": \"english_stemmed\", \"fielddata\": true}, \"product_color\": {\"type\": \"text\", \"analyzer\": \"english_stemmed\", \"fielddata\": true}}}}))</script>"
      ],
      "text/plain": [
       "<IPython.core.display.HTML object>"
      ]
     },
     "metadata": {},
     "output_type": "display_data"
    }
   ],
   "source": [
    "json_file_path = '../configs/schema.json'\n",
    "\n",
    "with open(json_file_path, 'r') as file:\n",
    "    schema = json.load(file)\n",
    "\n",
    "new_settings = {\n",
    "  \"settings\": {\n",
    "    \"index.knn\": True,\n",
    "    \"default_pipeline\": \"tags-ingest-pipeline\"\n",
    "  }\n",
    "}\n",
    "\n",
    "new_mappings = {\n",
    "  \"mappings\": {\n",
    "    \"properties\": {\n",
    "      \"tag_embedding\": {\n",
    "        \"type\": \"knn_vector\",\n",
    "        \"dimension\": 384,\n",
    "        \"method\": {\n",
    "          \"engine\": \"lucene\",\n",
    "          \"space_type\": \"l2\",\n",
    "          \"name\": \"hnsw\",\n",
    "          \"parameters\": {}\n",
    "        }\n",
    "      }      \n",
    "    }\n",
    "  }\n",
    "}\n",
    "\n",
    "settings = {**new_settings['settings'], **schema['settings']}\n",
    "properties = {**new_mappings['mappings']['properties'], **schema['mappings']['properties']}\n",
    "\n",
    "schema['settings'] = settings\n",
    "schema['mappings']['properties'] = properties\n",
    "mr.JSON(schema, level=2)"
   ]
  },
  {
   "cell_type": "code",
   "execution_count": 14,
   "id": "55d24b4e-d4af-4207-a9e3-67b74a58ee4e",
   "metadata": {},
   "outputs": [
    {
     "data": {
      "text/html": [
       "<style>.renderjson a              { text-decoration: none; }\n",
       ".renderjson .disclosure    { color: grey; font-size: 125%; }\n",
       ".renderjson .syntax        { color: grey; }\n",
       ".renderjson .string        { color: #fe46a5; }\n",
       ".renderjson .number        { color: #0f9b8e; }\n",
       ".renderjson .boolean       { color: black; }\n",
       ".renderjson .key           { color: #2684ff; }\n",
       ".renderjson .keyword       { color: gray; }\n",
       ".renderjson .object.syntax { color: gray; }\n",
       ".renderjson .array.syntax  { color: gray; }</style><div id=\"29c15499-effb-4f77-905d-cbd88e328e22\"></div>"
      ],
      "text/plain": [
       "<IPython.core.display.HTML object>"
      ]
     },
     "metadata": {},
     "output_type": "display_data"
    },
    {
     "data": {
      "text/html": [
       "<script>var renderjson=function(){var t=function(){for(var t=[];arguments.length;)t.push(n(s(Array.prototype.shift.call(arguments)),o(Array.prototype.shift.call(arguments))));return t},n=function(){for(var t=Array.prototype.shift.call(arguments),e=0;e<arguments.length;e++)arguments[e].constructor==Array?n.apply(this,[t].concat(arguments[e])):t.appendChild(arguments[e]);return t},e=function(t,n){return t.insertBefore(n,t.firstChild),t},r=function(t,n){var e=n||Object.keys(t);for(var r in e)if(Object.hasOwnProperty.call(t,e[r]))return!1;return!0},o=function(t){return document.createTextNode(t)},s=function(t){var n=document.createElement(\"span\");return t&&(n.className=t),n},l=function(t,n,e){var r=document.createElement(\"a\");return n&&(r.className=n),r.appendChild(o(t)),r.href=\"#\",r.onclick=function(t){return e(),t&&t.stopPropagation(),!1},r};function a(i,c,u,p,y){var _=u?\"\":c,f=function(r,a,i,c,u){var f,g=s(c),h=function(){f||n(g.parentNode,f=e(u(),l(y.hide,\"disclosure\",(function(){f.style.display=\"none\",g.style.display=\"inline\"})))),f.style.display=\"inline\",g.style.display=\"none\"};n(g,l(y.show,\"disclosure\",h),t(c+\" syntax\",r),l(a,null,h),t(c+\" syntax\",i));var d=n(s(),o(_.slice(0,-1)),g);return p>0&&\"string\"!=c&&h(),d};return null===i?t(null,_,\"keyword\",\"null\"):void 0===i?t(null,_,\"keyword\",\"undefined\"):\"string\"==typeof i&&i.length>y.max_string_length?f('\"',i.substr(0,y.max_string_length)+\" ...\",'\"',\"string\",(function(){return n(s(\"string\"),t(null,_,\"string\",JSON.stringify(i)))})):\"object\"!=typeof i||[Number,String,Boolean,Date].indexOf(i.constructor)>=0?t(null,_,typeof i,JSON.stringify(i)):i.constructor==Array?0==i.length?t(null,_,\"array syntax\",\"[]\"):f(\"[\",y.collapse_msg(i.length),\"]\",\"array\",(function(){for(var e=n(s(\"array\"),t(\"array syntax\",\"[\",null,\"\\n\")),r=0;r<i.length;r++)n(e,a(y.replacer.call(i,r,i[r]),c+\"    \",!1,p-1,y),r!=i.length-1?t(\"syntax\",\",\"):[],o(\"\\n\"));return n(e,t(null,c,\"array syntax\",\"]\")),e})):r(i,y.property_list)?t(null,_,\"object syntax\",\"{}\"):f(\"{\",y.collapse_msg(Object.keys(i).length),\"}\",\"object\",(function(){var e=n(s(\"object\"),t(\"object syntax\",\"{\",null,\"\\n\"));for(var r in i)var l=r;var u=y.property_list||Object.keys(i);for(var _ in y.sort_objects&&(u=u.sort()),u){(r=u[_])in i&&n(e,t(null,c+\"    \",\"key\",'\"'+r+'\"',\"object syntax\",\": \"),a(y.replacer.call(i,r,i[r]),c+\"    \",!0,p-1,y),r!=l?t(\"syntax\",\",\"):[],o(\"\\n\"))}return n(e,t(null,c,\"object syntax\",\"}\")),e}))}var i=function t(e){var r=new Object(t.options);r.replacer=\"function\"==typeof r.replacer?r.replacer:function(t,n){return n};var o=n(document.createElement(\"pre\"),a(e,\"\",!1,r.show_to_level,r));return o.className=\"renderjson\",o};return i.set_icons=function(t,n){return i.options.show=t,i.options.hide=n,i},i.set_show_to_level=function(t){return i.options.show_to_level=\"string\"==typeof t&&\"all\"===t.toLowerCase()?Number.MAX_VALUE:t,i},i.set_max_string_length=function(t){return i.options.max_string_length=\"string\"==typeof t&&\"none\"===t.toLowerCase()?Number.MAX_VALUE:t,i},i.set_sort_objects=function(t){return i.options.sort_objects=t,i},i.set_replacer=function(t){return i.options.replacer=t,i},i.set_collapse_msg=function(t){return i.options.collapse_msg=t,i},i.set_property_list=function(t){return i.options.property_list=t,i},i.set_show_by_default=function(t){return i.options.show_to_level=t?Number.MAX_VALUE:0,i},i.options={},i.set_icons(\"⊕\",\"⊖\"),i.set_show_by_default(!1),i.set_sort_objects(!1),i.set_max_string_length(\"none\"),i.set_replacer(void 0),i.set_property_list(void 0),i.set_collapse_msg((function(t){return t+\" item\"+(1==t?\"\":\"s\")})),i}(); renderjson.set_show_to_level(4); document.getElementById(\"29c15499-effb-4f77-905d-cbd88e328e22\").appendChild(renderjson({\"acknowledged\": true, \"shards_acknowledged\": true, \"index\": \"tags_db\"}))</script>"
      ],
      "text/plain": [
       "<IPython.core.display.HTML object>"
      ]
     },
     "metadata": {},
     "output_type": "display_data"
    }
   ],
   "source": [
    "url = \"http://localhost:9200/tags_db\"\n",
    "\n",
    "headers = {\n",
    "    'Content-Type': 'application/json'\n",
    "}\n",
    "\n",
    "payload = schema\n",
    "response = requests.delete(url, headers=headers)\n",
    "\n",
    "response = requests.put(url, headers=headers, data=json.dumps(payload))\n",
    "mr.JSON(response.json(), level=4)"
   ]
  },
  {
   "cell_type": "code",
   "execution_count": 24,
   "id": "05391804-789a-421a-bb82-dd19a6a26c8e",
   "metadata": {},
   "outputs": [
    {
     "data": {
      "text/plain": [
       "1081"
      ]
     },
     "execution_count": 24,
     "metadata": {},
     "output_type": "execute_result"
    }
   ],
   "source": [
    "host = 'localhost'\n",
    "port = 9200\n",
    "\n",
    "client = OpenSearch(\n",
    "    hosts=[{'host': host, 'port': port}],\n",
    "    http_compress=True,  # Enable HTTP compression\n",
    "    use_ssl=False,       # Set to True if SSL is enabled on your cluster\n",
    "    verify_certs=False   # Set to True if SSL certificates should be verified\n",
    ")\n",
    "\n",
    "# Indexing DataFrame into OpenSearch\n",
    "index_name = 'tags_db'\n",
    "\n",
    "docs = df[['image_id', 'tags']].to_dict(orient='records')\n",
    "\n",
    "actions = [\n",
    "    f'{{\"index\": {{\"_index\": \"{index_name}\", \"_id\": \"{doc[\"tags\"]}\"}}}}\\n{json.dumps(doc)}'\n",
    "    for doc in docs\n",
    "]\n",
    "\n",
    "len(actions)"
   ]
  },
  {
   "cell_type": "code",
   "execution_count": 26,
   "id": "b09d96d4-a01e-49a8-ae88-3391240bfba8",
   "metadata": {},
   "outputs": [
    {
     "data": {
      "text/plain": [
       "['{\"index\": {\"_index\": \"tags_db\", \"_id\": \"windows car man trees back tree trunk arm bike clock sign pants van lamp post tree glasses jacket street shoes chin shirt wall headlight sidewalk building shade parking meter\"}}\\n{\"image_id\": 1, \"tags\": \"windows car man trees back tree trunk arm bike clock sign pants van lamp post tree glasses jacket street shoes chin shirt wall headlight sidewalk building shade parking meter\"}',\n",
       " '{\"index\": {\"_index\": \"tags_db\", \"_id\": \"sign sidewalk window backpack sneakers tree building crosswalk pole car walk sign man street light bike road lights\"}}\\n{\"image_id\": 2, \"tags\": \"sign sidewalk window backpack sneakers tree building crosswalk pole car walk sign man street light bike road lights\"}']"
      ]
     },
     "execution_count": 26,
     "metadata": {},
     "output_type": "execute_result"
    }
   ],
   "source": [
    "actions[:2]"
   ]
  },
  {
   "cell_type": "code",
   "execution_count": 28,
   "id": "30874324-5a65-4ff4-892c-b49aa64ee3c3",
   "metadata": {},
   "outputs": [],
   "source": [
    "import json\n",
    "\n",
    "# Prepare JSON lines\n",
    "json_lines = []\n",
    "for _, row in df.iterrows():\n",
    "    index_entry = {\"index\": {\"_index\": \"tags_db\", \"_id\": row[\"image_id\"]}}\n",
    "    tags_entry = {\"tags\": row[\"tags\"]}\n",
    "    json_lines.append(json.dumps(index_entry))\n",
    "    json_lines.append(json.dumps(tags_entry))\n",
    "\n",
    "# Join JSON lines into a single string\n",
    "result = \"\\n\".join(json_lines)"
   ]
  },
  {
   "cell_type": "code",
   "execution_count": 32,
   "id": "2355a4f4-c3cd-4592-a7ff-4692a3e59f1f",
   "metadata": {},
   "outputs": [],
   "source": [
    "response = client.bulk(index=index_name, body=result)"
   ]
  },
  {
   "cell_type": "code",
   "execution_count": 34,
   "id": "01cb55ae-43d3-454d-8095-08f9b2355f91",
   "metadata": {},
   "outputs": [
    {
     "data": {
      "text/html": [
       "<style>.renderjson a              { text-decoration: none; }\n",
       ".renderjson .disclosure    { color: grey; font-size: 125%; }\n",
       ".renderjson .syntax        { color: grey; }\n",
       ".renderjson .string        { color: #fe46a5; }\n",
       ".renderjson .number        { color: #0f9b8e; }\n",
       ".renderjson .boolean       { color: black; }\n",
       ".renderjson .key           { color: #2684ff; }\n",
       ".renderjson .keyword       { color: gray; }\n",
       ".renderjson .object.syntax { color: gray; }\n",
       ".renderjson .array.syntax  { color: gray; }</style><div id=\"67c35e47-6894-4c77-a82a-b2a18241b1b2\"></div>"
      ],
      "text/plain": [
       "<IPython.core.display.HTML object>"
      ]
     },
     "metadata": {},
     "output_type": "display_data"
    },
    {
     "data": {
      "text/html": [
       "<script>var renderjson=function(){var t=function(){for(var t=[];arguments.length;)t.push(n(s(Array.prototype.shift.call(arguments)),o(Array.prototype.shift.call(arguments))));return t},n=function(){for(var t=Array.prototype.shift.call(arguments),e=0;e<arguments.length;e++)arguments[e].constructor==Array?n.apply(this,[t].concat(arguments[e])):t.appendChild(arguments[e]);return t},e=function(t,n){return t.insertBefore(n,t.firstChild),t},r=function(t,n){var e=n||Object.keys(t);for(var r in e)if(Object.hasOwnProperty.call(t,e[r]))return!1;return!0},o=function(t){return document.createTextNode(t)},s=function(t){var n=document.createElement(\"span\");return t&&(n.className=t),n},l=function(t,n,e){var r=document.createElement(\"a\");return n&&(r.className=n),r.appendChild(o(t)),r.href=\"#\",r.onclick=function(t){return e(),t&&t.stopPropagation(),!1},r};function a(i,c,u,p,y){var _=u?\"\":c,f=function(r,a,i,c,u){var f,g=s(c),h=function(){f||n(g.parentNode,f=e(u(),l(y.hide,\"disclosure\",(function(){f.style.display=\"none\",g.style.display=\"inline\"})))),f.style.display=\"inline\",g.style.display=\"none\"};n(g,l(y.show,\"disclosure\",h),t(c+\" syntax\",r),l(a,null,h),t(c+\" syntax\",i));var d=n(s(),o(_.slice(0,-1)),g);return p>0&&\"string\"!=c&&h(),d};return null===i?t(null,_,\"keyword\",\"null\"):void 0===i?t(null,_,\"keyword\",\"undefined\"):\"string\"==typeof i&&i.length>y.max_string_length?f('\"',i.substr(0,y.max_string_length)+\" ...\",'\"',\"string\",(function(){return n(s(\"string\"),t(null,_,\"string\",JSON.stringify(i)))})):\"object\"!=typeof i||[Number,String,Boolean,Date].indexOf(i.constructor)>=0?t(null,_,typeof i,JSON.stringify(i)):i.constructor==Array?0==i.length?t(null,_,\"array syntax\",\"[]\"):f(\"[\",y.collapse_msg(i.length),\"]\",\"array\",(function(){for(var e=n(s(\"array\"),t(\"array syntax\",\"[\",null,\"\\n\")),r=0;r<i.length;r++)n(e,a(y.replacer.call(i,r,i[r]),c+\"    \",!1,p-1,y),r!=i.length-1?t(\"syntax\",\",\"):[],o(\"\\n\"));return n(e,t(null,c,\"array syntax\",\"]\")),e})):r(i,y.property_list)?t(null,_,\"object syntax\",\"{}\"):f(\"{\",y.collapse_msg(Object.keys(i).length),\"}\",\"object\",(function(){var e=n(s(\"object\"),t(\"object syntax\",\"{\",null,\"\\n\"));for(var r in i)var l=r;var u=y.property_list||Object.keys(i);for(var _ in y.sort_objects&&(u=u.sort()),u){(r=u[_])in i&&n(e,t(null,c+\"    \",\"key\",'\"'+r+'\"',\"object syntax\",\": \"),a(y.replacer.call(i,r,i[r]),c+\"    \",!0,p-1,y),r!=l?t(\"syntax\",\",\"):[],o(\"\\n\"))}return n(e,t(null,c,\"object syntax\",\"}\")),e}))}var i=function t(e){var r=new Object(t.options);r.replacer=\"function\"==typeof r.replacer?r.replacer:function(t,n){return n};var o=n(document.createElement(\"pre\"),a(e,\"\",!1,r.show_to_level,r));return o.className=\"renderjson\",o};return i.set_icons=function(t,n){return i.options.show=t,i.options.hide=n,i},i.set_show_to_level=function(t){return i.options.show_to_level=\"string\"==typeof t&&\"all\"===t.toLowerCase()?Number.MAX_VALUE:t,i},i.set_max_string_length=function(t){return i.options.max_string_length=\"string\"==typeof t&&\"none\"===t.toLowerCase()?Number.MAX_VALUE:t,i},i.set_sort_objects=function(t){return i.options.sort_objects=t,i},i.set_replacer=function(t){return i.options.replacer=t,i},i.set_collapse_msg=function(t){return i.options.collapse_msg=t,i},i.set_property_list=function(t){return i.options.property_list=t,i},i.set_show_by_default=function(t){return i.options.show_to_level=t?Number.MAX_VALUE:0,i},i.options={},i.set_icons(\"⊕\",\"⊖\"),i.set_show_by_default(!1),i.set_sort_objects(!1),i.set_max_string_length(\"none\"),i.set_replacer(void 0),i.set_property_list(void 0),i.set_collapse_msg((function(t){return t+\" item\"+(1==t?\"\":\"s\")})),i}(); renderjson.set_show_to_level(3); document.getElementById(\"67c35e47-6894-4c77-a82a-b2a18241b1b2\").appendChild(renderjson({\"took\": 320, \"timed_out\": false, \"_shards\": {\"total\": 1, \"successful\": 1, \"skipped\": 0, \"failed\": 0}, \"hits\": {\"total\": {\"value\": 903, \"relation\": \"eq\"}, \"max_score\": null, \"hits\": []}}))</script>"
      ],
      "text/plain": [
       "<IPython.core.display.HTML object>"
      ]
     },
     "metadata": {},
     "output_type": "display_data"
    }
   ],
   "source": [
    "url = \"http://localhost:9200/tags_db/_search\"\n",
    "\n",
    "payload = {\n",
    "  \"query\": {\n",
    "    \"match_all\": {}\n",
    "  },\n",
    "  \"track_total_hits\": \"true\",\n",
    "  \"size\": 0\n",
    "}\n",
    "\n",
    "response = requests.post(url, headers=headers, data=json.dumps(payload))\n",
    "mr.JSON(response.json(), level=3)"
   ]
  },
  {
   "cell_type": "code",
   "execution_count": 36,
   "id": "0a5f70bb-2081-4374-b452-35108291994d",
   "metadata": {},
   "outputs": [
    {
     "data": {
      "text/plain": [
       "(1081, 903)"
      ]
     },
     "execution_count": 36,
     "metadata": {},
     "output_type": "execute_result"
    }
   ],
   "source": [
    "df.shape[0], response.json()['hits']['total']['value']"
   ]
  },
  {
   "cell_type": "markdown",
   "id": "7a0a2a6c-9d30-41b4-b252-f7f8ea281d08",
   "metadata": {},
   "source": [
    "For some reason, not all images are loaded, but that's fine."
   ]
  }
 ],
 "metadata": {
  "kernelspec": {
   "display_name": "Python 3 (ipykernel)",
   "language": "python",
   "name": "python3"
  },
  "language_info": {
   "codemirror_mode": {
    "name": "ipython",
    "version": 3
   },
   "file_extension": ".py",
   "mimetype": "text/x-python",
   "name": "python",
   "nbconvert_exporter": "python",
   "pygments_lexer": "ipython3",
   "version": "3.10.12"
  }
 },
 "nbformat": 4,
 "nbformat_minor": 5
}
