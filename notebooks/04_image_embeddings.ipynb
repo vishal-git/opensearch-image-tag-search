{
 "cells": [
  {
   "cell_type": "markdown",
   "id": "1c33d9e2-b5ce-4253-a7ed-9890387ad464",
   "metadata": {},
   "source": [
    "In this notebook, we use CLIP model to generate image embeddings and store them in an OpenSearch index. Then we perform search (like we did in the [previous notebook](03_search_and_eval.ipynb) and perform evaluation using a judgement dataset."
   ]
  },
  {
   "cell_type": "markdown",
   "id": "cd93faf9-88fb-4595-8f05-5a77859f4b90",
   "metadata": {},
   "source": [
    "### Prepare OpenSearch"
   ]
  },
  {
   "cell_type": "code",
   "execution_count": 5,
   "id": "b10c2841-012a-4039-b225-98f9bccfae04",
   "metadata": {},
   "outputs": [],
   "source": [
    "from opensearchpy import OpenSearch\n",
    "\n",
    "client = OpenSearch(\"http://localhost:9200\")"
   ]
  },
  {
   "cell_type": "code",
   "execution_count": 6,
   "id": "f0aaabc1-ee56-44e5-8f70-b5f6e5362d85",
   "metadata": {},
   "outputs": [],
   "source": [
    "index_name = 'images'\n",
    "\n",
    "index_body = {\n",
    "  'settings': {\n",
    "    'index': {\n",
    "      \"knn\": True\n",
    "    }\n",
    "  },\n",
    "  \"mappings\": {\n",
    "            \"properties\": {\n",
    "                \"embedding\": {\n",
    "                    \"type\": \"knn_vector\",\n",
    "                    \"dimension\": 512\n",
    "                }\n",
    "            }\n",
    "        }\n",
    "}"
   ]
  },
  {
   "cell_type": "code",
   "execution_count": 7,
   "id": "d532bf21-65a7-4e3f-9702-22ffdce51548",
   "metadata": {},
   "outputs": [
    {
     "data": {
      "text/plain": [
       "{'acknowledged': True, 'shards_acknowledged': True, 'index': 'images'}"
      ]
     },
     "execution_count": 7,
     "metadata": {},
     "output_type": "execute_result"
    }
   ],
   "source": [
    "client.indices.create(index_name, body=index_body)"
   ]
  },
  {
   "cell_type": "markdown",
   "id": "b1483d9f-bb74-4baa-9c32-fc113daa3795",
   "metadata": {},
   "source": [
    "### Generate Image Embeddings"
   ]
  },
  {
   "cell_type": "code",
   "execution_count": 8,
   "id": "666ddea4-748d-40f5-be03-44f5b0cf2b54",
   "metadata": {},
   "outputs": [],
   "source": [
    "import torch\n",
    "from PIL import Image\n",
    "from transformers import CLIPProcessor, CLIPModel\n",
    "import requests\n",
    "from io import BytesIO"
   ]
  },
  {
   "cell_type": "code",
   "execution_count": 11,
   "id": "db9fd66c-d805-47f4-a11f-e724b0afbfdc",
   "metadata": {},
   "outputs": [
    {
     "data": {
      "text/plain": [
       "(1000, 3)"
      ]
     },
     "execution_count": 11,
     "metadata": {},
     "output_type": "execute_result"
    }
   ],
   "source": [
    "import pandas as pd\n",
    "\n",
    "df = pd.read_csv('../data/vgenome_sample_1k.csv', index_col=0)\n",
    "df.shape"
   ]
  },
  {
   "cell_type": "code",
   "execution_count": 12,
   "id": "1bc97ea0-8f42-4a3e-9d5f-89a52efa19d4",
   "metadata": {},
   "outputs": [
    {
     "data": {
      "text/html": [
       "<div>\n",
       "<style scoped>\n",
       "    .dataframe tbody tr th:only-of-type {\n",
       "        vertical-align: middle;\n",
       "    }\n",
       "\n",
       "    .dataframe tbody tr th {\n",
       "        vertical-align: top;\n",
       "    }\n",
       "\n",
       "    .dataframe thead th {\n",
       "        text-align: right;\n",
       "    }\n",
       "</style>\n",
       "<table border=\"1\" class=\"dataframe\">\n",
       "  <thead>\n",
       "    <tr style=\"text-align: right;\">\n",
       "      <th></th>\n",
       "      <th>image_id</th>\n",
       "      <th>image_url</th>\n",
       "      <th>tags</th>\n",
       "    </tr>\n",
       "  </thead>\n",
       "  <tbody>\n",
       "    <tr>\n",
       "      <th>53559</th>\n",
       "      <td>2366867</td>\n",
       "      <td>http://crowdfile.blob.core.chinacloudapi.cn/46...</td>\n",
       "      <td>['birds', 'camera', 'bird', 'sky', 'neck', 'pe...</td>\n",
       "    </tr>\n",
       "    <tr>\n",
       "      <th>41981</th>\n",
       "      <td>2378980</td>\n",
       "      <td>http://crowdfile.blob.core.chinacloudapi.cn/46...</td>\n",
       "      <td>['window', 'line', 'double door', 'front winds...</td>\n",
       "    </tr>\n",
       "  </tbody>\n",
       "</table>\n",
       "</div>"
      ],
      "text/plain": [
       "       image_id                                          image_url  \\\n",
       "53559   2366867  http://crowdfile.blob.core.chinacloudapi.cn/46...   \n",
       "41981   2378980  http://crowdfile.blob.core.chinacloudapi.cn/46...   \n",
       "\n",
       "                                                    tags  \n",
       "53559  ['birds', 'camera', 'bird', 'sky', 'neck', 'pe...  \n",
       "41981  ['window', 'line', 'double door', 'front winds...  "
      ]
     },
     "execution_count": 12,
     "metadata": {},
     "output_type": "execute_result"
    }
   ],
   "source": [
    "df.head(2)"
   ]
  },
  {
   "cell_type": "code",
   "execution_count": 9,
   "id": "b235f70f-a7b3-4d4c-a4a9-9f3a28a1de6e",
   "metadata": {},
   "outputs": [],
   "source": [
    "# Load CLIP model and processor\n",
    "model = CLIPModel.from_pretrained(\"openai/clip-vit-base-patch32\")\n",
    "processor = CLIPProcessor.from_pretrained(\"openai/clip-vit-base-patch32\")\n",
    "\n",
    "def get_image_embedding_from_url(url):\n",
    "    \"\"\"\n",
    "    Reads the raw image from the URL and returns image embeddings using CLIP model.\n",
    "    \"\"\"\n",
    "    response = requests.get(url)\n",
    "    if response.status_code != 200:\n",
    "        raise ValueError(f\"Failed to download image. Status code: {response.status_code}\")\n",
    "    \n",
    "    image = Image.open(BytesIO(response.content)).convert(\"RGB\")\n",
    "    inputs = processor(images=image, return_tensors=\"pt\")\n",
    "    \n",
    "    with torch.no_grad():\n",
    "        image_features = model.get_image_features(**inputs)\n",
    "    \n",
    "    image_features = image_features / image_features.norm(dim=-1, keepdim=True)\n",
    "    \n",
    "    return image_features"
   ]
  },
  {
   "cell_type": "markdown",
   "id": "a5778743-947a-470e-82ef-b138c8b6ab8e",
   "metadata": {},
   "source": [
    "#### test a single URL"
   ]
  },
  {
   "cell_type": "code",
   "execution_count": 13,
   "id": "9e4fe100-47ce-4c95-8371-cf1da280b55f",
   "metadata": {},
   "outputs": [
    {
     "data": {
      "text/plain": [
       "'http://crowdfile.blob.core.chinacloudapi.cn/4615/2366867.jpg'"
      ]
     },
     "execution_count": 13,
     "metadata": {},
     "output_type": "execute_result"
    }
   ],
   "source": [
    "image_url = list(df['image_url'])[0]\n",
    "image_url"
   ]
  },
  {
   "cell_type": "code",
   "execution_count": 16,
   "id": "f223699c-d40c-4f9e-ad4a-391fd3fe3698",
   "metadata": {},
   "outputs": [
    {
     "data": {
      "text/plain": [
       "'http://crowdfile.blob.core.chinacloudapi.cn/4615/2407115.jpg'"
      ]
     },
     "execution_count": 16,
     "metadata": {},
     "output_type": "execute_result"
    }
   ],
   "source": [
    "image_url = list(df['image_url'])[100]\n",
    "image_url"
   ]
  },
  {
   "cell_type": "code",
   "execution_count": 14,
   "id": "aa1d8af4-05c4-463b-a09b-e130580b8002",
   "metadata": {
    "collapsed": true,
    "jupyter": {
     "outputs_hidden": true
    }
   },
   "outputs": [
    {
     "ename": "ConnectionError",
     "evalue": "HTTPConnectionPool(host='crowdfile.blob.core.chinacloudapi.cn', port=80): Max retries exceeded with url: /4615/2366867.jpg (Caused by NewConnectionError('<urllib3.connection.HTTPConnection object at 0x7f31e60dc790>: Failed to establish a new connection: [Errno -2] Name or service not known'))",
     "output_type": "error",
     "traceback": [
      "\u001b[0;31m---------------------------------------------------------------------------\u001b[0m",
      "\u001b[0;31mgaierror\u001b[0m                                  Traceback (most recent call last)",
      "File \u001b[0;32m~/code/opensearch_eval/.venv/lib/python3.10/site-packages/urllib3/connection.py:174\u001b[0m, in \u001b[0;36mHTTPConnection._new_conn\u001b[0;34m(self)\u001b[0m\n\u001b[1;32m    173\u001b[0m \u001b[38;5;28;01mtry\u001b[39;00m:\n\u001b[0;32m--> 174\u001b[0m     conn \u001b[38;5;241m=\u001b[39m \u001b[43mconnection\u001b[49m\u001b[38;5;241;43m.\u001b[39;49m\u001b[43mcreate_connection\u001b[49m\u001b[43m(\u001b[49m\n\u001b[1;32m    175\u001b[0m \u001b[43m        \u001b[49m\u001b[43m(\u001b[49m\u001b[38;5;28;43mself\u001b[39;49m\u001b[38;5;241;43m.\u001b[39;49m\u001b[43m_dns_host\u001b[49m\u001b[43m,\u001b[49m\u001b[43m \u001b[49m\u001b[38;5;28;43mself\u001b[39;49m\u001b[38;5;241;43m.\u001b[39;49m\u001b[43mport\u001b[49m\u001b[43m)\u001b[49m\u001b[43m,\u001b[49m\u001b[43m \u001b[49m\u001b[38;5;28;43mself\u001b[39;49m\u001b[38;5;241;43m.\u001b[39;49m\u001b[43mtimeout\u001b[49m\u001b[43m,\u001b[49m\u001b[43m \u001b[49m\u001b[38;5;241;43m*\u001b[39;49m\u001b[38;5;241;43m*\u001b[39;49m\u001b[43mextra_kw\u001b[49m\n\u001b[1;32m    176\u001b[0m \u001b[43m    \u001b[49m\u001b[43m)\u001b[49m\n\u001b[1;32m    178\u001b[0m \u001b[38;5;28;01mexcept\u001b[39;00m SocketTimeout:\n",
      "File \u001b[0;32m~/code/opensearch_eval/.venv/lib/python3.10/site-packages/urllib3/util/connection.py:72\u001b[0m, in \u001b[0;36mcreate_connection\u001b[0;34m(address, timeout, source_address, socket_options)\u001b[0m\n\u001b[1;32m     68\u001b[0m     \u001b[38;5;28;01mreturn\u001b[39;00m six\u001b[38;5;241m.\u001b[39mraise_from(\n\u001b[1;32m     69\u001b[0m         LocationParseError(\u001b[38;5;124mu\u001b[39m\u001b[38;5;124m\"\u001b[39m\u001b[38;5;124m'\u001b[39m\u001b[38;5;132;01m%s\u001b[39;00m\u001b[38;5;124m'\u001b[39m\u001b[38;5;124m, label empty or too long\u001b[39m\u001b[38;5;124m\"\u001b[39m \u001b[38;5;241m%\u001b[39m host), \u001b[38;5;28;01mNone\u001b[39;00m\n\u001b[1;32m     70\u001b[0m     )\n\u001b[0;32m---> 72\u001b[0m \u001b[38;5;28;01mfor\u001b[39;00m res \u001b[38;5;129;01min\u001b[39;00m \u001b[43msocket\u001b[49m\u001b[38;5;241;43m.\u001b[39;49m\u001b[43mgetaddrinfo\u001b[49m\u001b[43m(\u001b[49m\u001b[43mhost\u001b[49m\u001b[43m,\u001b[49m\u001b[43m \u001b[49m\u001b[43mport\u001b[49m\u001b[43m,\u001b[49m\u001b[43m \u001b[49m\u001b[43mfamily\u001b[49m\u001b[43m,\u001b[49m\u001b[43m \u001b[49m\u001b[43msocket\u001b[49m\u001b[38;5;241;43m.\u001b[39;49m\u001b[43mSOCK_STREAM\u001b[49m\u001b[43m)\u001b[49m:\n\u001b[1;32m     73\u001b[0m     af, socktype, proto, canonname, sa \u001b[38;5;241m=\u001b[39m res\n",
      "File \u001b[0;32m/usr/lib/python3.10/socket.py:955\u001b[0m, in \u001b[0;36mgetaddrinfo\u001b[0;34m(host, port, family, type, proto, flags)\u001b[0m\n\u001b[1;32m    954\u001b[0m addrlist \u001b[38;5;241m=\u001b[39m []\n\u001b[0;32m--> 955\u001b[0m \u001b[38;5;28;01mfor\u001b[39;00m res \u001b[38;5;129;01min\u001b[39;00m \u001b[43m_socket\u001b[49m\u001b[38;5;241;43m.\u001b[39;49m\u001b[43mgetaddrinfo\u001b[49m\u001b[43m(\u001b[49m\u001b[43mhost\u001b[49m\u001b[43m,\u001b[49m\u001b[43m \u001b[49m\u001b[43mport\u001b[49m\u001b[43m,\u001b[49m\u001b[43m \u001b[49m\u001b[43mfamily\u001b[49m\u001b[43m,\u001b[49m\u001b[43m \u001b[49m\u001b[38;5;28;43mtype\u001b[39;49m\u001b[43m,\u001b[49m\u001b[43m \u001b[49m\u001b[43mproto\u001b[49m\u001b[43m,\u001b[49m\u001b[43m \u001b[49m\u001b[43mflags\u001b[49m\u001b[43m)\u001b[49m:\n\u001b[1;32m    956\u001b[0m     af, socktype, proto, canonname, sa \u001b[38;5;241m=\u001b[39m res\n",
      "\u001b[0;31mgaierror\u001b[0m: [Errno -2] Name or service not known",
      "\nDuring handling of the above exception, another exception occurred:\n",
      "\u001b[0;31mNewConnectionError\u001b[0m                        Traceback (most recent call last)",
      "File \u001b[0;32m~/code/opensearch_eval/.venv/lib/python3.10/site-packages/urllib3/connectionpool.py:716\u001b[0m, in \u001b[0;36mHTTPConnectionPool.urlopen\u001b[0;34m(self, method, url, body, headers, retries, redirect, assert_same_host, timeout, pool_timeout, release_conn, chunked, body_pos, **response_kw)\u001b[0m\n\u001b[1;32m    715\u001b[0m \u001b[38;5;66;03m# Make the request on the httplib connection object.\u001b[39;00m\n\u001b[0;32m--> 716\u001b[0m httplib_response \u001b[38;5;241m=\u001b[39m \u001b[38;5;28;43mself\u001b[39;49m\u001b[38;5;241;43m.\u001b[39;49m\u001b[43m_make_request\u001b[49m\u001b[43m(\u001b[49m\n\u001b[1;32m    717\u001b[0m \u001b[43m    \u001b[49m\u001b[43mconn\u001b[49m\u001b[43m,\u001b[49m\n\u001b[1;32m    718\u001b[0m \u001b[43m    \u001b[49m\u001b[43mmethod\u001b[49m\u001b[43m,\u001b[49m\n\u001b[1;32m    719\u001b[0m \u001b[43m    \u001b[49m\u001b[43murl\u001b[49m\u001b[43m,\u001b[49m\n\u001b[1;32m    720\u001b[0m \u001b[43m    \u001b[49m\u001b[43mtimeout\u001b[49m\u001b[38;5;241;43m=\u001b[39;49m\u001b[43mtimeout_obj\u001b[49m\u001b[43m,\u001b[49m\n\u001b[1;32m    721\u001b[0m \u001b[43m    \u001b[49m\u001b[43mbody\u001b[49m\u001b[38;5;241;43m=\u001b[39;49m\u001b[43mbody\u001b[49m\u001b[43m,\u001b[49m\n\u001b[1;32m    722\u001b[0m \u001b[43m    \u001b[49m\u001b[43mheaders\u001b[49m\u001b[38;5;241;43m=\u001b[39;49m\u001b[43mheaders\u001b[49m\u001b[43m,\u001b[49m\n\u001b[1;32m    723\u001b[0m \u001b[43m    \u001b[49m\u001b[43mchunked\u001b[49m\u001b[38;5;241;43m=\u001b[39;49m\u001b[43mchunked\u001b[49m\u001b[43m,\u001b[49m\n\u001b[1;32m    724\u001b[0m \u001b[43m\u001b[49m\u001b[43m)\u001b[49m\n\u001b[1;32m    726\u001b[0m \u001b[38;5;66;03m# If we're going to release the connection in ``finally:``, then\u001b[39;00m\n\u001b[1;32m    727\u001b[0m \u001b[38;5;66;03m# the response doesn't need to know about the connection. Otherwise\u001b[39;00m\n\u001b[1;32m    728\u001b[0m \u001b[38;5;66;03m# it will also try to release it and we'll have a double-release\u001b[39;00m\n\u001b[1;32m    729\u001b[0m \u001b[38;5;66;03m# mess.\u001b[39;00m\n",
      "File \u001b[0;32m~/code/opensearch_eval/.venv/lib/python3.10/site-packages/urllib3/connectionpool.py:416\u001b[0m, in \u001b[0;36mHTTPConnectionPool._make_request\u001b[0;34m(self, conn, method, url, timeout, chunked, **httplib_request_kw)\u001b[0m\n\u001b[1;32m    415\u001b[0m     \u001b[38;5;28;01melse\u001b[39;00m:\n\u001b[0;32m--> 416\u001b[0m         \u001b[43mconn\u001b[49m\u001b[38;5;241;43m.\u001b[39;49m\u001b[43mrequest\u001b[49m\u001b[43m(\u001b[49m\u001b[43mmethod\u001b[49m\u001b[43m,\u001b[49m\u001b[43m \u001b[49m\u001b[43murl\u001b[49m\u001b[43m,\u001b[49m\u001b[43m \u001b[49m\u001b[38;5;241;43m*\u001b[39;49m\u001b[38;5;241;43m*\u001b[39;49m\u001b[43mhttplib_request_kw\u001b[49m\u001b[43m)\u001b[49m\n\u001b[1;32m    418\u001b[0m \u001b[38;5;66;03m# We are swallowing BrokenPipeError (errno.EPIPE) since the server is\u001b[39;00m\n\u001b[1;32m    419\u001b[0m \u001b[38;5;66;03m# legitimately able to close the connection after sending a valid response.\u001b[39;00m\n\u001b[1;32m    420\u001b[0m \u001b[38;5;66;03m# With this behaviour, the received response is still readable.\u001b[39;00m\n",
      "File \u001b[0;32m~/code/opensearch_eval/.venv/lib/python3.10/site-packages/urllib3/connection.py:244\u001b[0m, in \u001b[0;36mHTTPConnection.request\u001b[0;34m(self, method, url, body, headers)\u001b[0m\n\u001b[1;32m    243\u001b[0m     headers[\u001b[38;5;124m\"\u001b[39m\u001b[38;5;124mUser-Agent\u001b[39m\u001b[38;5;124m\"\u001b[39m] \u001b[38;5;241m=\u001b[39m _get_default_user_agent()\n\u001b[0;32m--> 244\u001b[0m \u001b[38;5;28;43msuper\u001b[39;49m\u001b[43m(\u001b[49m\u001b[43mHTTPConnection\u001b[49m\u001b[43m,\u001b[49m\u001b[43m \u001b[49m\u001b[38;5;28;43mself\u001b[39;49m\u001b[43m)\u001b[49m\u001b[38;5;241;43m.\u001b[39;49m\u001b[43mrequest\u001b[49m\u001b[43m(\u001b[49m\u001b[43mmethod\u001b[49m\u001b[43m,\u001b[49m\u001b[43m \u001b[49m\u001b[43murl\u001b[49m\u001b[43m,\u001b[49m\u001b[43m \u001b[49m\u001b[43mbody\u001b[49m\u001b[38;5;241;43m=\u001b[39;49m\u001b[43mbody\u001b[49m\u001b[43m,\u001b[49m\u001b[43m \u001b[49m\u001b[43mheaders\u001b[49m\u001b[38;5;241;43m=\u001b[39;49m\u001b[43mheaders\u001b[49m\u001b[43m)\u001b[49m\n",
      "File \u001b[0;32m/usr/lib/python3.10/http/client.py:1283\u001b[0m, in \u001b[0;36mHTTPConnection.request\u001b[0;34m(self, method, url, body, headers, encode_chunked)\u001b[0m\n\u001b[1;32m   1282\u001b[0m \u001b[38;5;250m\u001b[39m\u001b[38;5;124;03m\"\"\"Send a complete request to the server.\"\"\"\u001b[39;00m\n\u001b[0;32m-> 1283\u001b[0m \u001b[38;5;28;43mself\u001b[39;49m\u001b[38;5;241;43m.\u001b[39;49m\u001b[43m_send_request\u001b[49m\u001b[43m(\u001b[49m\u001b[43mmethod\u001b[49m\u001b[43m,\u001b[49m\u001b[43m \u001b[49m\u001b[43murl\u001b[49m\u001b[43m,\u001b[49m\u001b[43m \u001b[49m\u001b[43mbody\u001b[49m\u001b[43m,\u001b[49m\u001b[43m \u001b[49m\u001b[43mheaders\u001b[49m\u001b[43m,\u001b[49m\u001b[43m \u001b[49m\u001b[43mencode_chunked\u001b[49m\u001b[43m)\u001b[49m\n",
      "File \u001b[0;32m/usr/lib/python3.10/http/client.py:1329\u001b[0m, in \u001b[0;36mHTTPConnection._send_request\u001b[0;34m(self, method, url, body, headers, encode_chunked)\u001b[0m\n\u001b[1;32m   1328\u001b[0m     body \u001b[38;5;241m=\u001b[39m _encode(body, \u001b[38;5;124m'\u001b[39m\u001b[38;5;124mbody\u001b[39m\u001b[38;5;124m'\u001b[39m)\n\u001b[0;32m-> 1329\u001b[0m \u001b[38;5;28;43mself\u001b[39;49m\u001b[38;5;241;43m.\u001b[39;49m\u001b[43mendheaders\u001b[49m\u001b[43m(\u001b[49m\u001b[43mbody\u001b[49m\u001b[43m,\u001b[49m\u001b[43m \u001b[49m\u001b[43mencode_chunked\u001b[49m\u001b[38;5;241;43m=\u001b[39;49m\u001b[43mencode_chunked\u001b[49m\u001b[43m)\u001b[49m\n",
      "File \u001b[0;32m/usr/lib/python3.10/http/client.py:1278\u001b[0m, in \u001b[0;36mHTTPConnection.endheaders\u001b[0;34m(self, message_body, encode_chunked)\u001b[0m\n\u001b[1;32m   1277\u001b[0m     \u001b[38;5;28;01mraise\u001b[39;00m CannotSendHeader()\n\u001b[0;32m-> 1278\u001b[0m \u001b[38;5;28;43mself\u001b[39;49m\u001b[38;5;241;43m.\u001b[39;49m\u001b[43m_send_output\u001b[49m\u001b[43m(\u001b[49m\u001b[43mmessage_body\u001b[49m\u001b[43m,\u001b[49m\u001b[43m \u001b[49m\u001b[43mencode_chunked\u001b[49m\u001b[38;5;241;43m=\u001b[39;49m\u001b[43mencode_chunked\u001b[49m\u001b[43m)\u001b[49m\n",
      "File \u001b[0;32m/usr/lib/python3.10/http/client.py:1038\u001b[0m, in \u001b[0;36mHTTPConnection._send_output\u001b[0;34m(self, message_body, encode_chunked)\u001b[0m\n\u001b[1;32m   1037\u001b[0m \u001b[38;5;28;01mdel\u001b[39;00m \u001b[38;5;28mself\u001b[39m\u001b[38;5;241m.\u001b[39m_buffer[:]\n\u001b[0;32m-> 1038\u001b[0m \u001b[38;5;28;43mself\u001b[39;49m\u001b[38;5;241;43m.\u001b[39;49m\u001b[43msend\u001b[49m\u001b[43m(\u001b[49m\u001b[43mmsg\u001b[49m\u001b[43m)\u001b[49m\n\u001b[1;32m   1040\u001b[0m \u001b[38;5;28;01mif\u001b[39;00m message_body \u001b[38;5;129;01mis\u001b[39;00m \u001b[38;5;129;01mnot\u001b[39;00m \u001b[38;5;28;01mNone\u001b[39;00m:\n\u001b[1;32m   1041\u001b[0m \n\u001b[1;32m   1042\u001b[0m     \u001b[38;5;66;03m# create a consistent interface to message_body\u001b[39;00m\n",
      "File \u001b[0;32m/usr/lib/python3.10/http/client.py:976\u001b[0m, in \u001b[0;36mHTTPConnection.send\u001b[0;34m(self, data)\u001b[0m\n\u001b[1;32m    975\u001b[0m \u001b[38;5;28;01mif\u001b[39;00m \u001b[38;5;28mself\u001b[39m\u001b[38;5;241m.\u001b[39mauto_open:\n\u001b[0;32m--> 976\u001b[0m     \u001b[38;5;28;43mself\u001b[39;49m\u001b[38;5;241;43m.\u001b[39;49m\u001b[43mconnect\u001b[49m\u001b[43m(\u001b[49m\u001b[43m)\u001b[49m\n\u001b[1;32m    977\u001b[0m \u001b[38;5;28;01melse\u001b[39;00m:\n",
      "File \u001b[0;32m~/code/opensearch_eval/.venv/lib/python3.10/site-packages/urllib3/connection.py:205\u001b[0m, in \u001b[0;36mHTTPConnection.connect\u001b[0;34m(self)\u001b[0m\n\u001b[1;32m    204\u001b[0m \u001b[38;5;28;01mdef\u001b[39;00m\u001b[38;5;250m \u001b[39m\u001b[38;5;21mconnect\u001b[39m(\u001b[38;5;28mself\u001b[39m):\n\u001b[0;32m--> 205\u001b[0m     conn \u001b[38;5;241m=\u001b[39m \u001b[38;5;28;43mself\u001b[39;49m\u001b[38;5;241;43m.\u001b[39;49m\u001b[43m_new_conn\u001b[49m\u001b[43m(\u001b[49m\u001b[43m)\u001b[49m\n\u001b[1;32m    206\u001b[0m     \u001b[38;5;28mself\u001b[39m\u001b[38;5;241m.\u001b[39m_prepare_conn(conn)\n",
      "File \u001b[0;32m~/code/opensearch_eval/.venv/lib/python3.10/site-packages/urllib3/connection.py:186\u001b[0m, in \u001b[0;36mHTTPConnection._new_conn\u001b[0;34m(self)\u001b[0m\n\u001b[1;32m    185\u001b[0m \u001b[38;5;28;01mexcept\u001b[39;00m SocketError \u001b[38;5;28;01mas\u001b[39;00m e:\n\u001b[0;32m--> 186\u001b[0m     \u001b[38;5;28;01mraise\u001b[39;00m NewConnectionError(\n\u001b[1;32m    187\u001b[0m         \u001b[38;5;28mself\u001b[39m, \u001b[38;5;124m\"\u001b[39m\u001b[38;5;124mFailed to establish a new connection: \u001b[39m\u001b[38;5;132;01m%s\u001b[39;00m\u001b[38;5;124m\"\u001b[39m \u001b[38;5;241m%\u001b[39m e\n\u001b[1;32m    188\u001b[0m     )\n\u001b[1;32m    190\u001b[0m \u001b[38;5;28;01mreturn\u001b[39;00m conn\n",
      "\u001b[0;31mNewConnectionError\u001b[0m: <urllib3.connection.HTTPConnection object at 0x7f31e60dc790>: Failed to establish a new connection: [Errno -2] Name or service not known",
      "\nDuring handling of the above exception, another exception occurred:\n",
      "\u001b[0;31mMaxRetryError\u001b[0m                             Traceback (most recent call last)",
      "File \u001b[0;32m~/code/opensearch_eval/.venv/lib/python3.10/site-packages/requests/adapters.py:667\u001b[0m, in \u001b[0;36mHTTPAdapter.send\u001b[0;34m(self, request, stream, timeout, verify, cert, proxies)\u001b[0m\n\u001b[1;32m    666\u001b[0m \u001b[38;5;28;01mtry\u001b[39;00m:\n\u001b[0;32m--> 667\u001b[0m     resp \u001b[38;5;241m=\u001b[39m \u001b[43mconn\u001b[49m\u001b[38;5;241;43m.\u001b[39;49m\u001b[43murlopen\u001b[49m\u001b[43m(\u001b[49m\n\u001b[1;32m    668\u001b[0m \u001b[43m        \u001b[49m\u001b[43mmethod\u001b[49m\u001b[38;5;241;43m=\u001b[39;49m\u001b[43mrequest\u001b[49m\u001b[38;5;241;43m.\u001b[39;49m\u001b[43mmethod\u001b[49m\u001b[43m,\u001b[49m\n\u001b[1;32m    669\u001b[0m \u001b[43m        \u001b[49m\u001b[43murl\u001b[49m\u001b[38;5;241;43m=\u001b[39;49m\u001b[43murl\u001b[49m\u001b[43m,\u001b[49m\n\u001b[1;32m    670\u001b[0m \u001b[43m        \u001b[49m\u001b[43mbody\u001b[49m\u001b[38;5;241;43m=\u001b[39;49m\u001b[43mrequest\u001b[49m\u001b[38;5;241;43m.\u001b[39;49m\u001b[43mbody\u001b[49m\u001b[43m,\u001b[49m\n\u001b[1;32m    671\u001b[0m \u001b[43m        \u001b[49m\u001b[43mheaders\u001b[49m\u001b[38;5;241;43m=\u001b[39;49m\u001b[43mrequest\u001b[49m\u001b[38;5;241;43m.\u001b[39;49m\u001b[43mheaders\u001b[49m\u001b[43m,\u001b[49m\n\u001b[1;32m    672\u001b[0m \u001b[43m        \u001b[49m\u001b[43mredirect\u001b[49m\u001b[38;5;241;43m=\u001b[39;49m\u001b[38;5;28;43;01mFalse\u001b[39;49;00m\u001b[43m,\u001b[49m\n\u001b[1;32m    673\u001b[0m \u001b[43m        \u001b[49m\u001b[43massert_same_host\u001b[49m\u001b[38;5;241;43m=\u001b[39;49m\u001b[38;5;28;43;01mFalse\u001b[39;49;00m\u001b[43m,\u001b[49m\n\u001b[1;32m    674\u001b[0m \u001b[43m        \u001b[49m\u001b[43mpreload_content\u001b[49m\u001b[38;5;241;43m=\u001b[39;49m\u001b[38;5;28;43;01mFalse\u001b[39;49;00m\u001b[43m,\u001b[49m\n\u001b[1;32m    675\u001b[0m \u001b[43m        \u001b[49m\u001b[43mdecode_content\u001b[49m\u001b[38;5;241;43m=\u001b[39;49m\u001b[38;5;28;43;01mFalse\u001b[39;49;00m\u001b[43m,\u001b[49m\n\u001b[1;32m    676\u001b[0m \u001b[43m        \u001b[49m\u001b[43mretries\u001b[49m\u001b[38;5;241;43m=\u001b[39;49m\u001b[38;5;28;43mself\u001b[39;49m\u001b[38;5;241;43m.\u001b[39;49m\u001b[43mmax_retries\u001b[49m\u001b[43m,\u001b[49m\n\u001b[1;32m    677\u001b[0m \u001b[43m        \u001b[49m\u001b[43mtimeout\u001b[49m\u001b[38;5;241;43m=\u001b[39;49m\u001b[43mtimeout\u001b[49m\u001b[43m,\u001b[49m\n\u001b[1;32m    678\u001b[0m \u001b[43m        \u001b[49m\u001b[43mchunked\u001b[49m\u001b[38;5;241;43m=\u001b[39;49m\u001b[43mchunked\u001b[49m\u001b[43m,\u001b[49m\n\u001b[1;32m    679\u001b[0m \u001b[43m    \u001b[49m\u001b[43m)\u001b[49m\n\u001b[1;32m    681\u001b[0m \u001b[38;5;28;01mexcept\u001b[39;00m (ProtocolError, \u001b[38;5;167;01mOSError\u001b[39;00m) \u001b[38;5;28;01mas\u001b[39;00m err:\n",
      "File \u001b[0;32m~/code/opensearch_eval/.venv/lib/python3.10/site-packages/urllib3/connectionpool.py:802\u001b[0m, in \u001b[0;36mHTTPConnectionPool.urlopen\u001b[0;34m(self, method, url, body, headers, retries, redirect, assert_same_host, timeout, pool_timeout, release_conn, chunked, body_pos, **response_kw)\u001b[0m\n\u001b[1;32m    800\u001b[0m     e \u001b[38;5;241m=\u001b[39m ProtocolError(\u001b[38;5;124m\"\u001b[39m\u001b[38;5;124mConnection aborted.\u001b[39m\u001b[38;5;124m\"\u001b[39m, e)\n\u001b[0;32m--> 802\u001b[0m retries \u001b[38;5;241m=\u001b[39m \u001b[43mretries\u001b[49m\u001b[38;5;241;43m.\u001b[39;49m\u001b[43mincrement\u001b[49m\u001b[43m(\u001b[49m\n\u001b[1;32m    803\u001b[0m \u001b[43m    \u001b[49m\u001b[43mmethod\u001b[49m\u001b[43m,\u001b[49m\u001b[43m \u001b[49m\u001b[43murl\u001b[49m\u001b[43m,\u001b[49m\u001b[43m \u001b[49m\u001b[43merror\u001b[49m\u001b[38;5;241;43m=\u001b[39;49m\u001b[43me\u001b[49m\u001b[43m,\u001b[49m\u001b[43m \u001b[49m\u001b[43m_pool\u001b[49m\u001b[38;5;241;43m=\u001b[39;49m\u001b[38;5;28;43mself\u001b[39;49m\u001b[43m,\u001b[49m\u001b[43m \u001b[49m\u001b[43m_stacktrace\u001b[49m\u001b[38;5;241;43m=\u001b[39;49m\u001b[43msys\u001b[49m\u001b[38;5;241;43m.\u001b[39;49m\u001b[43mexc_info\u001b[49m\u001b[43m(\u001b[49m\u001b[43m)\u001b[49m\u001b[43m[\u001b[49m\u001b[38;5;241;43m2\u001b[39;49m\u001b[43m]\u001b[49m\n\u001b[1;32m    804\u001b[0m \u001b[43m\u001b[49m\u001b[43m)\u001b[49m\n\u001b[1;32m    805\u001b[0m retries\u001b[38;5;241m.\u001b[39msleep()\n",
      "File \u001b[0;32m~/code/opensearch_eval/.venv/lib/python3.10/site-packages/urllib3/util/retry.py:594\u001b[0m, in \u001b[0;36mRetry.increment\u001b[0;34m(self, method, url, response, error, _pool, _stacktrace)\u001b[0m\n\u001b[1;32m    593\u001b[0m \u001b[38;5;28;01mif\u001b[39;00m new_retry\u001b[38;5;241m.\u001b[39mis_exhausted():\n\u001b[0;32m--> 594\u001b[0m     \u001b[38;5;28;01mraise\u001b[39;00m MaxRetryError(_pool, url, error \u001b[38;5;129;01mor\u001b[39;00m ResponseError(cause))\n\u001b[1;32m    596\u001b[0m log\u001b[38;5;241m.\u001b[39mdebug(\u001b[38;5;124m\"\u001b[39m\u001b[38;5;124mIncremented Retry for (url=\u001b[39m\u001b[38;5;124m'\u001b[39m\u001b[38;5;132;01m%s\u001b[39;00m\u001b[38;5;124m'\u001b[39m\u001b[38;5;124m): \u001b[39m\u001b[38;5;132;01m%r\u001b[39;00m\u001b[38;5;124m\"\u001b[39m, url, new_retry)\n",
      "\u001b[0;31mMaxRetryError\u001b[0m: HTTPConnectionPool(host='crowdfile.blob.core.chinacloudapi.cn', port=80): Max retries exceeded with url: /4615/2366867.jpg (Caused by NewConnectionError('<urllib3.connection.HTTPConnection object at 0x7f31e60dc790>: Failed to establish a new connection: [Errno -2] Name or service not known'))",
      "\nDuring handling of the above exception, another exception occurred:\n",
      "\u001b[0;31mConnectionError\u001b[0m                           Traceback (most recent call last)",
      "Cell \u001b[0;32mIn[14], line 1\u001b[0m\n\u001b[0;32m----> 1\u001b[0m embedding \u001b[38;5;241m=\u001b[39m \u001b[43mget_image_embedding_from_url\u001b[49m\u001b[43m(\u001b[49m\u001b[43mimage_url\u001b[49m\u001b[43m)\u001b[49m\n\u001b[1;32m      3\u001b[0m \u001b[38;5;28mprint\u001b[39m(\u001b[38;5;124m\"\u001b[39m\u001b[38;5;124mImage Embedding:\u001b[39m\u001b[38;5;124m\"\u001b[39m, embedding)\n\u001b[1;32m      4\u001b[0m \u001b[38;5;28mprint\u001b[39m(\u001b[38;5;124m\"\u001b[39m\u001b[38;5;124mEmbedding Shape:\u001b[39m\u001b[38;5;124m\"\u001b[39m, embedding\u001b[38;5;241m.\u001b[39mshape)\n",
      "Cell \u001b[0;32mIn[9], line 6\u001b[0m, in \u001b[0;36mget_image_embedding_from_url\u001b[0;34m(url)\u001b[0m\n\u001b[1;32m      5\u001b[0m \u001b[38;5;28;01mdef\u001b[39;00m\u001b[38;5;250m \u001b[39m\u001b[38;5;21mget_image_embedding_from_url\u001b[39m(url):\n\u001b[0;32m----> 6\u001b[0m     response \u001b[38;5;241m=\u001b[39m \u001b[43mrequests\u001b[49m\u001b[38;5;241;43m.\u001b[39;49m\u001b[43mget\u001b[49m\u001b[43m(\u001b[49m\u001b[43murl\u001b[49m\u001b[43m)\u001b[49m\n\u001b[1;32m      7\u001b[0m     \u001b[38;5;28;01mif\u001b[39;00m response\u001b[38;5;241m.\u001b[39mstatus_code \u001b[38;5;241m!=\u001b[39m \u001b[38;5;241m200\u001b[39m:\n\u001b[1;32m      8\u001b[0m         \u001b[38;5;28;01mraise\u001b[39;00m \u001b[38;5;167;01mValueError\u001b[39;00m(\u001b[38;5;124mf\u001b[39m\u001b[38;5;124m\"\u001b[39m\u001b[38;5;124mFailed to download image. Status code: \u001b[39m\u001b[38;5;132;01m{\u001b[39;00mresponse\u001b[38;5;241m.\u001b[39mstatus_code\u001b[38;5;132;01m}\u001b[39;00m\u001b[38;5;124m\"\u001b[39m)\n",
      "File \u001b[0;32m~/code/opensearch_eval/.venv/lib/python3.10/site-packages/requests/api.py:73\u001b[0m, in \u001b[0;36mget\u001b[0;34m(url, params, **kwargs)\u001b[0m\n\u001b[1;32m     62\u001b[0m \u001b[38;5;28;01mdef\u001b[39;00m\u001b[38;5;250m \u001b[39m\u001b[38;5;21mget\u001b[39m(url, params\u001b[38;5;241m=\u001b[39m\u001b[38;5;28;01mNone\u001b[39;00m, \u001b[38;5;241m*\u001b[39m\u001b[38;5;241m*\u001b[39mkwargs):\n\u001b[1;32m     63\u001b[0m \u001b[38;5;250m    \u001b[39m\u001b[38;5;124mr\u001b[39m\u001b[38;5;124;03m\"\"\"Sends a GET request.\u001b[39;00m\n\u001b[1;32m     64\u001b[0m \n\u001b[1;32m     65\u001b[0m \u001b[38;5;124;03m    :param url: URL for the new :class:`Request` object.\u001b[39;00m\n\u001b[0;32m   (...)\u001b[0m\n\u001b[1;32m     70\u001b[0m \u001b[38;5;124;03m    :rtype: requests.Response\u001b[39;00m\n\u001b[1;32m     71\u001b[0m \u001b[38;5;124;03m    \"\"\"\u001b[39;00m\n\u001b[0;32m---> 73\u001b[0m     \u001b[38;5;28;01mreturn\u001b[39;00m \u001b[43mrequest\u001b[49m\u001b[43m(\u001b[49m\u001b[38;5;124;43m\"\u001b[39;49m\u001b[38;5;124;43mget\u001b[39;49m\u001b[38;5;124;43m\"\u001b[39;49m\u001b[43m,\u001b[49m\u001b[43m \u001b[49m\u001b[43murl\u001b[49m\u001b[43m,\u001b[49m\u001b[43m \u001b[49m\u001b[43mparams\u001b[49m\u001b[38;5;241;43m=\u001b[39;49m\u001b[43mparams\u001b[49m\u001b[43m,\u001b[49m\u001b[43m \u001b[49m\u001b[38;5;241;43m*\u001b[39;49m\u001b[38;5;241;43m*\u001b[39;49m\u001b[43mkwargs\u001b[49m\u001b[43m)\u001b[49m\n",
      "File \u001b[0;32m~/code/opensearch_eval/.venv/lib/python3.10/site-packages/requests/api.py:59\u001b[0m, in \u001b[0;36mrequest\u001b[0;34m(method, url, **kwargs)\u001b[0m\n\u001b[1;32m     55\u001b[0m \u001b[38;5;66;03m# By using the 'with' statement we are sure the session is closed, thus we\u001b[39;00m\n\u001b[1;32m     56\u001b[0m \u001b[38;5;66;03m# avoid leaving sockets open which can trigger a ResourceWarning in some\u001b[39;00m\n\u001b[1;32m     57\u001b[0m \u001b[38;5;66;03m# cases, and look like a memory leak in others.\u001b[39;00m\n\u001b[1;32m     58\u001b[0m \u001b[38;5;28;01mwith\u001b[39;00m sessions\u001b[38;5;241m.\u001b[39mSession() \u001b[38;5;28;01mas\u001b[39;00m session:\n\u001b[0;32m---> 59\u001b[0m     \u001b[38;5;28;01mreturn\u001b[39;00m \u001b[43msession\u001b[49m\u001b[38;5;241;43m.\u001b[39;49m\u001b[43mrequest\u001b[49m\u001b[43m(\u001b[49m\u001b[43mmethod\u001b[49m\u001b[38;5;241;43m=\u001b[39;49m\u001b[43mmethod\u001b[49m\u001b[43m,\u001b[49m\u001b[43m \u001b[49m\u001b[43murl\u001b[49m\u001b[38;5;241;43m=\u001b[39;49m\u001b[43murl\u001b[49m\u001b[43m,\u001b[49m\u001b[43m \u001b[49m\u001b[38;5;241;43m*\u001b[39;49m\u001b[38;5;241;43m*\u001b[39;49m\u001b[43mkwargs\u001b[49m\u001b[43m)\u001b[49m\n",
      "File \u001b[0;32m~/code/opensearch_eval/.venv/lib/python3.10/site-packages/requests/sessions.py:589\u001b[0m, in \u001b[0;36mSession.request\u001b[0;34m(self, method, url, params, data, headers, cookies, files, auth, timeout, allow_redirects, proxies, hooks, stream, verify, cert, json)\u001b[0m\n\u001b[1;32m    584\u001b[0m send_kwargs \u001b[38;5;241m=\u001b[39m {\n\u001b[1;32m    585\u001b[0m     \u001b[38;5;124m\"\u001b[39m\u001b[38;5;124mtimeout\u001b[39m\u001b[38;5;124m\"\u001b[39m: timeout,\n\u001b[1;32m    586\u001b[0m     \u001b[38;5;124m\"\u001b[39m\u001b[38;5;124mallow_redirects\u001b[39m\u001b[38;5;124m\"\u001b[39m: allow_redirects,\n\u001b[1;32m    587\u001b[0m }\n\u001b[1;32m    588\u001b[0m send_kwargs\u001b[38;5;241m.\u001b[39mupdate(settings)\n\u001b[0;32m--> 589\u001b[0m resp \u001b[38;5;241m=\u001b[39m \u001b[38;5;28;43mself\u001b[39;49m\u001b[38;5;241;43m.\u001b[39;49m\u001b[43msend\u001b[49m\u001b[43m(\u001b[49m\u001b[43mprep\u001b[49m\u001b[43m,\u001b[49m\u001b[43m \u001b[49m\u001b[38;5;241;43m*\u001b[39;49m\u001b[38;5;241;43m*\u001b[39;49m\u001b[43msend_kwargs\u001b[49m\u001b[43m)\u001b[49m\n\u001b[1;32m    591\u001b[0m \u001b[38;5;28;01mreturn\u001b[39;00m resp\n",
      "File \u001b[0;32m~/code/opensearch_eval/.venv/lib/python3.10/site-packages/requests/sessions.py:703\u001b[0m, in \u001b[0;36mSession.send\u001b[0;34m(self, request, **kwargs)\u001b[0m\n\u001b[1;32m    700\u001b[0m start \u001b[38;5;241m=\u001b[39m preferred_clock()\n\u001b[1;32m    702\u001b[0m \u001b[38;5;66;03m# Send the request\u001b[39;00m\n\u001b[0;32m--> 703\u001b[0m r \u001b[38;5;241m=\u001b[39m \u001b[43madapter\u001b[49m\u001b[38;5;241;43m.\u001b[39;49m\u001b[43msend\u001b[49m\u001b[43m(\u001b[49m\u001b[43mrequest\u001b[49m\u001b[43m,\u001b[49m\u001b[43m \u001b[49m\u001b[38;5;241;43m*\u001b[39;49m\u001b[38;5;241;43m*\u001b[39;49m\u001b[43mkwargs\u001b[49m\u001b[43m)\u001b[49m\n\u001b[1;32m    705\u001b[0m \u001b[38;5;66;03m# Total elapsed time of the request (approximately)\u001b[39;00m\n\u001b[1;32m    706\u001b[0m elapsed \u001b[38;5;241m=\u001b[39m preferred_clock() \u001b[38;5;241m-\u001b[39m start\n",
      "File \u001b[0;32m~/code/opensearch_eval/.venv/lib/python3.10/site-packages/requests/adapters.py:700\u001b[0m, in \u001b[0;36mHTTPAdapter.send\u001b[0;34m(self, request, stream, timeout, verify, cert, proxies)\u001b[0m\n\u001b[1;32m    696\u001b[0m     \u001b[38;5;28;01mif\u001b[39;00m \u001b[38;5;28misinstance\u001b[39m(e\u001b[38;5;241m.\u001b[39mreason, _SSLError):\n\u001b[1;32m    697\u001b[0m         \u001b[38;5;66;03m# This branch is for urllib3 v1.22 and later.\u001b[39;00m\n\u001b[1;32m    698\u001b[0m         \u001b[38;5;28;01mraise\u001b[39;00m SSLError(e, request\u001b[38;5;241m=\u001b[39mrequest)\n\u001b[0;32m--> 700\u001b[0m     \u001b[38;5;28;01mraise\u001b[39;00m \u001b[38;5;167;01mConnectionError\u001b[39;00m(e, request\u001b[38;5;241m=\u001b[39mrequest)\n\u001b[1;32m    702\u001b[0m \u001b[38;5;28;01mexcept\u001b[39;00m ClosedPoolError \u001b[38;5;28;01mas\u001b[39;00m e:\n\u001b[1;32m    703\u001b[0m     \u001b[38;5;28;01mraise\u001b[39;00m \u001b[38;5;167;01mConnectionError\u001b[39;00m(e, request\u001b[38;5;241m=\u001b[39mrequest)\n",
      "\u001b[0;31mConnectionError\u001b[0m: HTTPConnectionPool(host='crowdfile.blob.core.chinacloudapi.cn', port=80): Max retries exceeded with url: /4615/2366867.jpg (Caused by NewConnectionError('<urllib3.connection.HTTPConnection object at 0x7f31e60dc790>: Failed to establish a new connection: [Errno -2] Name or service not known'))"
     ]
    }
   ],
   "source": [
    "embedding = get_image_embedding_from_url(image_url)\n",
    "\n",
    "print(\"Image Embedding:\", embedding)\n",
    "print(\"Embedding Shape:\", embedding.shape)"
   ]
  },
  {
   "cell_type": "markdown",
   "id": "e2bba70e-85ba-401f-8d23-d4077ed77d24",
   "metadata": {},
   "source": [
    "Unfortunately, this didn't work because the URLs provided are not valid. We need to figure out if there's a valid URL from where we can pull these images. We can always download them directly, but that's to much unnecessary data (more than 14 GB)."
   ]
  },
  {
   "cell_type": "markdown",
   "id": "41a4cabf-121b-48b5-b182-0b477639dc1b",
   "metadata": {},
   "source": [
    "HuggingFace's datasets library has this data. Based on the description on that [dataset's page](https://huggingface.co/datasets/ranjaykrishna/visual_genome), it looks like stanform.edu has this data hosted. One example link from this page looks like this: `https://cs.stanford.edu/people/rak248/VG_100K_2/1.jpg`. Let's see if this works. The biggest issue here that we need to confirm is if the image ID, i.e., `filename.jpg`, are consistend between the two datasets."
   ]
  },
  {
   "cell_type": "code",
   "execution_count": 23,
   "id": "4bc656d4-9441-4937-84c1-18d674faba08",
   "metadata": {},
   "outputs": [
    {
     "data": {
      "text/plain": [
       "'https://cs.stanford.edu/people/rak248/VG_100K_2/2407115.jpg'"
      ]
     },
     "execution_count": 23,
     "metadata": {},
     "output_type": "execute_result"
    }
   ],
   "source": [
    "image_url = list(df['image_url'])[100]\n",
    "image_url = image_url.replace('http://crowdfile.blob.core.chinacloudapi.cn/4615', 'https://cs.stanford.edu/people/rak248/VG_100K_2')\n",
    "image_url"
   ]
  },
  {
   "cell_type": "code",
   "execution_count": 25,
   "id": "44cbaa54-eeba-451f-b98e-f572d7221d9d",
   "metadata": {},
   "outputs": [
    {
     "data": {
      "image/jpeg": "[encoded data removed]",
      "text/plain": [
       "<IPython.core.display.Image object>"
      ]
     },
     "metadata": {},
     "output_type": "display_data"
    }
   ],
   "source": [
    "from IPython.display import Image, display\n",
    "\n",
    "response = requests.get(image_url)\n",
    "\n",
    "if response.status_code == 200:\n",
    "    display(Image(response.content))\n",
    "else:\n",
    "    print(\"Failed to fetch image:\", response.status_code)"
   ]
  },
  {
   "cell_type": "markdown",
   "id": "0d6fb89f-f251-4aee-9cb4-d53a165a8612",
   "metadata": {},
   "source": [
    "Let's check what tags we have for this image ID."
   ]
  },
  {
   "cell_type": "code",
   "execution_count": 30,
   "id": "56698e4e-8a3b-41fe-9376-734559ae30ee",
   "metadata": {},
   "outputs": [
    {
     "data": {
      "text/plain": [
       "'2407115'"
      ]
     },
     "execution_count": 30,
     "metadata": {},
     "output_type": "execute_result"
    }
   ],
   "source": [
    "from pathlib import Path\n",
    "\n",
    "Path(image_url).stem"
   ]
  },
  {
   "cell_type": "code",
   "execution_count": 32,
   "id": "15803448-1f25-4c59-b3e6-879b5be5c8fe",
   "metadata": {},
   "outputs": [
    {
     "data": {
      "text/plain": [
       "image_id      int64\n",
       "image_url    object\n",
       "tags         object\n",
       "dtype: object"
      ]
     },
     "execution_count": 32,
     "metadata": {},
     "output_type": "execute_result"
    }
   ],
   "source": [
    "df.dtypes"
   ]
  },
  {
   "cell_type": "code",
   "execution_count": 35,
   "id": "f5605381-eac1-4c5a-becc-14040d6bdba7",
   "metadata": {},
   "outputs": [
    {
     "data": {
      "text/plain": [
       "array([\"['cuff', 'wire', 'mouth', 'man', 'collar', 'tie', 'coat', 'button', 'shirt', 'hair', 'background', 'hand', 'nose', 'teeth', 'hat', 'microphone', 'circle', 'elbow', 'band', 'lapel', 'facial hair']\"],\n",
       "      dtype=object)"
      ]
     },
     "execution_count": 35,
     "metadata": {},
     "output_type": "execute_result"
    }
   ],
   "source": [
    "df[df['image_id'] == int(Path(image_url).stem)]['tags'].values"
   ]
  },
  {
   "cell_type": "markdown",
   "id": "5a1453e8-7170-4a50-a791-08efacfdbecf",
   "metadata": {},
   "source": [
    "Okay, that looks good. So now all we need to do is edit the URLs on the fly and then generate embeddings."
   ]
  },
  {
   "cell_type": "code",
   "execution_count": 46,
   "id": "f81c84ce-51a9-41a2-83e1-a9a6af70a313",
   "metadata": {},
   "outputs": [],
   "source": [
    "def get_image_embedding_from_url(url):\n",
    "    \"\"\"\n",
    "    Updated to change the URL to stanford\n",
    "    \"\"\"\n",
    "    url = url.replace('http://crowdfile.blob.core.chinacloudapi.cn/4615', 'https://cs.stanford.edu/people/rak248/VG_100K_2')\n",
    "    \n",
    "    response = requests.get(url)\n",
    "    \n",
    "    if response.status_code != 200:\n",
    "        print(f\"Failed to download image. Status code: {response.status_code}. Image ID: {Path(url).stem}\")\n",
    "        return []\n",
    "    else:\n",
    "        image = Image.open(BytesIO(response.content)).convert(\"RGB\")\n",
    "        inputs = processor(images=image, return_tensors=\"pt\")\n",
    "        \n",
    "        with torch.no_grad():\n",
    "            image_features = model.get_image_features(**inputs)\n",
    "        \n",
    "        image_features = image_features / image_features.norm(dim=-1, keepdim=True)\n",
    "        \n",
    "        return image_features"
   ]
  },
  {
   "cell_type": "code",
   "execution_count": 39,
   "id": "f43ae87b-893d-41aa-8917-a09077253bbc",
   "metadata": {
    "scrolled": true
   },
   "outputs": [
    {
     "name": "stdout",
     "output_type": "stream",
     "text": [
      "Image Embedding: tensor([[-3.0047e-02,  1.3798e-02,  2.0608e-02, -2.5926e-02,  1.6204e-02,\n",
      "          4.6121e-02, -3.6586e-02,  5.9838e-03,  8.9791e-03,  3.4367e-02,\n",
      "          3.0029e-02,  1.7072e-02, -5.7102e-02,  1.9126e-02,  1.5771e-02,\n",
      "          3.6129e-02,  1.5801e-01,  8.6084e-03, -1.9979e-02,  3.1234e-02,\n",
      "         -1.0953e-02, -2.7018e-02, -6.5434e-03, -2.4393e-02, -1.9755e-02,\n",
      "          2.0430e-02,  2.5274e-02, -2.0320e-02, -1.6332e-02,  2.4468e-02,\n",
      "         -1.4333e-02,  5.2850e-02, -3.5859e-02,  2.4707e-02,  3.2052e-02,\n",
      "          4.3431e-02, -1.5107e-02,  7.7918e-03,  1.5209e-02,  1.4911e-01,\n",
      "          2.2131e-04, -9.5154e-02, -3.0854e-02,  9.4707e-03, -2.3313e-02,\n",
      "          1.8240e-01,  6.0893e-02,  2.8236e-02, -2.0942e-02, -5.9689e-02,\n",
      "          3.8609e-02,  1.8954e-02, -2.9296e-02,  1.1618e-02, -3.3098e-02,\n",
      "          2.1017e-02,  6.1695e-02,  1.3522e-02,  1.2031e-02,  2.5768e-02,\n",
      "          3.6889e-03, -1.5207e-02, -3.0718e-02,  5.2270e-02, -6.1428e-03,\n",
      "         -2.8086e-02,  1.2584e-02,  1.4136e-01,  2.8292e-02, -3.9787e-02,\n",
      "         -9.5520e-04, -3.0381e-02,  8.7200e-03,  6.4786e-02,  3.2089e-02,\n",
      "         -1.3251e-02,  2.7935e-03,  3.3827e-02, -1.6308e-02, -2.8384e-02,\n",
      "          2.7789e-03, -1.3433e-02, -5.8985e-03, -1.4921e-02,  3.2871e-02,\n",
      "         -4.0221e-03, -4.5837e-02, -5.2542e-02,  2.2858e-02,  1.4933e-02,\n",
      "          1.1892e-02,  2.0650e-02, -4.4133e-01, -1.8155e-01, -2.5994e-02,\n",
      "          3.6087e-02,  9.8358e-03,  2.8148e-02, -6.6742e-02, -5.9080e-02,\n",
      "          5.4697e-02, -2.4446e-02, -1.8487e-02, -2.5153e-02, -3.0083e-03,\n",
      "         -1.2572e-04, -1.3337e-01,  4.0385e-03, -7.1278e-03, -4.6253e-03,\n",
      "          6.4671e-03, -1.0911e-01, -2.9888e-02, -2.3162e-02,  9.2255e-03,\n",
      "          1.3446e-02, -3.4418e-02,  2.3153e-03, -1.4839e-02, -8.8100e-03,\n",
      "          2.6762e-03,  2.8622e-02, -1.1908e-02, -4.2264e-02, -5.1281e-02,\n",
      "         -1.3211e-02, -5.2283e-02,  5.8470e-03, -8.2019e-02, -1.9123e-02,\n",
      "          5.8600e-02, -8.0759e-03, -1.4204e-02,  8.1539e-02,  4.3339e-02,\n",
      "          2.7922e-02,  1.8096e-02, -7.9448e-03,  3.3367e-02, -2.3551e-02,\n",
      "         -3.1640e-03, -1.1758e-02, -8.1039e-03,  2.8132e-04, -7.3720e-03,\n",
      "          4.6190e-02,  1.3114e-02,  1.7565e-02, -1.4009e-02, -3.8736e-02,\n",
      "         -3.6767e-02,  4.4152e-03,  1.3858e-01,  3.5819e-02, -2.0149e-02,\n",
      "         -3.4311e-02,  1.7529e-02, -1.9106e-02,  2.5283e-02, -2.6085e-02,\n",
      "          3.7739e-02, -1.9359e-02,  1.2122e-03,  4.5554e-03, -3.8627e-02,\n",
      "         -2.6399e-02, -1.3470e-02,  6.5472e-03,  7.2794e-03, -3.2681e-02,\n",
      "         -1.1059e-02, -1.1331e-02, -3.6274e-02, -4.6768e-02,  5.1970e-03,\n",
      "         -2.0200e-02,  3.0697e-02,  8.7517e-03,  6.4657e-02,  6.6782e-03,\n",
      "          2.3208e-02,  3.2428e-02, -9.0444e-03, -2.6190e-02, -1.0892e-02,\n",
      "          2.3183e-02,  5.9325e-02, -3.8977e-02, -6.6067e-03,  2.6315e-03,\n",
      "          2.0419e-02, -9.7090e-04, -1.5600e-02, -4.5664e-03, -3.6758e-02,\n",
      "         -5.4588e-03, -1.1083e-02, -2.1613e-02, -1.3016e-01, -2.1173e-02,\n",
      "         -5.6697e-02, -1.9170e-02, -1.6551e-03, -3.8008e-02,  4.3384e-02,\n",
      "         -2.2872e-02, -2.0517e-02, -2.5894e-02,  1.7055e-02,  1.4265e-02,\n",
      "         -2.7883e-02,  1.9416e-02,  6.7969e-03, -5.6941e-02,  1.0739e-03,\n",
      "         -2.9114e-02, -3.0590e-02,  3.7903e-02, -6.3804e-02,  4.8366e-04,\n",
      "         -4.3938e-02, -8.1753e-02,  1.6207e-02, -3.1416e-02, -3.3203e-02,\n",
      "         -3.0178e-03,  2.9272e-02,  4.5927e-02, -3.1946e-03, -3.8839e-02,\n",
      "          8.4100e-03, -4.2989e-04,  6.4945e-03,  3.7935e-03, -2.0721e-02,\n",
      "          1.5420e-03,  3.4293e-02,  3.0380e-02,  7.0139e-02,  4.9497e-03,\n",
      "          6.3600e-02,  6.3011e-03,  7.3119e-03,  3.0662e-02,  1.9150e-02,\n",
      "         -6.0047e-03, -2.2755e-02, -1.9497e-02, -4.4509e-02,  3.3721e-02,\n",
      "         -6.1583e-03,  3.2293e-02,  4.4441e-02, -3.1856e-02, -4.6008e-02,\n",
      "         -1.4502e-02, -4.9811e-03, -1.3419e-02,  7.7063e-02, -9.8301e-03,\n",
      "          2.6471e-02,  9.3716e-03,  5.1382e-02, -1.5130e-01, -5.3132e-03,\n",
      "         -5.4398e-02,  7.1663e-03,  2.7403e-02,  6.1592e-02,  1.4315e-02,\n",
      "         -4.4703e-02,  3.3597e-02,  3.1750e-02,  2.9849e-02,  3.6751e-02,\n",
      "         -4.1614e-02, -7.6458e-03, -2.9507e-02, -4.0542e-02,  2.6961e-02,\n",
      "          2.8158e-02, -3.1546e-03,  9.1653e-02,  1.6684e-02,  4.0079e-03,\n",
      "         -4.5489e-03, -1.7033e-01,  7.4248e-03, -4.7563e-04, -2.2932e-02,\n",
      "          2.3420e-02, -8.5984e-04, -2.1234e-02,  4.4597e-02, -1.4810e-02,\n",
      "         -1.4199e-03, -6.2286e-03, -8.9640e-03, -3.0019e-02, -7.3266e-03,\n",
      "          3.3539e-02, -6.3231e-02,  1.2824e-02, -3.8040e-03, -1.4767e-02,\n",
      "          7.3405e-02, -5.5615e-02,  4.4517e-02,  1.0805e-02,  4.4744e-03,\n",
      "          1.5430e-02, -2.1919e-02,  8.1261e-02,  1.6286e-02,  7.3431e-02,\n",
      "          3.0151e-02,  1.5691e-02, -8.6995e-02, -6.1968e-03, -3.3706e-02,\n",
      "          2.1359e-02, -1.2883e-01, -2.8129e-02,  4.3404e-03,  5.2480e-03,\n",
      "          7.6437e-03,  2.0755e-02,  2.5791e-02, -2.2623e-02, -7.4328e-02,\n",
      "          5.0457e-02,  5.1221e-02,  2.6747e-02,  1.7394e-02, -3.9081e-03,\n",
      "          3.4804e-02, -3.8330e-02,  3.8489e-02, -5.8578e-02,  4.0845e-02,\n",
      "         -5.5124e-03, -5.2152e-02,  8.4625e-04,  1.2352e-02,  6.4772e-03,\n",
      "          2.7812e-02, -2.8065e-02,  2.8571e-02,  2.5166e-02, -2.2482e-02,\n",
      "          3.3676e-02, -8.3220e-05, -1.3591e-02,  1.2956e-02, -1.1320e-02,\n",
      "         -1.7276e-02, -1.8341e-03, -7.7326e-02,  2.4965e-02, -1.9163e-02,\n",
      "         -5.9674e-03,  2.1905e-03, -2.8440e-02, -9.7515e-03, -1.3706e-02,\n",
      "          5.1566e-04, -4.3427e-02,  1.0351e-01, -7.1513e-03,  3.2760e-02,\n",
      "         -3.1534e-03,  2.0152e-02,  3.1487e-02,  4.2351e-02, -1.4623e-02,\n",
      "          4.0157e-03, -2.8983e-02, -3.3858e-02, -2.9334e-02,  2.9345e-02,\n",
      "         -9.8445e-03,  4.6502e-02,  3.0470e-02,  1.9620e-02,  2.2400e-02,\n",
      "          2.8027e-03,  4.0014e-02, -3.2765e-02,  1.9148e-02,  1.1117e-01,\n",
      "         -1.2498e-01, -5.7113e-02,  3.0222e-02, -1.7877e-02,  3.4447e-02,\n",
      "         -3.8147e-02,  1.4631e-03,  9.4302e-03, -3.1398e-02, -6.2848e-02,\n",
      "         -2.1889e-02,  2.7066e-02,  6.8886e-03, -2.2262e-02, -1.1293e-02,\n",
      "         -3.8756e-02, -3.7500e-02,  1.7721e-02, -1.2081e-02,  1.0610e-03,\n",
      "          8.4408e-02, -3.3589e-02, -3.7212e-02,  5.2642e-02,  3.7589e-03,\n",
      "          1.1030e-02,  4.4974e-03,  4.4764e-02, -4.3023e-02,  5.8344e-02,\n",
      "          1.3965e-02, -3.4741e-02,  1.8330e-02,  3.1696e-02, -2.8372e-02,\n",
      "          3.4251e-02, -2.9485e-02,  2.4630e-02,  8.9404e-02,  2.7608e-02,\n",
      "         -2.1950e-02,  3.2693e-03,  6.7955e-02, -3.8551e-02, -5.4809e-02,\n",
      "         -1.1434e-02,  3.1305e-02, -1.6064e-03,  5.4617e-03, -6.1229e-03,\n",
      "         -3.1188e-03, -2.4686e-02, -5.2166e-02, -9.9932e-05,  3.1960e-02,\n",
      "          1.3663e-02, -2.8880e-03, -7.5591e-03, -4.0634e-02, -7.6534e-03,\n",
      "         -2.2787e-02,  3.1194e-02, -1.2231e-02, -2.0006e-02, -2.7328e-03,\n",
      "         -8.5467e-03, -1.4035e-03, -3.8588e-02,  2.7809e-02,  4.6884e-02,\n",
      "          2.5119e-02,  2.0705e-02,  1.6134e-02, -7.6287e-03,  4.6114e-03,\n",
      "          3.1161e-02,  7.7117e-02, -1.6616e-02,  2.7232e-02, -6.1617e-03,\n",
      "         -1.9913e-03, -3.1404e-02,  4.7687e-02, -3.3727e-02,  2.6240e-02,\n",
      "          1.6193e-02, -2.1473e-02,  4.9476e-02, -1.0352e-02, -3.6007e-02,\n",
      "         -4.2765e-02, -7.0232e-03,  3.5927e-02,  4.6141e-02, -4.4517e-02,\n",
      "          6.8168e-02,  2.0776e-02,  5.7526e-03,  3.1906e-02, -1.4433e-02,\n",
      "          2.2788e-02, -1.6501e-02,  5.0903e-02, -5.4892e-02,  2.4611e-02,\n",
      "         -7.9218e-03,  1.9730e-02, -2.2618e-02,  3.4754e-02, -4.0160e-02,\n",
      "          6.0608e-03,  1.5661e-02,  2.7890e-02, -2.0472e-02,  6.7204e-02,\n",
      "         -6.7893e-02,  1.2761e-02,  3.5149e-02, -1.2006e-02,  1.3077e-02,\n",
      "          2.5197e-02, -3.6478e-02]])\n",
      "Embedding Shape: torch.Size([1, 512])\n"
     ]
    }
   ],
   "source": [
    "from PIL import Image\n",
    "\n",
    "original_url = image_url = list(df['image_url'])[100]\n",
    "\n",
    "embedding = get_image_embedding_from_url(original_url)\n",
    "\n",
    "print(\"Image Embedding:\", embedding)\n",
    "print(\"Embedding Shape:\", embedding.shape)"
   ]
  },
  {
   "cell_type": "markdown",
   "id": "51bde4cd-187a-4087-8fd4-b362b9b8b149",
   "metadata": {},
   "source": [
    "Okay, that worked! Now let's hope that this works for all 1,000 images."
   ]
  },
  {
   "cell_type": "code",
   "execution_count": 50,
   "id": "2ffc0d21-9c79-429e-95f5-0e52572007db",
   "metadata": {
    "collapsed": true,
    "jupyter": {
     "outputs_hidden": true
    }
   },
   "outputs": [
    {
     "name": "stdout",
     "output_type": "stream",
     "text": [
      "Failed to download image. Status code: 404. Image ID: 2366867\n",
      "Failed to download image. Status code: 404. Image ID: 2329504\n",
      "Failed to download image. Status code: 404. Image ID: 2347788\n",
      "Failed to download image. Status code: 404. Image ID: 2318253\n",
      "Failed to download image. Status code: 404. Image ID: 2325505\n",
      "Failed to download image. Status code: 404. Image ID: 2375554\n",
      "Failed to download image. Status code: 404. Image ID: 2338858\n",
      "Failed to download image. Status code: 404. Image ID: 285966\n",
      "Failed to download image. Status code: 404. Image ID: 2333971\n",
      "Failed to download image. Status code: 404. Image ID: 2318141\n",
      "Failed to download image. Status code: 404. Image ID: 2370306\n",
      "Failed to download image. Status code: 404. Image ID: 107926\n",
      "Failed to download image. Status code: 404. Image ID: 2325122\n",
      "Failed to download image. Status code: 404. Image ID: 2348450\n",
      "Failed to download image. Status code: 404. Image ID: 2362686\n",
      "Failed to download image. Status code: 404. Image ID: 2321096\n",
      "Failed to download image. Status code: 404. Image ID: 2346451\n",
      "Failed to download image. Status code: 404. Image ID: 150439\n",
      "Failed to download image. Status code: 404. Image ID: 2332467\n",
      "Failed to download image. Status code: 404. Image ID: 2344478\n",
      "Failed to download image. Status code: 404. Image ID: 2322080\n",
      "Failed to download image. Status code: 404. Image ID: 2334893\n",
      "Failed to download image. Status code: 404. Image ID: 2323433\n",
      "Failed to download image. Status code: 404. Image ID: 2355838\n",
      "Failed to download image. Status code: 404. Image ID: 2335460\n",
      "Failed to download image. Status code: 404. Image ID: 2321226\n",
      "Failed to download image. Status code: 404. Image ID: 2345998\n",
      "Failed to download image. Status code: 404. Image ID: 2367315\n",
      "Failed to download image. Status code: 404. Image ID: 2356506\n",
      "Failed to download image. Status code: 404. Image ID: 2350197\n",
      "Failed to download image. Status code: 404. Image ID: 2341319\n",
      "Failed to download image. Status code: 404. Image ID: 2318429\n",
      "Failed to download image. Status code: 404. Image ID: 2377028\n",
      "Failed to download image. Status code: 404. Image ID: 2376516\n",
      "Failed to download image. Status code: 404. Image ID: 1159898\n",
      "Failed to download image. Status code: 404. Image ID: 286009\n",
      "Failed to download image. Status code: 404. Image ID: 2343879\n",
      "Failed to download image. Status code: 404. Image ID: 1159787\n",
      "Failed to download image. Status code: 404. Image ID: 2365362\n",
      "Failed to download image. Status code: 404. Image ID: 2364289\n",
      "Failed to download image. Status code: 404. Image ID: 150321\n",
      "Failed to download image. Status code: 404. Image ID: 2366514\n",
      "Failed to download image. Status code: 404. Image ID: 2329292\n",
      "Failed to download image. Status code: 404. Image ID: 2345334\n",
      "Failed to download image. Status code: 404. Image ID: 2370977\n",
      "Failed to download image. Status code: 404. Image ID: 2351899\n",
      "Failed to download image. Status code: 404. Image ID: 2318499\n",
      "Failed to download image. Status code: 404. Image ID: 2343721\n",
      "Failed to download image. Status code: 404. Image ID: 2340750\n",
      "Failed to download image. Status code: 404. Image ID: 2331429\n",
      "Failed to download image. Status code: 404. Image ID: 2334588\n",
      "Failed to download image. Status code: 404. Image ID: 2335550\n",
      "Failed to download image. Status code: 404. Image ID: 2361124\n",
      "Failed to download image. Status code: 404. Image ID: 2361747\n",
      "Failed to download image. Status code: 404. Image ID: 2375598\n",
      "Failed to download image. Status code: 404. Image ID: 2364625\n",
      "Failed to download image. Status code: 404. Image ID: 2357298\n",
      "Failed to download image. Status code: 404. Image ID: 2334012\n",
      "Failed to download image. Status code: 404. Image ID: 713717\n",
      "Failed to download image. Status code: 404. Image ID: 2342389\n",
      "Failed to download image. Status code: 404. Image ID: 2358924\n",
      "Failed to download image. Status code: 404. Image ID: 2322655\n",
      "Failed to download image. Status code: 404. Image ID: 2320923\n",
      "Failed to download image. Status code: 404. Image ID: 2330169\n",
      "Failed to download image. Status code: 404. Image ID: 2332438\n",
      "Failed to download image. Status code: 404. Image ID: 2329873\n",
      "Failed to download image. Status code: 404. Image ID: 2362823\n",
      "Failed to download image. Status code: 404. Image ID: 2320742\n",
      "Failed to download image. Status code: 404. Image ID: 2336722\n",
      "Failed to download image. Status code: 404. Image ID: 2343757\n",
      "Failed to download image. Status code: 404. Image ID: 2337957\n",
      "Failed to download image. Status code: 404. Image ID: 713480\n",
      "Failed to download image. Status code: 404. Image ID: 2321183\n",
      "Failed to download image. Status code: 404. Image ID: 2329218\n",
      "Failed to download image. Status code: 404. Image ID: 2372541\n",
      "Failed to download image. Status code: 404. Image ID: 2315973\n",
      "Failed to download image. Status code: 404. Image ID: 2361314\n",
      "Failed to download image. Status code: 404. Image ID: 1592943\n",
      "Failed to download image. Status code: 404. Image ID: 2359909\n",
      "Failed to download image. Status code: 404. Image ID: 2369957\n",
      "Failed to download image. Status code: 404. Image ID: 2318823\n",
      "Failed to download image. Status code: 404. Image ID: 2353578\n",
      "Failed to download image. Status code: 404. Image ID: 2326425\n",
      "Failed to download image. Status code: 404. Image ID: 2373417\n",
      "Failed to download image. Status code: 404. Image ID: 2357334\n",
      "Failed to download image. Status code: 404. Image ID: 2364839\n",
      "Failed to download image. Status code: 404. Image ID: 2336220\n",
      "Failed to download image. Status code: 404. Image ID: 2356510\n",
      "Failed to download image. Status code: 404. Image ID: 2333273\n",
      "Failed to download image. Status code: 404. Image ID: 713891\n",
      "Failed to download image. Status code: 404. Image ID: 2342778\n",
      "Failed to download image. Status code: 404. Image ID: 2344798\n",
      "Failed to download image. Status code: 404. Image ID: 2373994\n",
      "Failed to download image. Status code: 404. Image ID: 2320995\n",
      "Failed to download image. Status code: 404. Image ID: 2356769\n",
      "Failed to download image. Status code: 404. Image ID: 2343946\n",
      "Failed to download image. Status code: 404. Image ID: 2360510\n",
      "Failed to download image. Status code: 404. Image ID: 2357116\n",
      "Failed to download image. Status code: 404. Image ID: 2354321\n",
      "Failed to download image. Status code: 404. Image ID: 2357903\n",
      "Failed to download image. Status code: 404. Image ID: 2351034\n",
      "Failed to download image. Status code: 404. Image ID: 2373557\n",
      "Failed to download image. Status code: 404. Image ID: 2333113\n",
      "Failed to download image. Status code: 404. Image ID: 2364440\n",
      "Failed to download image. Status code: 404. Image ID: 2332284\n",
      "Failed to download image. Status code: 404. Image ID: 2361363\n",
      "Failed to download image. Status code: 404. Image ID: 2369563\n",
      "Failed to download image. Status code: 404. Image ID: 2376850\n",
      "Failed to download image. Status code: 404. Image ID: 2336462\n",
      "Failed to download image. Status code: 404. Image ID: 2356262\n",
      "Failed to download image. Status code: 404. Image ID: 2358145\n",
      "Failed to download image. Status code: 404. Image ID: 2370961\n",
      "Failed to download image. Status code: 404. Image ID: 2318939\n",
      "Failed to download image. Status code: 404. Image ID: 2352762\n",
      "Failed to download image. Status code: 404. Image ID: 2372275\n",
      "Failed to download image. Status code: 404. Image ID: 2360082\n",
      "Failed to download image. Status code: 404. Image ID: 2357939\n",
      "Failed to download image. Status code: 404. Image ID: 2329094\n",
      "Failed to download image. Status code: 404. Image ID: 2370580\n",
      "Failed to download image. Status code: 404. Image ID: 2328989\n",
      "Failed to download image. Status code: 404. Image ID: 2318646\n",
      "Failed to download image. Status code: 404. Image ID: 2369703\n",
      "Failed to download image. Status code: 404. Image ID: 2349514\n",
      "Failed to download image. Status code: 404. Image ID: 2324522\n",
      "Failed to download image. Status code: 404. Image ID: 2366328\n",
      "Failed to download image. Status code: 404. Image ID: 2319759\n",
      "Failed to download image. Status code: 404. Image ID: 2342853\n",
      "Failed to download image. Status code: 404. Image ID: 2367149\n",
      "Failed to download image. Status code: 404. Image ID: 2346155\n",
      "Failed to download image. Status code: 404. Image ID: 2365169\n",
      "Failed to download image. Status code: 404. Image ID: 2326255\n",
      "Failed to download image. Status code: 404. Image ID: 2332300\n",
      "Failed to download image. Status code: 404. Image ID: 1159805\n",
      "Failed to download image. Status code: 404. Image ID: 2358044\n",
      "Failed to download image. Status code: 404. Image ID: 2337807\n",
      "Failed to download image. Status code: 404. Image ID: 2323954\n",
      "Failed to download image. Status code: 404. Image ID: 713539\n",
      "Failed to download image. Status code: 404. Image ID: 285812\n",
      "Failed to download image. Status code: 404. Image ID: 2365582\n",
      "Failed to download image. Status code: 404. Image ID: 2341745\n",
      "Failed to download image. Status code: 404. Image ID: 2322385\n",
      "Failed to download image. Status code: 404. Image ID: 2343133\n",
      "Failed to download image. Status code: 404. Image ID: 2316640\n",
      "Failed to download image. Status code: 404. Image ID: 2368507\n",
      "Failed to download image. Status code: 404. Image ID: 2369756\n",
      "Failed to download image. Status code: 404. Image ID: 2369109\n",
      "Failed to download image. Status code: 404. Image ID: 2372196\n",
      "Failed to download image. Status code: 404. Image ID: 2369071\n",
      "Failed to download image. Status code: 404. Image ID: 2369505\n",
      "Failed to download image. Status code: 404. Image ID: 1160109\n",
      "Failed to download image. Status code: 404. Image ID: 2317307\n",
      "Failed to download image. Status code: 404. Image ID: 1592666\n",
      "Failed to download image. Status code: 404. Image ID: 2339786\n",
      "Failed to download image. Status code: 404. Image ID: 2376362\n",
      "Failed to download image. Status code: 404. Image ID: 2325814\n",
      "Failed to download image. Status code: 404. Image ID: 2322726\n",
      "Failed to download image. Status code: 404. Image ID: 2340619\n",
      "Failed to download image. Status code: 404. Image ID: 2363725\n",
      "Failed to download image. Status code: 404. Image ID: 2373880\n",
      "Failed to download image. Status code: 404. Image ID: 2375567\n",
      "Failed to download image. Status code: 404. Image ID: 285982\n",
      "Failed to download image. Status code: 404. Image ID: 2373651\n",
      "Failed to download image. Status code: 404. Image ID: 2334746\n",
      "Failed to download image. Status code: 404. Image ID: 2357326\n",
      "Failed to download image. Status code: 404. Image ID: 2321116\n",
      "Failed to download image. Status code: 404. Image ID: 2325460\n",
      "Failed to download image. Status code: 404. Image ID: 2371073\n",
      "Failed to download image. Status code: 404. Image ID: 2316622\n",
      "Failed to download image. Status code: 404. Image ID: 2332295\n",
      "Failed to download image. Status code: 404. Image ID: 2355773\n",
      "Failed to download image. Status code: 404. Image ID: 2363262\n",
      "Failed to download image. Status code: 404. Image ID: 107947\n",
      "Failed to download image. Status code: 404. Image ID: 2322916\n",
      "Failed to download image. Status code: 404. Image ID: 2322313\n",
      "Failed to download image. Status code: 404. Image ID: 2333817\n",
      "Failed to download image. Status code: 404. Image ID: 107966\n",
      "Failed to download image. Status code: 404. Image ID: 2345929\n",
      "Failed to download image. Status code: 404. Image ID: 2322942\n",
      "Failed to download image. Status code: 404. Image ID: 2362059\n",
      "Failed to download image. Status code: 404. Image ID: 2335882\n",
      "Failed to download image. Status code: 404. Image ID: 2351093\n",
      "Failed to download image. Status code: 404. Image ID: 2363892\n",
      "Failed to download image. Status code: 404. Image ID: 2347708\n",
      "Failed to download image. Status code: 404. Image ID: 2364079\n",
      "Failed to download image. Status code: 404. Image ID: 2333311\n",
      "Failed to download image. Status code: 404. Image ID: 2334626\n",
      "Failed to download image. Status code: 404. Image ID: 2321619\n",
      "Failed to download image. Status code: 404. Image ID: 2317532\n",
      "Failed to download image. Status code: 404. Image ID: 2372944\n",
      "Failed to download image. Status code: 404. Image ID: 2364816\n",
      "Failed to download image. Status code: 404. Image ID: 2349219\n",
      "Failed to download image. Status code: 404. Image ID: 2345174\n",
      "Failed to download image. Status code: 404. Image ID: 2327735\n",
      "Failed to download image. Status code: 404. Image ID: 2360699\n",
      "Failed to download image. Status code: 404. Image ID: 2358487\n",
      "Failed to download image. Status code: 404. Image ID: 2352623\n",
      "Failed to download image. Status code: 404. Image ID: 2343633\n",
      "Failed to download image. Status code: 404. Image ID: 2320684\n",
      "Failed to download image. Status code: 404. Image ID: 2360966\n",
      "Failed to download image. Status code: 404. Image ID: 2365577\n",
      "Failed to download image. Status code: 404. Image ID: 2336135\n",
      "Failed to download image. Status code: 404. Image ID: 2345146\n",
      "Failed to download image. Status code: 404. Image ID: 2326851\n",
      "Failed to download image. Status code: 404. Image ID: 2358706\n",
      "Failed to download image. Status code: 404. Image ID: 2353302\n",
      "Failed to download image. Status code: 404. Image ID: 2336851\n",
      "Failed to download image. Status code: 404. Image ID: 2367668\n",
      "Failed to download image. Status code: 404. Image ID: 2321976\n",
      "Failed to download image. Status code: 404. Image ID: 2336330\n",
      "Failed to download image. Status code: 404. Image ID: 2318686\n",
      "Failed to download image. Status code: 404. Image ID: 2363451\n",
      "Failed to download image. Status code: 404. Image ID: 2362587\n",
      "Failed to download image. Status code: 404. Image ID: 2364463\n",
      "Failed to download image. Status code: 404. Image ID: 2367557\n",
      "Failed to download image. Status code: 404. Image ID: 2358654\n",
      "Failed to download image. Status code: 404. Image ID: 2350571\n",
      "Failed to download image. Status code: 404. Image ID: 2345375\n",
      "Failed to download image. Status code: 404. Image ID: 2332855\n",
      "Failed to download image. Status code: 404. Image ID: 2363157\n",
      "Failed to download image. Status code: 404. Image ID: 2375344\n",
      "Failed to download image. Status code: 404. Image ID: 2339676\n",
      "Failed to download image. Status code: 404. Image ID: 2352179\n",
      "Failed to download image. Status code: 404. Image ID: 2364676\n",
      "Failed to download image. Status code: 404. Image ID: 2315626\n",
      "Failed to download image. Status code: 404. Image ID: 2331882\n",
      "Failed to download image. Status code: 404. Image ID: 2357554\n",
      "Failed to download image. Status code: 404. Image ID: 1593256\n",
      "Failed to download image. Status code: 404. Image ID: 2330316\n",
      "Failed to download image. Status code: 404. Image ID: 2369249\n",
      "Failed to download image. Status code: 404. Image ID: 1592630\n",
      "Failed to download image. Status code: 404. Image ID: 2321814\n",
      "Failed to download image. Status code: 404. Image ID: 2336529\n",
      "Failed to download image. Status code: 404. Image ID: 2352276\n",
      "Failed to download image. Status code: 404. Image ID: 2355105\n",
      "Failed to download image. Status code: 404. Image ID: 2317745\n",
      "Failed to download image. Status code: 404. Image ID: 2362988\n",
      "Failed to download image. Status code: 404. Image ID: 1159427\n",
      "Failed to download image. Status code: 404. Image ID: 2361820\n",
      "Failed to download image. Status code: 404. Image ID: 2368936\n",
      "Failed to download image. Status code: 404. Image ID: 2330164\n",
      "Failed to download image. Status code: 404. Image ID: 2330103\n",
      "Failed to download image. Status code: 404. Image ID: 2336446\n",
      "Failed to download image. Status code: 404. Image ID: 2338999\n",
      "Failed to download image. Status code: 404. Image ID: 2321345\n",
      "Failed to download image. Status code: 404. Image ID: 2350263\n",
      "Failed to download image. Status code: 404. Image ID: 2316603\n",
      "Failed to download image. Status code: 404. Image ID: 2374904\n",
      "Failed to download image. Status code: 404. Image ID: 2356254\n",
      "Failed to download image. Status code: 404. Image ID: 2330862\n",
      "Failed to download image. Status code: 404. Image ID: 2324090\n",
      "Failed to download image. Status code: 404. Image ID: 2346170\n",
      "Failed to download image. Status code: 404. Image ID: 1592374\n",
      "Failed to download image. Status code: 404. Image ID: 2329357\n",
      "Failed to download image. Status code: 404. Image ID: 2345742\n",
      "Failed to download image. Status code: 404. Image ID: 2334093\n",
      "Failed to download image. Status code: 404. Image ID: 2330978\n",
      "Failed to download image. Status code: 404. Image ID: 2338030\n",
      "Failed to download image. Status code: 404. Image ID: 2352852\n",
      "Failed to download image. Status code: 404. Image ID: 2344658\n",
      "Failed to download image. Status code: 404. Image ID: 2339791\n",
      "Failed to download image. Status code: 404. Image ID: 2315436\n",
      "Failed to download image. Status code: 404. Image ID: 2330687\n",
      "Failed to download image. Status code: 404. Image ID: 2354845\n",
      "Failed to download image. Status code: 404. Image ID: 2350071\n",
      "Failed to download image. Status code: 404. Image ID: 713276\n",
      "Failed to download image. Status code: 404. Image ID: 2327221\n",
      "Failed to download image. Status code: 404. Image ID: 2375105\n",
      "Failed to download image. Status code: 404. Image ID: 2353330\n",
      "Failed to download image. Status code: 404. Image ID: 2370423\n",
      "Failed to download image. Status code: 404. Image ID: 2356720\n",
      "Failed to download image. Status code: 404. Image ID: 2374541\n",
      "Failed to download image. Status code: 404. Image ID: 2330492\n",
      "Failed to download image. Status code: 404. Image ID: 2340427\n",
      "Failed to download image. Status code: 404. Image ID: 2367840\n",
      "Failed to download image. Status code: 404. Image ID: 1159604\n",
      "Failed to download image. Status code: 404. Image ID: 2322911\n",
      "Failed to download image. Status code: 404. Image ID: 2320992\n",
      "Failed to download image. Status code: 404. Image ID: 1591994\n",
      "Failed to download image. Status code: 404. Image ID: 2357679\n",
      "Failed to download image. Status code: 404. Image ID: 2336971\n",
      "Failed to download image. Status code: 404. Image ID: 2357795\n",
      "Failed to download image. Status code: 404. Image ID: 2362852\n",
      "Failed to download image. Status code: 404. Image ID: 2375519\n",
      "Failed to download image. Status code: 404. Image ID: 2366042\n",
      "Failed to download image. Status code: 404. Image ID: 2340984\n",
      "Failed to download image. Status code: 404. Image ID: 2332137\n",
      "Failed to download image. Status code: 404. Image ID: 2373378\n",
      "Failed to download image. Status code: 404. Image ID: 2365452\n",
      "Failed to download image. Status code: 404. Image ID: 2365874\n",
      "Failed to download image. Status code: 404. Image ID: 2333864\n",
      "Failed to download image. Status code: 404. Image ID: 1592511\n",
      "Failed to download image. Status code: 404. Image ID: 2329999\n",
      "Failed to download image. Status code: 404. Image ID: 2334646\n",
      "Failed to download image. Status code: 404. Image ID: 2371769\n",
      "Failed to download image. Status code: 404. Image ID: 2338356\n",
      "Failed to download image. Status code: 404. Image ID: 2329153\n",
      "Failed to download image. Status code: 404. Image ID: 2377087\n",
      "Failed to download image. Status code: 404. Image ID: 2327803\n",
      "Failed to download image. Status code: 404. Image ID: 2353606\n",
      "Failed to download image. Status code: 404. Image ID: 2325796\n",
      "Failed to download image. Status code: 404. Image ID: 2335842\n",
      "Failed to download image. Status code: 404. Image ID: 2341730\n",
      "Failed to download image. Status code: 404. Image ID: 2324597\n",
      "Failed to download image. Status code: 404. Image ID: 2325260\n",
      "Failed to download image. Status code: 404. Image ID: 2332100\n",
      "Failed to download image. Status code: 404. Image ID: 2356638\n",
      "Failed to download image. Status code: 404. Image ID: 2328561\n",
      "Failed to download image. Status code: 404. Image ID: 2358492\n",
      "Failed to download image. Status code: 404. Image ID: 2329296\n",
      "Failed to download image. Status code: 404. Image ID: 2341395\n",
      "Failed to download image. Status code: 404. Image ID: 2376388\n",
      "Failed to download image. Status code: 404. Image ID: 2321025\n",
      "Failed to download image. Status code: 404. Image ID: 2316792\n",
      "Failed to download image. Status code: 404. Image ID: 2331561\n",
      "Failed to download image. Status code: 404. Image ID: 2332620\n",
      "Failed to download image. Status code: 404. Image ID: 2336758\n",
      "Failed to download image. Status code: 404. Image ID: 2332595\n",
      "Failed to download image. Status code: 404. Image ID: 2317802\n",
      "Failed to download image. Status code: 404. Image ID: 2330697\n",
      "Failed to download image. Status code: 404. Image ID: 2359607\n",
      "Failed to download image. Status code: 404. Image ID: 2348331\n",
      "Failed to download image. Status code: 404. Image ID: 2327087\n",
      "Failed to download image. Status code: 404. Image ID: 2336927\n",
      "Failed to download image. Status code: 404. Image ID: 2323695\n",
      "Failed to download image. Status code: 404. Image ID: 2367460\n",
      "Failed to download image. Status code: 404. Image ID: 2361335\n",
      "Failed to download image. Status code: 404. Image ID: 2358580\n",
      "Failed to download image. Status code: 404. Image ID: 2337945\n",
      "Failed to download image. Status code: 404. Image ID: 2324011\n",
      "Failed to download image. Status code: 404. Image ID: 2344845\n",
      "Failed to download image. Status code: 404. Image ID: 2330876\n",
      "Failed to download image. Status code: 404. Image ID: 2373097\n",
      "Failed to download image. Status code: 404. Image ID: 2359079\n",
      "Failed to download image. Status code: 404. Image ID: 2334382\n",
      "Failed to download image. Status code: 404. Image ID: 2364938\n",
      "Failed to download image. Status code: 404. Image ID: 2341509\n",
      "Failed to download image. Status code: 404. Image ID: 2346957\n",
      "Failed to download image. Status code: 404. Image ID: 2328970\n",
      "Failed to download image. Status code: 404. Image ID: 2330661\n",
      "Failed to download image. Status code: 404. Image ID: 2345716\n",
      "Failed to download image. Status code: 404. Image ID: 2374498\n",
      "Failed to download image. Status code: 404. Image ID: 2376378\n",
      "Failed to download image. Status code: 404. Image ID: 2336522\n",
      "Failed to download image. Status code: 404. Image ID: 2354301\n",
      "Failed to download image. Status code: 404. Image ID: 2354505\n",
      "Failed to download image. Status code: 404. Image ID: 2339575\n",
      "Failed to download image. Status code: 404. Image ID: 150273\n",
      "Failed to download image. Status code: 404. Image ID: 2321067\n",
      "Failed to download image. Status code: 404. Image ID: 2345880\n",
      "Failed to download image. Status code: 404. Image ID: 1592528\n",
      "Failed to download image. Status code: 404. Image ID: 2330000\n",
      "Failed to download image. Status code: 404. Image ID: 2357766\n",
      "Failed to download image. Status code: 404. Image ID: 2358053\n",
      "Failed to download image. Status code: 404. Image ID: 2334222\n",
      "Failed to download image. Status code: 404. Image ID: 2412934\n",
      "Failed to download image. Status code: 404. Image ID: 2359132\n",
      "Failed to download image. Status code: 404. Image ID: 2342861\n",
      "Failed to download image. Status code: 404. Image ID: 2371283\n",
      "Failed to download image. Status code: 404. Image ID: 2326450\n",
      "Failed to download image. Status code: 404. Image ID: 498358\n",
      "Failed to download image. Status code: 404. Image ID: 2370641\n",
      "Failed to download image. Status code: 404. Image ID: 2366006\n",
      "Failed to download image. Status code: 404. Image ID: 2372851\n",
      "Failed to download image. Status code: 404. Image ID: 2318779\n",
      "Failed to download image. Status code: 404. Image ID: 2343378\n",
      "Failed to download image. Status code: 404. Image ID: 2320223\n",
      "Failed to download image. Status code: 404. Image ID: 2337751\n",
      "Failed to download image. Status code: 404. Image ID: 2368827\n",
      "Failed to download image. Status code: 404. Image ID: 2375972\n",
      "Failed to download image. Status code: 404. Image ID: 2318062\n",
      "Failed to download image. Status code: 404. Image ID: 2336468\n",
      "Failed to download image. Status code: 404. Image ID: 2341855\n",
      "Failed to download image. Status code: 404. Image ID: 2318692\n",
      "Failed to download image. Status code: 404. Image ID: 498185\n",
      "Failed to download image. Status code: 404. Image ID: 2320185\n",
      "Failed to download image. Status code: 404. Image ID: 2315893\n",
      "Failed to download image. Status code: 404. Image ID: 2326381\n",
      "Failed to download image. Status code: 404. Image ID: 2338692\n",
      "Failed to download image. Status code: 404. Image ID: 498337\n",
      "Failed to download image. Status code: 404. Image ID: 2333712\n",
      "Failed to download image. Status code: 404. Image ID: 2342053\n",
      "Failed to download image. Status code: 404. Image ID: 2342083\n",
      "Failed to download image. Status code: 404. Image ID: 2376499\n",
      "Failed to download image. Status code: 404. Image ID: 2329939\n",
      "Failed to download image. Status code: 404. Image ID: 2349559\n",
      "Failed to download image. Status code: 404. Image ID: 2315720\n",
      "Failed to download image. Status code: 404. Image ID: 2365776\n",
      "Failed to download image. Status code: 404. Image ID: 150526\n",
      "Failed to download image. Status code: 404. Image ID: 2326266\n",
      "Failed to download image. Status code: 404. Image ID: 2358050\n",
      "Failed to download image. Status code: 404. Image ID: 2352313\n",
      "Failed to download image. Status code: 404. Image ID: 2327069\n",
      "Failed to download image. Status code: 404. Image ID: 2362352\n",
      "Failed to download image. Status code: 404. Image ID: 2321049\n",
      "Failed to download image. Status code: 404. Image ID: 2336345\n",
      "Failed to download image. Status code: 404. Image ID: 2351888\n",
      "Failed to download image. Status code: 404. Image ID: 2316426\n",
      "Failed to download image. Status code: 404. Image ID: 2346143\n",
      "Failed to download image. Status code: 404. Image ID: 2323932\n",
      "Failed to download image. Status code: 404. Image ID: 2356070\n",
      "Failed to download image. Status code: 404. Image ID: 2360436\n",
      "Failed to download image. Status code: 404. Image ID: 2372739\n",
      "Failed to download image. Status code: 404. Image ID: 150364\n",
      "Failed to download image. Status code: 404. Image ID: 2317178\n",
      "Failed to download image. Status code: 404. Image ID: 1591955\n",
      "Failed to download image. Status code: 404. Image ID: 2339394\n",
      "Failed to download image. Status code: 404. Image ID: 2329078\n",
      "Failed to download image. Status code: 404. Image ID: 2339493\n",
      "Failed to download image. Status code: 404. Image ID: 2354315\n",
      "Failed to download image. Status code: 404. Image ID: 2377311\n",
      "Failed to download image. Status code: 404. Image ID: 2331211\n",
      "Failed to download image. Status code: 404. Image ID: 2345861\n",
      "Failed to download image. Status code: 404. Image ID: 2366803\n",
      "Failed to download image. Status code: 404. Image ID: 2363094\n",
      "Failed to download image. Status code: 404. Image ID: 2364649\n",
      "Failed to download image. Status code: 404. Image ID: 2347216\n",
      "Failed to download image. Status code: 404. Image ID: 2372738\n",
      "Failed to download image. Status code: 404. Image ID: 2353816\n",
      "Failed to download image. Status code: 404. Image ID: 2337314\n",
      "Failed to download image. Status code: 404. Image ID: 2353331\n",
      "Failed to download image. Status code: 404. Image ID: 2334957\n",
      "Failed to download image. Status code: 404. Image ID: 2357851\n",
      "Failed to download image. Status code: 404. Image ID: 107990\n",
      "Failed to download image. Status code: 404. Image ID: 2332934\n",
      "Failed to download image. Status code: 404. Image ID: 2352757\n",
      "Failed to download image. Status code: 404. Image ID: 2338899\n",
      "Failed to download image. Status code: 404. Image ID: 285787\n",
      "Failed to download image. Status code: 404. Image ID: 2370559\n",
      "Failed to download image. Status code: 404. Image ID: 2339903\n",
      "Failed to download image. Status code: 404. Image ID: 2373272\n",
      "Failed to download image. Status code: 404. Image ID: 2321681\n",
      "Failed to download image. Status code: 404. Image ID: 2323874\n",
      "Failed to download image. Status code: 404. Image ID: 150555\n",
      "Failed to download image. Status code: 404. Image ID: 2359416\n",
      "Failed to download image. Status code: 404. Image ID: 2363256\n",
      "Failed to download image. Status code: 404. Image ID: 2315891\n",
      "Failed to download image. Status code: 404. Image ID: 2343496\n",
      "Failed to download image. Status code: 404. Image ID: 2375232\n",
      "Failed to download image. Status code: 404. Image ID: 2366044\n",
      "Failed to download image. Status code: 404. Image ID: 2353368\n",
      "Failed to download image. Status code: 404. Image ID: 2367797\n",
      "Failed to download image. Status code: 404. Image ID: 2318318\n",
      "Failed to download image. Status code: 404. Image ID: 2320957\n",
      "Failed to download image. Status code: 404. Image ID: 2375383\n",
      "Failed to download image. Status code: 404. Image ID: 2356634\n",
      "Failed to download image. Status code: 404. Image ID: 2355683\n",
      "Failed to download image. Status code: 404. Image ID: 2369372\n",
      "Failed to download image. Status code: 404. Image ID: 1159922\n",
      "Failed to download image. Status code: 404. Image ID: 2332756\n",
      "Failed to download image. Status code: 404. Image ID: 2369431\n",
      "Failed to download image. Status code: 404. Image ID: 2362460\n",
      "Failed to download image. Status code: 404. Image ID: 2364356\n",
      "Failed to download image. Status code: 404. Image ID: 1159897\n",
      "Failed to download image. Status code: 404. Image ID: 2318653\n",
      "Failed to download image. Status code: 404. Image ID: 2370790\n",
      "Failed to download image. Status code: 404. Image ID: 2317598\n",
      "Failed to download image. Status code: 404. Image ID: 2324997\n",
      "Failed to download image. Status code: 404. Image ID: 2345209\n",
      "Failed to download image. Status code: 404. Image ID: 2354665\n",
      "Failed to download image. Status code: 404. Image ID: 2326127\n",
      "Failed to download image. Status code: 404. Image ID: 2340001\n",
      "Failed to download image. Status code: 404. Image ID: 2349766\n",
      "Failed to download image. Status code: 404. Image ID: 2316874\n",
      "Failed to download image. Status code: 404. Image ID: 2343765\n",
      "Failed to download image. Status code: 404. Image ID: 1592302\n",
      "Failed to download image. Status code: 404. Image ID: 2376728\n",
      "Failed to download image. Status code: 404. Image ID: 2350370\n",
      "Failed to download image. Status code: 404. Image ID: 2359842\n",
      "Failed to download image. Status code: 404. Image ID: 2324198\n",
      "Failed to download image. Status code: 404. Image ID: 2358125\n",
      "Failed to download image. Status code: 404. Image ID: 2333788\n",
      "Failed to download image. Status code: 404. Image ID: 2330922\n",
      "Failed to download image. Status code: 404. Image ID: 2352497\n",
      "Failed to download image. Status code: 404. Image ID: 2353275\n",
      "Failed to download image. Status code: 404. Image ID: 2351207\n",
      "Failed to download image. Status code: 404. Image ID: 2325266\n",
      "Failed to download image. Status code: 404. Image ID: 2322945\n",
      "Failed to download image. Status code: 404. Image ID: 61582\n",
      "Failed to download image. Status code: 404. Image ID: 2327014\n",
      "Failed to download image. Status code: 404. Image ID: 2356091\n",
      "Failed to download image. Status code: 404. Image ID: 2363288\n",
      "Failed to download image. Status code: 404. Image ID: 2352486\n",
      "Failed to download image. Status code: 404. Image ID: 2320019\n",
      "Failed to download image. Status code: 404. Image ID: 2369158\n",
      "Failed to download image. Status code: 404. Image ID: 2338501\n",
      "Failed to download image. Status code: 404. Image ID: 2353671\n",
      "Failed to download image. Status code: 404. Image ID: 2328301\n",
      "Failed to download image. Status code: 404. Image ID: 2324878\n",
      "Failed to download image. Status code: 404. Image ID: 2341270\n",
      "Failed to download image. Status code: 404. Image ID: 2368545\n",
      "Failed to download image. Status code: 404. Image ID: 2336821\n",
      "Failed to download image. Status code: 404. Image ID: 2332096\n",
      "Failed to download image. Status code: 404. Image ID: 2364489\n",
      "Failed to download image. Status code: 404. Image ID: 2317698\n",
      "Failed to download image. Status code: 404. Image ID: 2344221\n",
      "Failed to download image. Status code: 404. Image ID: 2341790\n",
      "Failed to download image. Status code: 404. Image ID: 2373769\n",
      "Failed to download image. Status code: 404. Image ID: 2328091\n",
      "Failed to download image. Status code: 404. Image ID: 2367946\n",
      "Failed to download image. Status code: 404. Image ID: 2367209\n",
      "Failed to download image. Status code: 404. Image ID: 2340562\n",
      "Failed to download image. Status code: 404. Image ID: 2337960\n",
      "Failed to download image. Status code: 404. Image ID: 2340873\n",
      "Failed to download image. Status code: 404. Image ID: 2355724\n",
      "Failed to download image. Status code: 404. Image ID: 2362922\n",
      "Failed to download image. Status code: 404. Image ID: 2342359\n",
      "Failed to download image. Status code: 404. Image ID: 2363301\n",
      "Failed to download image. Status code: 404. Image ID: 2372355\n",
      "Failed to download image. Status code: 404. Image ID: 2345412\n",
      "Failed to download image. Status code: 404. Image ID: 2327583\n",
      "Failed to download image. Status code: 404. Image ID: 1159758\n",
      "Failed to download image. Status code: 404. Image ID: 2342714\n",
      "Failed to download image. Status code: 404. Image ID: 2352363\n",
      "Failed to download image. Status code: 404. Image ID: 2318974\n",
      "Failed to download image. Status code: 404. Image ID: 2371029\n",
      "Failed to download image. Status code: 404. Image ID: 2370703\n",
      "Failed to download image. Status code: 404. Image ID: 2343470\n",
      "Failed to download image. Status code: 404. Image ID: 2371793\n",
      "Failed to download image. Status code: 404. Image ID: 713621\n",
      "Failed to download image. Status code: 404. Image ID: 2371086\n",
      "Failed to download image. Status code: 404. Image ID: 2352810\n",
      "Failed to download image. Status code: 404. Image ID: 2335909\n",
      "Failed to download image. Status code: 404. Image ID: 2359883\n",
      "Failed to download image. Status code: 404. Image ID: 1593037\n",
      "Failed to download image. Status code: 404. Image ID: 2347361\n",
      "Failed to download image. Status code: 404. Image ID: 2363036\n",
      "Failed to download image. Status code: 404. Image ID: 2347309\n",
      "Failed to download image. Status code: 404. Image ID: 2319677\n",
      "Failed to download image. Status code: 404. Image ID: 2332682\n",
      "Failed to download image. Status code: 404. Image ID: 2370776\n",
      "Failed to download image. Status code: 404. Image ID: 2326879\n",
      "Failed to download image. Status code: 404. Image ID: 2375026\n",
      "Failed to download image. Status code: 404. Image ID: 2354324\n",
      "Failed to download image. Status code: 404. Image ID: 2326652\n",
      "Failed to download image. Status code: 404. Image ID: 2358520\n",
      "Failed to download image. Status code: 404. Image ID: 2316602\n",
      "Failed to download image. Status code: 404. Image ID: 2374427\n",
      "Failed to download image. Status code: 404. Image ID: 2325300\n",
      "Failed to download image. Status code: 404. Image ID: 2335638\n",
      "Failed to download image. Status code: 404. Image ID: 2328348\n",
      "Failed to download image. Status code: 404. Image ID: 2323727\n",
      "Failed to download image. Status code: 404. Image ID: 2365119\n",
      "Failed to download image. Status code: 404. Image ID: 2340252\n",
      "Failed to download image. Status code: 404. Image ID: 2358121\n",
      "Failed to download image. Status code: 404. Image ID: 2376249\n",
      "Failed to download image. Status code: 404. Image ID: 2333136\n",
      "Failed to download image. Status code: 404. Image ID: 2361955\n",
      "Failed to download image. Status code: 404. Image ID: 2336449\n",
      "Failed to download image. Status code: 404. Image ID: 2318875\n",
      "Failed to download image. Status code: 404. Image ID: 2354588\n",
      "Failed to download image. Status code: 404. Image ID: 2376566\n",
      "Failed to download image. Status code: 404. Image ID: 2321719\n",
      "Failed to download image. Status code: 404. Image ID: 2368762\n",
      "Failed to download image. Status code: 404. Image ID: 2318379\n",
      "Failed to download image. Status code: 404. Image ID: 2329906\n",
      "Failed to download image. Status code: 404. Image ID: 2348153\n",
      "Failed to download image. Status code: 404. Image ID: 2317685\n",
      "Failed to download image. Status code: 404. Image ID: 2318633\n",
      "Failed to download image. Status code: 404. Image ID: 2345933\n",
      "Failed to download image. Status code: 404. Image ID: 2339001\n",
      "Failed to download image. Status code: 404. Image ID: 2322636\n",
      "Failed to download image. Status code: 404. Image ID: 2332849\n",
      "Failed to download image. Status code: 404. Image ID: 2351248\n",
      "Failed to download image. Status code: 404. Image ID: 2317318\n",
      "Failed to download image. Status code: 404. Image ID: 2352385\n",
      "Failed to download image. Status code: 404. Image ID: 2338592\n",
      "Failed to download image. Status code: 404. Image ID: 2349390\n",
      "Failed to download image. Status code: 404. Image ID: 2323266\n",
      "Failed to download image. Status code: 404. Image ID: 2326573\n",
      "Failed to download image. Status code: 404. Image ID: 2324192\n",
      "Failed to download image. Status code: 404. Image ID: 2322434\n",
      "Failed to download image. Status code: 404. Image ID: 1159799\n",
      "Failed to download image. Status code: 404. Image ID: 2349474\n",
      "Failed to download image. Status code: 404. Image ID: 2363080\n",
      "Failed to download image. Status code: 404. Image ID: 2372319\n",
      "Failed to download image. Status code: 404. Image ID: 2374569\n",
      "Failed to download image. Status code: 404. Image ID: 2328277\n",
      "Failed to download image. Status code: 404. Image ID: 2336159\n",
      "Failed to download image. Status code: 404. Image ID: 2336879\n",
      "Failed to download image. Status code: 404. Image ID: 2327178\n",
      "Failed to download image. Status code: 404. Image ID: 2348612\n",
      "Failed to download image. Status code: 404. Image ID: 2351669\n",
      "Failed to download image. Status code: 404. Image ID: 2320908\n",
      "Failed to download image. Status code: 404. Image ID: 2361726\n",
      "Failed to download image. Status code: 404. Image ID: 2361477\n",
      "Failed to download image. Status code: 404. Image ID: 2335134\n",
      "Failed to download image. Status code: 404. Image ID: 2375900\n",
      "Failed to download image. Status code: 404. Image ID: 2371988\n",
      "Failed to download image. Status code: 404. Image ID: 2336221\n",
      "Failed to download image. Status code: 404. Image ID: 2363685\n"
     ]
    }
   ],
   "source": [
    "all_embeddings = []\n",
    "\n",
    "for i, row in df.iterrows():\n",
    "    \n",
    "    original_url = row['image_url']\n",
    "    \n",
    "    embedding = get_image_embedding_from_url(original_url)\n",
    "\n",
    "    all_embeddings.append(embedding)"
   ]
  },
  {
   "cell_type": "markdown",
   "id": "7169054a-1237-4d18-84e8-bcdbc44c66fb",
   "metadata": {},
   "source": [
    "A lot of images were missed. I guess they might be stored in a different directory..?"
   ]
  },
  {
   "cell_type": "code",
   "execution_count": 58,
   "id": "96ce313a-efb3-4b0c-8654-2c35fde04fc3",
   "metadata": {},
   "outputs": [
    {
     "data": {
      "text/plain": [
       "410"
      ]
     },
     "execution_count": 58,
     "metadata": {},
     "output_type": "execute_result"
    }
   ],
   "source": [
    "sum(len(x) if x is not [] else 0 for x in all_embeddings)"
   ]
  },
  {
   "cell_type": "markdown",
   "id": "d7da5b7d-2464-44ac-8302-f4acb0148048",
   "metadata": {},
   "source": [
    "Only 410 images are found -- that's okay, we will work with that."
   ]
  },
  {
   "cell_type": "code",
   "execution_count": 67,
   "id": "712cffdb-7432-42be-9cf9-4cc079437c48",
   "metadata": {},
   "outputs": [
    {
     "data": {
      "text/plain": [
       "(1000, 5)"
      ]
     },
     "execution_count": 67,
     "metadata": {},
     "output_type": "execute_result"
    }
   ],
   "source": [
    "df['image_embedding'] = [embedding for embedding in all_embeddings]\n",
    "\n",
    "df.shape"
   ]
  },
  {
   "cell_type": "code",
   "execution_count": 69,
   "id": "c642d1b3-5bb1-4470-81cd-8d212dabadf0",
   "metadata": {},
   "outputs": [
    {
     "data": {
      "text/plain": [
       "(410, 5)"
      ]
     },
     "execution_count": 69,
     "metadata": {},
     "output_type": "execute_result"
    }
   ],
   "source": [
    "df = df[df['image_embedding'].apply(lambda x: x != [])]\n",
    "df.shape"
   ]
  },
  {
   "cell_type": "code",
   "execution_count": 71,
   "id": "f5856337-53df-4686-a992-fff181481282",
   "metadata": {},
   "outputs": [],
   "source": [
    "df = df.drop(columns=['image_url', 'embedding'])"
   ]
  },
  {
   "cell_type": "markdown",
   "id": "ce90f960-9dfa-4ee7-a40c-ebf620f161d3",
   "metadata": {},
   "source": [
    "Convert the tensors into a list."
   ]
  },
  {
   "cell_type": "code",
   "execution_count": 72,
   "id": "9740e6d1-a4eb-4dac-9209-eef363767528",
   "metadata": {},
   "outputs": [
    {
     "data": {
      "text/html": [
       "<div>\n",
       "<style scoped>\n",
       "    .dataframe tbody tr th:only-of-type {\n",
       "        vertical-align: middle;\n",
       "    }\n",
       "\n",
       "    .dataframe tbody tr th {\n",
       "        vertical-align: top;\n",
       "    }\n",
       "\n",
       "    .dataframe thead th {\n",
       "        text-align: right;\n",
       "    }\n",
       "</style>\n",
       "<table border=\"1\" class=\"dataframe\">\n",
       "  <thead>\n",
       "    <tr style=\"text-align: right;\">\n",
       "      <th></th>\n",
       "      <th>image_id</th>\n",
       "      <th>tags</th>\n",
       "      <th>image_embedding</th>\n",
       "    </tr>\n",
       "  </thead>\n",
       "  <tbody>\n",
       "    <tr>\n",
       "      <th>41981</th>\n",
       "      <td>2378980</td>\n",
       "      <td>['window', 'line', 'double door', 'front winds...</td>\n",
       "      <td>[[-0.004452705383300781, 0.010793974623084068,...</td>\n",
       "    </tr>\n",
       "    <tr>\n",
       "      <th>107821</th>\n",
       "      <td>2417733</td>\n",
       "      <td>['sand', 'left arm', 'head', 'kite', 'sky', 's...</td>\n",
       "      <td>[[0.006527651101350784, 0.017943937331438065, ...</td>\n",
       "    </tr>\n",
       "    <tr>\n",
       "      <th>23392</th>\n",
       "      <td>2398437</td>\n",
       "      <td>['horse', 'head', 'leg', 'mouth', 'neck', 'hay...</td>\n",
       "      <td>[[-0.037737887352705, -0.008829250000417233, -...</td>\n",
       "    </tr>\n",
       "    <tr>\n",
       "      <th>14033</th>\n",
       "      <td>2408241</td>\n",
       "      <td>['grass', 'line', 'bike', 'man', 'motorcycle',...</td>\n",
       "      <td>[[0.023501038551330566, 0.04544584080576897, -...</td>\n",
       "    </tr>\n",
       "    <tr>\n",
       "      <th>831</th>\n",
       "      <td>832</td>\n",
       "      <td>['powerline', 'mirror', 'sky', 'wall', 'electr...</td>\n",
       "      <td>[[-0.013713749125599861, 0.047814175486564636,...</td>\n",
       "    </tr>\n",
       "  </tbody>\n",
       "</table>\n",
       "</div>"
      ],
      "text/plain": [
       "        image_id                                               tags  \\\n",
       "41981    2378980  ['window', 'line', 'double door', 'front winds...   \n",
       "107821   2417733  ['sand', 'left arm', 'head', 'kite', 'sky', 's...   \n",
       "23392    2398437  ['horse', 'head', 'leg', 'mouth', 'neck', 'hay...   \n",
       "14033    2408241  ['grass', 'line', 'bike', 'man', 'motorcycle',...   \n",
       "831          832  ['powerline', 'mirror', 'sky', 'wall', 'electr...   \n",
       "\n",
       "                                          image_embedding  \n",
       "41981   [[-0.004452705383300781, 0.010793974623084068,...  \n",
       "107821  [[0.006527651101350784, 0.017943937331438065, ...  \n",
       "23392   [[-0.037737887352705, -0.008829250000417233, -...  \n",
       "14033   [[0.023501038551330566, 0.04544584080576897, -...  \n",
       "831     [[-0.013713749125599861, 0.047814175486564636,...  "
      ]
     },
     "execution_count": 72,
     "metadata": {},
     "output_type": "execute_result"
    }
   ],
   "source": [
    "df['image_embedding'] = df['image_embedding'].apply(lambda x: x.tolist())\n",
    "df.head()"
   ]
  },
  {
   "cell_type": "markdown",
   "id": "b7d4f0a7-53e8-4dba-aae1-dcf53a327108",
   "metadata": {},
   "source": [
    "It's still a list of list, UGH!"
   ]
  },
  {
   "cell_type": "code",
   "execution_count": 76,
   "id": "42df422b-772b-42bb-9e98-0b4785901326",
   "metadata": {},
   "outputs": [
    {
     "data": {
      "text/html": [
       "<div>\n",
       "<style scoped>\n",
       "    .dataframe tbody tr th:only-of-type {\n",
       "        vertical-align: middle;\n",
       "    }\n",
       "\n",
       "    .dataframe tbody tr th {\n",
       "        vertical-align: top;\n",
       "    }\n",
       "\n",
       "    .dataframe thead th {\n",
       "        text-align: right;\n",
       "    }\n",
       "</style>\n",
       "<table border=\"1\" class=\"dataframe\">\n",
       "  <thead>\n",
       "    <tr style=\"text-align: right;\">\n",
       "      <th></th>\n",
       "      <th>image_id</th>\n",
       "      <th>tags</th>\n",
       "      <th>image_embedding</th>\n",
       "    </tr>\n",
       "  </thead>\n",
       "  <tbody>\n",
       "    <tr>\n",
       "      <th>41981</th>\n",
       "      <td>2378980</td>\n",
       "      <td>['window', 'line', 'double door', 'front winds...</td>\n",
       "      <td>[-0.004452705383300781, 0.010793974623084068, ...</td>\n",
       "    </tr>\n",
       "    <tr>\n",
       "      <th>107821</th>\n",
       "      <td>2417733</td>\n",
       "      <td>['sand', 'left arm', 'head', 'kite', 'sky', 's...</td>\n",
       "      <td>[0.006527651101350784, 0.017943937331438065, -...</td>\n",
       "    </tr>\n",
       "    <tr>\n",
       "      <th>23392</th>\n",
       "      <td>2398437</td>\n",
       "      <td>['horse', 'head', 'leg', 'mouth', 'neck', 'hay...</td>\n",
       "      <td>[-0.037737887352705, -0.008829250000417233, -0...</td>\n",
       "    </tr>\n",
       "    <tr>\n",
       "      <th>14033</th>\n",
       "      <td>2408241</td>\n",
       "      <td>['grass', 'line', 'bike', 'man', 'motorcycle',...</td>\n",
       "      <td>[0.023501038551330566, 0.04544584080576897, -0...</td>\n",
       "    </tr>\n",
       "    <tr>\n",
       "      <th>831</th>\n",
       "      <td>832</td>\n",
       "      <td>['powerline', 'mirror', 'sky', 'wall', 'electr...</td>\n",
       "      <td>[-0.013713749125599861, 0.047814175486564636, ...</td>\n",
       "    </tr>\n",
       "  </tbody>\n",
       "</table>\n",
       "</div>"
      ],
      "text/plain": [
       "        image_id                                               tags  \\\n",
       "41981    2378980  ['window', 'line', 'double door', 'front winds...   \n",
       "107821   2417733  ['sand', 'left arm', 'head', 'kite', 'sky', 's...   \n",
       "23392    2398437  ['horse', 'head', 'leg', 'mouth', 'neck', 'hay...   \n",
       "14033    2408241  ['grass', 'line', 'bike', 'man', 'motorcycle',...   \n",
       "831          832  ['powerline', 'mirror', 'sky', 'wall', 'electr...   \n",
       "\n",
       "                                          image_embedding  \n",
       "41981   [-0.004452705383300781, 0.010793974623084068, ...  \n",
       "107821  [0.006527651101350784, 0.017943937331438065, -...  \n",
       "23392   [-0.037737887352705, -0.008829250000417233, -0...  \n",
       "14033   [0.023501038551330566, 0.04544584080576897, -0...  \n",
       "831     [-0.013713749125599861, 0.047814175486564636, ...  "
      ]
     },
     "execution_count": 76,
     "metadata": {},
     "output_type": "execute_result"
    }
   ],
   "source": [
    "df['image_embedding'] = df['image_embedding'].apply(lambda x: x[0])\n",
    "df.head()"
   ]
  },
  {
   "cell_type": "markdown",
   "id": "1d347a53-86d5-417b-b569-057b300aef77",
   "metadata": {},
   "source": [
    "### Ingest embeddings into OpenSearch"
   ]
  },
  {
   "cell_type": "code",
   "execution_count": 77,
   "id": "7f8d567b-7989-4312-b0d1-d2ac7646c5b5",
   "metadata": {},
   "outputs": [],
   "source": [
    "payload = []\n",
    "\n",
    "for i, row in df.iterrows():\n",
    "    action = {\n",
    "            \"_index\": \"images\",\n",
    "            \"_source\": {\n",
    "                \"image_id\": row['image_id'],\n",
    "                \"embedding\": row['image_embedding']\n",
    "        }\n",
    "    }\n",
    "    payload.append(action)"
   ]
  },
  {
   "cell_type": "code",
   "execution_count": 78,
   "id": "d1457d99-7415-444e-94b3-283eeb25aa61",
   "metadata": {},
   "outputs": [],
   "source": [
    "from opensearchpy.helpers import bulk\n",
    "\n",
    "success, _ = bulk(client, payload, index=\"images\")"
   ]
  },
  {
   "cell_type": "code",
   "execution_count": 80,
   "id": "e0548e45-42a6-4046-9ec0-71ce2bc07463",
   "metadata": {},
   "outputs": [
    {
     "data": {
      "text/plain": [
       "410"
      ]
     },
     "execution_count": 80,
     "metadata": {},
     "output_type": "execute_result"
    }
   ],
   "source": [
    "success"
   ]
  },
  {
   "cell_type": "markdown",
   "id": "34db8238-f768-42a3-bd76-33b5980134e1",
   "metadata": {},
   "source": [
    "Great, we have indexed all images!"
   ]
  },
  {
   "cell_type": "markdown",
   "id": "6f505d75-f7ca-4192-ae11-e713c25d56a2",
   "metadata": {},
   "source": [
    "### Perform vector search"
   ]
  },
  {
   "cell_type": "markdown",
   "id": "b2670985-443b-4482-bad3-5f2fd9709280",
   "metadata": {},
   "source": [
    "We need a function that will take the search string and convert it into text embedding using the same model that we used to generate embeddings from images."
   ]
  },
  {
   "cell_type": "code",
   "execution_count": 81,
   "id": "a037376f-a8ef-4a4e-a055-4ba952aa4c90",
   "metadata": {
    "collapsed": true,
    "jupyter": {
     "outputs_hidden": true
    }
   },
   "outputs": [
    {
     "name": "stdout",
     "output_type": "stream",
     "text": [
      "Text Embedding: tensor([[ 7.2488e-03, -1.7793e-02, -2.1957e-02, -2.8312e-02, -1.9938e-02,\n",
      "          1.9974e-02, -3.2781e-02, -7.8182e-02, -2.5262e-02, -1.0236e-03,\n",
      "          5.3226e-03, -4.4380e-02,  2.0956e-02, -2.0570e-02,  7.2128e-03,\n",
      "          3.5790e-02,  3.2468e-02, -2.1906e-02, -1.3014e-02,  3.4516e-02,\n",
      "          4.3194e-02,  1.7080e-02,  3.5280e-02, -9.9673e-04, -2.2055e-02,\n",
      "          2.2700e-03,  1.7560e-02,  3.9876e-02, -3.2348e-03, -1.5271e-02,\n",
      "          1.0379e-02, -7.5354e-03,  2.1494e-02,  3.7524e-02, -9.2431e-03,\n",
      "         -6.6733e-03,  1.3023e-02,  2.2631e-02,  2.0402e-02,  1.8866e-02,\n",
      "         -1.0741e-02,  5.2984e-03,  1.3958e-02,  1.0697e-02, -5.5452e-03,\n",
      "          2.8825e-02, -1.5623e-02, -2.1491e-02, -1.4125e-02, -1.4949e-02,\n",
      "          9.8928e-03, -2.9202e-03,  2.5782e-02, -1.0936e-02,  4.3213e-03,\n",
      "         -2.5580e-02, -2.8034e-03,  2.2280e-02, -2.5653e-03, -1.6464e-02,\n",
      "          5.0255e-02,  7.8281e-04, -2.5887e-02, -9.7113e-03, -1.0742e-03,\n",
      "         -2.7273e-02,  5.6917e-03,  3.5974e-02, -2.2507e-02,  2.5728e-02,\n",
      "          1.7385e-02, -1.8645e-02,  8.3890e-03, -1.1409e-02, -4.7495e-02,\n",
      "         -1.3558e-02,  1.6756e-02,  1.3538e-02, -2.6231e-02, -8.1097e-03,\n",
      "         -5.5709e-03, -1.8660e-02, -4.7461e-02,  3.9439e-02,  1.9025e-02,\n",
      "          1.3514e-02,  1.0018e-02, -1.9661e-02, -5.5886e-04,  2.2697e-02,\n",
      "          4.2575e-03, -6.9576e-03, -1.1076e-01,  3.5175e-02,  3.3685e-03,\n",
      "         -3.9108e-03,  9.8132e-03, -8.6807e-03, -9.4835e-03,  2.6271e-02,\n",
      "         -3.8712e-03,  5.1159e-06,  5.3739e-03,  3.9475e-02,  5.5616e-04,\n",
      "          4.3898e-03,  8.5973e-03,  2.3948e-02, -2.7744e-02,  6.0236e-03,\n",
      "          5.6704e-04, -2.3299e-02, -1.2484e-02,  1.1154e-02, -6.7060e-03,\n",
      "          3.1976e-02, -7.5862e-03,  3.8756e-03,  1.3738e-02, -8.9631e-03,\n",
      "          2.0143e-02, -7.6552e-02, -1.4765e-02, -4.8775e-02,  3.0239e-02,\n",
      "         -2.5349e-02, -1.1045e-02, -2.4066e-02,  3.9573e-03,  2.6936e-02,\n",
      "         -6.3436e-03, -2.9552e-02, -1.4525e-02,  6.0286e-01, -3.1719e-02,\n",
      "         -3.4342e-02, -1.2462e-02, -1.2817e-02, -1.0995e-02, -2.3716e-02,\n",
      "          5.0721e-03,  3.6786e-03,  1.6396e-03,  3.9633e-03, -3.8169e-02,\n",
      "          1.1527e-03, -1.1682e-02, -4.1288e-02, -2.2147e-02, -3.2706e-04,\n",
      "          3.8329e-02, -1.1596e-02, -3.4569e-02,  8.2888e-03, -1.1636e-02,\n",
      "         -3.6321e-03,  2.0232e-02, -2.5751e-02, -1.3299e-02, -4.4436e-03,\n",
      "          1.2292e-02,  2.5507e-02,  5.6461e-03, -3.5339e-02,  2.8146e-02,\n",
      "          3.5652e-03,  1.6872e-02, -3.6829e-02, -1.3714e-02, -9.1679e-03,\n",
      "         -8.8479e-03,  6.7078e-03,  5.8012e-03, -4.6343e-03, -4.4104e-02,\n",
      "          2.0086e-02, -2.6594e-02, -5.3612e-03,  1.7886e-02,  1.7786e-02,\n",
      "          1.8755e-02,  1.9933e-02, -6.0638e-02,  7.2914e-03,  2.8382e-03,\n",
      "          1.4998e-02, -2.2099e-03, -1.3025e-02, -1.6808e-02, -7.2260e-03,\n",
      "         -5.5538e-03, -1.5678e-02,  5.8829e-03,  2.7326e-02, -3.1366e-02,\n",
      "          6.4176e-03, -1.9471e-03, -9.9528e-03, -3.8763e-02, -1.6952e-02,\n",
      "         -2.4336e-02, -1.1998e-02,  1.3604e-03,  1.2861e-02,  1.0471e-02,\n",
      "          1.6534e-02, -3.2590e-02, -2.8739e-02,  2.7468e-02, -2.1533e-02,\n",
      "          4.0875e-02,  4.4290e-02,  2.0770e-02, -1.1750e-02,  9.8393e-03,\n",
      "          8.3575e-03,  2.7768e-02, -4.7462e-02,  6.3566e-02, -2.5401e-02,\n",
      "          1.3125e-02, -1.3466e-02,  1.0427e-02, -1.9458e-02,  1.1234e-02,\n",
      "          1.2481e-02,  1.1307e-02,  1.8948e-02, -9.4487e-03, -4.2407e-02,\n",
      "         -1.0489e-02,  4.5117e-02,  8.6952e-03,  3.7476e-02,  1.7986e-02,\n",
      "          5.2026e-02,  7.7816e-03, -7.4250e-03, -1.5845e-02, -1.7600e-02,\n",
      "          4.8534e-03, -8.9960e-03,  3.5996e-03,  2.5694e-02,  4.7849e-02,\n",
      "          9.7895e-03, -4.8391e-03, -1.0735e-02, -3.3999e-02, -2.1967e-02,\n",
      "         -3.2170e-02,  2.0144e-02, -9.2262e-04,  2.5745e-02, -4.0078e-03,\n",
      "          1.5257e-02, -1.1838e-02,  7.2020e-03, -8.3066e-03,  1.5398e-02,\n",
      "         -1.8812e-02,  1.1247e-02, -5.6952e-03, -1.2855e-02, -2.6753e-02,\n",
      "         -1.5941e-02, -2.3730e-02, -2.7371e-02, -5.3930e-03,  9.8169e-03,\n",
      "         -1.6694e-03, -5.0968e-03,  2.1001e-02, -6.9915e-03, -1.7646e-02,\n",
      "          1.0609e-02, -3.1078e-03,  2.7803e-02, -1.6417e-02, -2.4809e-03,\n",
      "          2.5199e-02,  4.3277e-02,  1.6983e-02,  2.1207e-02,  3.6922e-03,\n",
      "          1.6570e-02, -4.9957e-03,  1.4010e-02,  9.2223e-04,  2.6174e-03,\n",
      "         -4.1686e-03,  1.3235e-02,  5.0529e-03,  2.5887e-02, -1.6160e-02,\n",
      "         -3.6888e-02, -2.3216e-02, -4.4693e-03,  7.3344e-03,  3.7096e-03,\n",
      "          1.4802e-02,  3.1527e-02, -1.2197e-02, -5.6898e-03, -2.5909e-02,\n",
      "         -6.0349e-03,  2.3326e-03,  1.5415e-02, -1.5440e-02,  7.5460e-03,\n",
      "          2.5836e-02, -1.5670e-02,  6.0262e-01,  2.0173e-02,  1.8491e-02,\n",
      "          1.8079e-02, -2.0374e-02,  2.2982e-02,  2.0433e-02, -1.2312e-02,\n",
      "          3.3999e-02,  5.6822e-02,  6.9225e-03,  2.5892e-02,  2.7755e-02,\n",
      "         -2.5106e-02,  2.0223e-02, -3.1059e-02,  7.7997e-02, -1.0050e-01,\n",
      "          2.7835e-02,  1.2267e-02, -8.7948e-03,  3.9987e-05,  4.0699e-02,\n",
      "         -3.5219e-04,  1.9522e-02,  1.0304e-02,  9.3280e-03,  1.1357e-02,\n",
      "          9.9070e-04, -6.9483e-03, -7.2450e-03, -1.9604e-02,  1.3842e-02,\n",
      "         -4.3735e-02, -3.5843e-03,  5.7839e-03, -1.2488e-02, -1.9004e-02,\n",
      "         -3.1826e-03, -1.2811e-02,  1.4738e-02, -1.5695e-02,  5.8817e-03,\n",
      "          2.6634e-02,  8.6048e-03,  1.6724e-02, -7.0316e-03,  8.2875e-03,\n",
      "          9.4282e-03, -2.5718e-02,  2.4332e-02,  2.3680e-02,  1.0939e-02,\n",
      "         -3.1003e-02, -1.1526e-03,  3.9040e-03,  1.3438e-02,  1.4094e-02,\n",
      "          7.1358e-03,  1.4453e-02, -2.7473e-02,  4.0368e-03, -1.3325e-02,\n",
      "         -4.4190e-03,  3.7393e-03,  4.4483e-03, -1.3553e-02, -3.9343e-03,\n",
      "         -7.8200e-03, -6.4744e-04, -6.3252e-02,  4.5697e-04,  2.1739e-02,\n",
      "         -5.1729e-04, -2.6982e-03,  1.0994e-02, -6.5485e-03, -1.9116e-03,\n",
      "         -2.4911e-02, -6.2183e-03, -1.2480e-02,  1.9780e-02,  9.0688e-03,\n",
      "          2.2859e-02,  1.3990e-02, -3.9645e-02, -3.2131e-02,  4.2951e-02,\n",
      "          1.3108e-02, -4.7980e-03,  2.1996e-02,  1.0757e-02, -2.4529e-02,\n",
      "          1.9466e-02,  3.4497e-03, -2.0823e-02,  5.2866e-02,  1.4449e-02,\n",
      "         -5.8121e-04,  6.7306e-03, -1.7899e-02, -8.2005e-03, -6.6773e-03,\n",
      "         -5.9796e-03, -2.4858e-02, -1.4563e-03, -7.8050e-03, -2.5042e-02,\n",
      "         -7.4451e-05,  3.7806e-03, -7.3088e-03, -4.1272e-02,  3.4248e-02,\n",
      "          2.0580e-02, -4.9939e-03, -2.9299e-03,  1.3633e-02,  4.0084e-02,\n",
      "          1.7441e-03,  3.1489e-03,  1.5138e-02, -1.2681e-03, -8.4454e-03,\n",
      "         -2.9385e-02, -1.8573e-02,  2.9994e-02, -1.9145e-02, -2.8243e-03,\n",
      "          1.2989e-02,  1.6481e-02,  6.6153e-03,  1.1441e-02,  2.0045e-02,\n",
      "          7.5921e-03, -2.0337e-02,  3.5872e-03,  4.0603e-05, -2.4311e-02,\n",
      "         -3.0803e-03,  2.8518e-03,  5.3063e-03,  4.4469e-04, -2.0531e-02,\n",
      "         -2.3773e-02,  1.0177e-02,  1.8971e-02,  5.6285e-03, -2.3158e-03,\n",
      "          2.1886e-02, -1.3001e-02,  2.1245e-02,  5.4385e-03,  1.9909e-02,\n",
      "         -1.2791e-02,  2.5278e-02, -3.2511e-02,  1.5262e-02, -1.8896e-02,\n",
      "          3.8005e-03, -8.8354e-03,  2.0843e-02, -8.2310e-03, -1.8161e-02,\n",
      "          1.4046e-02, -5.7430e-03,  7.8688e-03,  2.8495e-02,  1.3639e-02,\n",
      "         -8.5454e-03, -4.5243e-02, -1.2950e-02, -4.6793e-03, -4.6141e-03,\n",
      "         -2.3042e-02, -1.6482e-03,  9.5713e-04, -7.0409e-03,  4.5249e-02,\n",
      "          2.4318e-02, -1.6133e-02,  4.3968e-02,  1.3776e-01,  2.8634e-02,\n",
      "          6.8167e-03,  1.3330e-02, -6.1555e-05, -2.9119e-03,  4.5707e-02,\n",
      "          3.2581e-02,  1.3153e-02,  2.0436e-02,  2.4919e-02,  1.2310e-02,\n",
      "          1.0164e-02, -1.3139e-02, -1.7832e-02,  2.6759e-02, -3.7518e-02,\n",
      "         -3.4996e-02, -5.1989e-03]])\n",
      "Embedding Shape: torch.Size([1, 512])\n"
     ]
    }
   ],
   "source": [
    "def get_text_embedding(search_string):\n",
    "    inputs = processor(text=search_string, return_tensors=\"pt\", padding=True, truncation=True)\n",
    "\n",
    "    with torch.no_grad():\n",
    "        text_features = model.get_text_features(**inputs)\n",
    "\n",
    "    text_features = text_features / text_features.norm(dim=-1, keepdim=True)\n",
    "    \n",
    "    return text_features\n",
    "\n",
    "# example\n",
    "search_string = \"A cute cat\"\n",
    "embedding = get_text_embedding(search_string)\n",
    "\n",
    "print(\"Text Embedding:\", embedding)\n",
    "print(\"Embedding Shape:\", embedding.shape)"
   ]
  },
  {
   "cell_type": "code",
   "execution_count": 97,
   "id": "e37dcdca-b779-4b89-a128-ab6d5d85f2d1",
   "metadata": {},
   "outputs": [],
   "source": [
    "import numpy as np\n",
    "\n",
    "def search_images(search_phrase, k=10, index_name='images'):\n",
    "    \"\"\"\n",
    "    Perform a k-nearest neighbor search on the specified OpenSearch index.\n",
    "    \"\"\"\n",
    "    try:\n",
    "        vector = get_text_embedding(search_phrase)\n",
    "        \n",
    "        if not isinstance(vector, (list, torch.Tensor, np.ndarray)):\n",
    "            raise ValueError(\"Invalid embedding format. Expected a list, numpy array, or PyTorch tensor.\")\n",
    "        \n",
    "        if isinstance(vector, (torch.Tensor, np.ndarray)):\n",
    "            vector = vector.tolist()\n",
    "\n",
    "        payload = {\n",
    "            \"query\": {\n",
    "                \"knn\": {\n",
    "                    \"embedding\": {\n",
    "                        \"vector\": vector[0],\n",
    "                        \"k\": k\n",
    "                    }\n",
    "                }\n",
    "            }\n",
    "        }\n",
    "\n",
    "        # perform search\n",
    "        result = client.search(index=index_name, body=payload)\n",
    "        \n",
    "        return result\n",
    "    \n",
    "    except ValueError as ve:\n",
    "        print(f\"ValueError: {ve}\")\n",
    "        return None\n",
    "    \n",
    "    except Exception as e:\n",
    "        print(f\"An error occurred during the search: {e}\")\n",
    "        return None"
   ]
  },
  {
   "cell_type": "code",
   "execution_count": 106,
   "id": "d7f62ff7-bb0f-4a34-8b29-97ceb8198670",
   "metadata": {},
   "outputs": [],
   "source": [
    "search_phrase = 'musical instrument'\n",
    "\n",
    "results = search_images(search_phrase)\n",
    "\n",
    "matched_images_w_scores = [(results_dict['_source']['image_id'], \n",
    "                            results_dict['_score']) for results_dict in results['hits']['hits']]"
   ]
  },
  {
   "cell_type": "code",
   "execution_count": 107,
   "id": "fdd78552-02ef-495a-8ff7-13f970208aaf",
   "metadata": {},
   "outputs": [
    {
     "data": {
      "text/plain": [
       "((2416635,\n",
       "  2400373,\n",
       "  2378976,\n",
       "  2400494,\n",
       "  2384613,\n",
       "  4404,\n",
       "  2399847,\n",
       "  2222,\n",
       "  2407894,\n",
       "  2404968),\n",
       " (0.40369633,\n",
       "  0.39639255,\n",
       "  0.3962626,\n",
       "  0.39615494,\n",
       "  0.3950924,\n",
       "  0.394273,\n",
       "  0.39415208,\n",
       "  0.3928177,\n",
       "  0.39259863,\n",
       "  0.39243665))"
      ]
     },
     "execution_count": 107,
     "metadata": {},
     "output_type": "execute_result"
    }
   ],
   "source": [
    "matched_images, scores = zip(*matched_images_w_scores)\n",
    "matched_images, scores"
   ]
  },
  {
   "cell_type": "markdown",
   "id": "e219e8fa-fc75-4738-8bbc-d42aa8eff797",
   "metadata": {},
   "source": [
    "### Evals"
   ]
  },
  {
   "cell_type": "markdown",
   "id": "b4dd4504-f125-4f63-967f-c5fde2b51ef0",
   "metadata": {},
   "source": [
    "First, we need to create a judgment dataset."
   ]
  },
  {
   "cell_type": "code",
   "execution_count": 108,
   "id": "27929d17-fc4b-4ab7-881c-d8ed34447a94",
   "metadata": {},
   "outputs": [
    {
     "data": {
      "text/html": [
       "<div>\n",
       "<style scoped>\n",
       "    .dataframe tbody tr th:only-of-type {\n",
       "        vertical-align: middle;\n",
       "    }\n",
       "\n",
       "    .dataframe tbody tr th {\n",
       "        vertical-align: top;\n",
       "    }\n",
       "\n",
       "    .dataframe thead th {\n",
       "        text-align: right;\n",
       "    }\n",
       "</style>\n",
       "<table border=\"1\" class=\"dataframe\">\n",
       "  <thead>\n",
       "    <tr style=\"text-align: right;\">\n",
       "      <th></th>\n",
       "      <th>image_id</th>\n",
       "      <th>tags</th>\n",
       "      <th>image_embedding</th>\n",
       "    </tr>\n",
       "  </thead>\n",
       "  <tbody>\n",
       "    <tr>\n",
       "      <th>41981</th>\n",
       "      <td>2378980</td>\n",
       "      <td>['window', 'line', 'double door', 'front winds...</td>\n",
       "      <td>[-0.004452705383300781, 0.010793974623084068, ...</td>\n",
       "    </tr>\n",
       "    <tr>\n",
       "      <th>107821</th>\n",
       "      <td>2417733</td>\n",
       "      <td>['sand', 'left arm', 'head', 'kite', 'sky', 's...</td>\n",
       "      <td>[0.006527651101350784, 0.017943937331438065, -...</td>\n",
       "    </tr>\n",
       "    <tr>\n",
       "      <th>23392</th>\n",
       "      <td>2398437</td>\n",
       "      <td>['horse', 'head', 'leg', 'mouth', 'neck', 'hay...</td>\n",
       "      <td>[-0.037737887352705, -0.008829250000417233, -0...</td>\n",
       "    </tr>\n",
       "    <tr>\n",
       "      <th>14033</th>\n",
       "      <td>2408241</td>\n",
       "      <td>['grass', 'line', 'bike', 'man', 'motorcycle',...</td>\n",
       "      <td>[0.023501038551330566, 0.04544584080576897, -0...</td>\n",
       "    </tr>\n",
       "    <tr>\n",
       "      <th>831</th>\n",
       "      <td>832</td>\n",
       "      <td>['powerline', 'mirror', 'sky', 'wall', 'electr...</td>\n",
       "      <td>[-0.013713749125599861, 0.047814175486564636, ...</td>\n",
       "    </tr>\n",
       "  </tbody>\n",
       "</table>\n",
       "</div>"
      ],
      "text/plain": [
       "        image_id                                               tags  \\\n",
       "41981    2378980  ['window', 'line', 'double door', 'front winds...   \n",
       "107821   2417733  ['sand', 'left arm', 'head', 'kite', 'sky', 's...   \n",
       "23392    2398437  ['horse', 'head', 'leg', 'mouth', 'neck', 'hay...   \n",
       "14033    2408241  ['grass', 'line', 'bike', 'man', 'motorcycle',...   \n",
       "831          832  ['powerline', 'mirror', 'sky', 'wall', 'electr...   \n",
       "\n",
       "                                          image_embedding  \n",
       "41981   [-0.004452705383300781, 0.010793974623084068, ...  \n",
       "107821  [0.006527651101350784, 0.017943937331438065, -...  \n",
       "23392   [-0.037737887352705, -0.008829250000417233, -0...  \n",
       "14033   [0.023501038551330566, 0.04544584080576897, -0...  \n",
       "831     [-0.013713749125599861, 0.047814175486564636, ...  "
      ]
     },
     "execution_count": 108,
     "metadata": {},
     "output_type": "execute_result"
    }
   ],
   "source": [
    "df.head()"
   ]
  },
  {
   "cell_type": "markdown",
   "id": "eb757f9c-33d9-41b2-adcd-31bc91149529",
   "metadata": {},
   "source": [
    "#### Top 10 tags"
   ]
  },
  {
   "cell_type": "code",
   "execution_count": 115,
   "id": "252fbca8-960a-4e1b-b88f-8e501d5c41d5",
   "metadata": {},
   "outputs": [],
   "source": [
    "import ast\n",
    "\n",
    "# convert the `tags` column into a list\n",
    "df['tags'] = df['tags'].apply(ast.literal_eval)"
   ]
  },
  {
   "cell_type": "code",
   "execution_count": 118,
   "id": "e4e7ff9f-01ef-4853-87fe-159ad1f491ce",
   "metadata": {},
   "outputs": [
    {
     "data": {
      "text/plain": [
       "['man',\n",
       " 'tree',\n",
       " 'wall',\n",
       " 'shirt',\n",
       " 'sky',\n",
       " 'building',\n",
       " 'window',\n",
       " 'grass',\n",
       " 'ground',\n",
       " 'head']"
      ]
     },
     "execution_count": 118,
     "metadata": {},
     "output_type": "execute_result"
    }
   ],
   "source": [
    "from collections import Counter\n",
    "\n",
    "# get the list of all tags\n",
    "all_tags = []\n",
    "\n",
    "for tag in df['tags'].values:\n",
    "    all_tags += tag\n",
    "\n",
    "# count the number of occurrences (images) for each tag\n",
    "occurrences = pd.Series(all_tags).value_counts()\n",
    "select_tags = list(occurrences[:10].index.values)\n",
    "select_tags"
   ]
  },
  {
   "cell_type": "markdown",
   "id": "b3c435eb-c7af-4dba-87e8-15fb5c53b9e3",
   "metadata": {},
   "source": [
    "In addition, take five random tags."
   ]
  },
  {
   "cell_type": "code",
   "execution_count": 119,
   "id": "d1e95b59-601a-4e20-8e17-77d24614022d",
   "metadata": {},
   "outputs": [
    {
     "data": {
      "text/plain": [
       "['spectacles', 'bananas', 'girl', 'sand', 'sink']"
      ]
     },
     "execution_count": 119,
     "metadata": {},
     "output_type": "execute_result"
    }
   ],
   "source": [
    "import random\n",
    "\n",
    "random_tags = random.sample(all_tags, 5)\n",
    "random_tags"
   ]
  },
  {
   "cell_type": "code",
   "execution_count": 120,
   "id": "630ac66a-f139-4c6c-b4fd-9284dd105169",
   "metadata": {},
   "outputs": [],
   "source": [
    "# append the five random tags to the original list\n",
    "select_tags = list(set(select_tags + random_tags))"
   ]
  },
  {
   "cell_type": "markdown",
   "id": "534af8b3-db11-4592-b5f8-89952827d1e8",
   "metadata": {},
   "source": [
    "#### Add ground truth"
   ]
  },
  {
   "cell_type": "code",
   "execution_count": 122,
   "id": "0cfbe70f-6c12-475e-b34f-aef5ce416d7d",
   "metadata": {},
   "outputs": [
    {
     "data": {
      "text/html": [
       "<div>\n",
       "<style scoped>\n",
       "    .dataframe tbody tr th:only-of-type {\n",
       "        vertical-align: middle;\n",
       "    }\n",
       "\n",
       "    .dataframe tbody tr th {\n",
       "        vertical-align: top;\n",
       "    }\n",
       "\n",
       "    .dataframe thead th {\n",
       "        text-align: right;\n",
       "    }\n",
       "</style>\n",
       "<table border=\"1\" class=\"dataframe\">\n",
       "  <thead>\n",
       "    <tr style=\"text-align: right;\">\n",
       "      <th></th>\n",
       "      <th>search_tag</th>\n",
       "      <th>image_ids</th>\n",
       "      <th>matched_image_ct</th>\n",
       "    </tr>\n",
       "  </thead>\n",
       "  <tbody>\n",
       "    <tr>\n",
       "      <th>0</th>\n",
       "      <td>man</td>\n",
       "      <td>[2417733, 2408241, 2403729, 2396856, 2405849, ...</td>\n",
       "      <td>105</td>\n",
       "    </tr>\n",
       "    <tr>\n",
       "      <th>1</th>\n",
       "      <td>sink</td>\n",
       "      <td>[508, 2411378, 2394652, 2416381, 2403373]</td>\n",
       "      <td>5</td>\n",
       "    </tr>\n",
       "    <tr>\n",
       "      <th>2</th>\n",
       "      <td>tree</td>\n",
       "      <td>[2378980, 2398437, 832, 2405367, 2378215, 2110...</td>\n",
       "      <td>92</td>\n",
       "    </tr>\n",
       "    <tr>\n",
       "      <th>3</th>\n",
       "      <td>wall</td>\n",
       "      <td>[832, 512, 2399605, 2377478, 2390176, 4404, 24...</td>\n",
       "      <td>89</td>\n",
       "    </tr>\n",
       "    <tr>\n",
       "      <th>4</th>\n",
       "      <td>shirt</td>\n",
       "      <td>[2417733, 2399152, 2396856, 2405849, 4689, 239...</td>\n",
       "      <td>89</td>\n",
       "    </tr>\n",
       "  </tbody>\n",
       "</table>\n",
       "</div>"
      ],
      "text/plain": [
       "  search_tag                                          image_ids  \\\n",
       "0        man  [2417733, 2408241, 2403729, 2396856, 2405849, ...   \n",
       "1       sink          [508, 2411378, 2394652, 2416381, 2403373]   \n",
       "2       tree  [2378980, 2398437, 832, 2405367, 2378215, 2110...   \n",
       "3       wall  [832, 512, 2399605, 2377478, 2390176, 4404, 24...   \n",
       "4      shirt  [2417733, 2399152, 2396856, 2405849, 4689, 239...   \n",
       "\n",
       "   matched_image_ct  \n",
       "0               105  \n",
       "1                 5  \n",
       "2                92  \n",
       "3                89  \n",
       "4                89  "
      ]
     },
     "execution_count": 122,
     "metadata": {},
     "output_type": "execute_result"
    }
   ],
   "source": [
    "judgement_data = {}\n",
    "\n",
    "for search_tag in select_tags:\n",
    "    matched_images = []\n",
    "    # for each select tag, iterate thru the dataset\n",
    "    for i, row in df.iterrows():\n",
    "        # for each row (image) in the dataset, add the image if that tag was found in that image\n",
    "        for available_tag in set(row['tags']):\n",
    "            if available_tag == search_tag:\n",
    "                matched_images.append(row['image_id'])\n",
    "    judgement_data[search_tag] = matched_images\n",
    "\n",
    "# convert the dictionary into a dataframe\n",
    "df_judgement = pd.DataFrame(list(judgement_data.items()),\n",
    "                            columns=['search_tag', 'image_ids'])\n",
    "\n",
    "df_judgement['matched_image_ct'] = df_judgement['image_ids'].apply(lambda x: len(x))\n",
    "\n",
    "df_judgement.head()"
   ]
  },
  {
   "cell_type": "markdown",
   "id": "89d46304-ec43-41fc-9cc8-c7b534ac6aa4",
   "metadata": {},
   "source": [
    "#### Perform search"
   ]
  },
  {
   "cell_type": "code",
   "execution_count": 123,
   "id": "cbb6262d-09a5-4e59-8569-1796c3bd081b",
   "metadata": {},
   "outputs": [],
   "source": [
    "def find_matched_images(search_phrase):    \n",
    "    \"\"\"\n",
    "    For a given search phrase, performs search and returns matched images and scores\n",
    "    \"\"\"\n",
    "    results = search_images(search_phrase)\n",
    "    matched_images_w_scores = [(results_dict['_source']['image_id'], \n",
    "                                results_dict['_score']) for results_dict in results['hits']['hits']]\n",
    "    matched_images, scores = zip(*matched_images_w_scores)\n",
    "    return matched_images, scores"
   ]
  },
  {
   "cell_type": "code",
   "execution_count": 125,
   "id": "e38f680f-990a-4007-b70e-2f6e67ec9048",
   "metadata": {},
   "outputs": [
    {
     "name": "stderr",
     "output_type": "stream",
     "text": [
      "/tmp/ipykernel_2666/350506008.py:6: FutureWarning: Setting an item of incompatible dtype is deprecated and will raise an error in a future version of pandas. Value '(2222, 3688, 2411378, 2402423, 2399290, 2388317, 2397029, 2409188, 2380474, 2395384)' has dtype incompatible with float64, please explicitly cast to a compatible dtype first.\n",
      "  df_judgement.loc[i, 'search_results'] = str(matched_images)\n"
     ]
    }
   ],
   "source": [
    "for i, row in df_judgement.iterrows():\n",
    " \n",
    "    matched_images, scores = find_matched_images(row['search_tag'])\n",
    "\n",
    "    # update the judgement dataset\n",
    "    df_judgement.loc[i, 'search_results'] = str(matched_images)"
   ]
  },
  {
   "cell_type": "code",
   "execution_count": 126,
   "id": "26c47c0e-d0d6-4972-9bb6-4610f16dca06",
   "metadata": {},
   "outputs": [
    {
     "data": {
      "text/html": [
       "<div>\n",
       "<style scoped>\n",
       "    .dataframe tbody tr th:only-of-type {\n",
       "        vertical-align: middle;\n",
       "    }\n",
       "\n",
       "    .dataframe tbody tr th {\n",
       "        vertical-align: top;\n",
       "    }\n",
       "\n",
       "    .dataframe thead th {\n",
       "        text-align: right;\n",
       "    }\n",
       "</style>\n",
       "<table border=\"1\" class=\"dataframe\">\n",
       "  <thead>\n",
       "    <tr style=\"text-align: right;\">\n",
       "      <th></th>\n",
       "      <th>search_tag</th>\n",
       "      <th>image_ids</th>\n",
       "      <th>matched_image_ct</th>\n",
       "      <th>search_results</th>\n",
       "    </tr>\n",
       "  </thead>\n",
       "  <tbody>\n",
       "    <tr>\n",
       "      <th>0</th>\n",
       "      <td>man</td>\n",
       "      <td>[2417733, 2408241, 2403729, 2396856, 2405849, ...</td>\n",
       "      <td>105</td>\n",
       "      <td>(2222, 3688, 2411378, 2402423, 2399290, 238831...</td>\n",
       "    </tr>\n",
       "    <tr>\n",
       "      <th>1</th>\n",
       "      <td>sink</td>\n",
       "      <td>[508, 2411378, 2394652, 2416381, 2403373]</td>\n",
       "      <td>5</td>\n",
       "      <td>(508, 2411378, 2394195, 2403373, 2405849, 2407...</td>\n",
       "    </tr>\n",
       "    <tr>\n",
       "      <th>2</th>\n",
       "      <td>tree</td>\n",
       "      <td>[2378980, 2398437, 832, 2405367, 2378215, 2110...</td>\n",
       "      <td>92</td>\n",
       "      <td>(4441, 2395569, 832, 2416525, 2399847, 2392976...</td>\n",
       "    </tr>\n",
       "    <tr>\n",
       "      <th>3</th>\n",
       "      <td>wall</td>\n",
       "      <td>[832, 512, 2399605, 2377478, 2390176, 4404, 24...</td>\n",
       "      <td>89</td>\n",
       "      <td>(4441, 2397146, 2411378, 2400808, 2395968, 239...</td>\n",
       "    </tr>\n",
       "    <tr>\n",
       "      <th>4</th>\n",
       "      <td>shirt</td>\n",
       "      <td>[2417733, 2399152, 2396856, 2405849, 4689, 239...</td>\n",
       "      <td>89</td>\n",
       "      <td>(2402423, 2396603, 2392144, 3688, 4404, 239929...</td>\n",
       "    </tr>\n",
       "  </tbody>\n",
       "</table>\n",
       "</div>"
      ],
      "text/plain": [
       "  search_tag                                          image_ids  \\\n",
       "0        man  [2417733, 2408241, 2403729, 2396856, 2405849, ...   \n",
       "1       sink          [508, 2411378, 2394652, 2416381, 2403373]   \n",
       "2       tree  [2378980, 2398437, 832, 2405367, 2378215, 2110...   \n",
       "3       wall  [832, 512, 2399605, 2377478, 2390176, 4404, 24...   \n",
       "4      shirt  [2417733, 2399152, 2396856, 2405849, 4689, 239...   \n",
       "\n",
       "   matched_image_ct                                     search_results  \n",
       "0               105  (2222, 3688, 2411378, 2402423, 2399290, 238831...  \n",
       "1                 5  (508, 2411378, 2394195, 2403373, 2405849, 2407...  \n",
       "2                92  (4441, 2395569, 832, 2416525, 2399847, 2392976...  \n",
       "3                89  (4441, 2397146, 2411378, 2400808, 2395968, 239...  \n",
       "4                89  (2402423, 2396603, 2392144, 3688, 4404, 239929...  "
      ]
     },
     "execution_count": 126,
     "metadata": {},
     "output_type": "execute_result"
    }
   ],
   "source": [
    "df_judgement.head()"
   ]
  },
  {
   "cell_type": "code",
   "execution_count": 127,
   "id": "bad8d906-c73f-4d8b-9e53-ffaf200df9d2",
   "metadata": {},
   "outputs": [],
   "source": [
    "df_judgement[\"search_results\"] = df_judgement[\"search_results\"].apply(\n",
    "    lambda x: list(map(int, ast.literal_eval(x))))"
   ]
  },
  {
   "cell_type": "markdown",
   "id": "8415cf35-54e2-446c-a8a0-8c882fcc3778",
   "metadata": {},
   "source": [
    "#### Precision and recall"
   ]
  },
  {
   "cell_type": "code",
   "execution_count": 128,
   "id": "e973b59e-d07a-43af-aa20-b237dd62adad",
   "metadata": {},
   "outputs": [],
   "source": [
    "df_judgement[\"common_count\"] = df_judgement.apply(\n",
    "    lambda row: len(set(row[\"image_ids\"]) & set(row[\"search_results\"])), axis=1)"
   ]
  },
  {
   "cell_type": "code",
   "execution_count": 131,
   "id": "8d39d06a-fd56-492e-a081-0b940dda47e4",
   "metadata": {},
   "outputs": [
    {
     "data": {
      "text/html": [
       "<div>\n",
       "<style scoped>\n",
       "    .dataframe tbody tr th:only-of-type {\n",
       "        vertical-align: middle;\n",
       "    }\n",
       "\n",
       "    .dataframe tbody tr th {\n",
       "        vertical-align: top;\n",
       "    }\n",
       "\n",
       "    .dataframe thead th {\n",
       "        text-align: right;\n",
       "    }\n",
       "</style>\n",
       "<table border=\"1\" class=\"dataframe\">\n",
       "  <thead>\n",
       "    <tr style=\"text-align: right;\">\n",
       "      <th></th>\n",
       "      <th>search_tag</th>\n",
       "      <th>image_ids</th>\n",
       "      <th>matched_image_ct</th>\n",
       "      <th>search_results</th>\n",
       "      <th>common_count</th>\n",
       "      <th>precision</th>\n",
       "      <th>recall_at_10</th>\n",
       "    </tr>\n",
       "  </thead>\n",
       "  <tbody>\n",
       "    <tr>\n",
       "      <th>0</th>\n",
       "      <td>man</td>\n",
       "      <td>[2417733, 2408241, 2403729, 2396856, 2405849, ...</td>\n",
       "      <td>105</td>\n",
       "      <td>[2222, 3688, 2411378, 2402423, 2399290, 238831...</td>\n",
       "      <td>4</td>\n",
       "      <td>0.4</td>\n",
       "      <td>0.038095</td>\n",
       "    </tr>\n",
       "    <tr>\n",
       "      <th>1</th>\n",
       "      <td>sink</td>\n",
       "      <td>[508, 2411378, 2394652, 2416381, 2403373]</td>\n",
       "      <td>5</td>\n",
       "      <td>[508, 2411378, 2394195, 2403373, 2405849, 2407...</td>\n",
       "      <td>3</td>\n",
       "      <td>0.3</td>\n",
       "      <td>0.600000</td>\n",
       "    </tr>\n",
       "    <tr>\n",
       "      <th>2</th>\n",
       "      <td>tree</td>\n",
       "      <td>[2378980, 2398437, 832, 2405367, 2378215, 2110...</td>\n",
       "      <td>92</td>\n",
       "      <td>[4441, 2395569, 832, 2416525, 2399847, 2392976...</td>\n",
       "      <td>7</td>\n",
       "      <td>0.7</td>\n",
       "      <td>0.076087</td>\n",
       "    </tr>\n",
       "    <tr>\n",
       "      <th>3</th>\n",
       "      <td>wall</td>\n",
       "      <td>[832, 512, 2399605, 2377478, 2390176, 4404, 24...</td>\n",
       "      <td>89</td>\n",
       "      <td>[4441, 2397146, 2411378, 2400808, 2395968, 239...</td>\n",
       "      <td>3</td>\n",
       "      <td>0.3</td>\n",
       "      <td>0.033708</td>\n",
       "    </tr>\n",
       "    <tr>\n",
       "      <th>4</th>\n",
       "      <td>shirt</td>\n",
       "      <td>[2417733, 2399152, 2396856, 2405849, 4689, 239...</td>\n",
       "      <td>89</td>\n",
       "      <td>[2402423, 2396603, 2392144, 3688, 4404, 239929...</td>\n",
       "      <td>4</td>\n",
       "      <td>0.4</td>\n",
       "      <td>0.044944</td>\n",
       "    </tr>\n",
       "  </tbody>\n",
       "</table>\n",
       "</div>"
      ],
      "text/plain": [
       "  search_tag                                          image_ids  \\\n",
       "0        man  [2417733, 2408241, 2403729, 2396856, 2405849, ...   \n",
       "1       sink          [508, 2411378, 2394652, 2416381, 2403373]   \n",
       "2       tree  [2378980, 2398437, 832, 2405367, 2378215, 2110...   \n",
       "3       wall  [832, 512, 2399605, 2377478, 2390176, 4404, 24...   \n",
       "4      shirt  [2417733, 2399152, 2396856, 2405849, 4689, 239...   \n",
       "\n",
       "   matched_image_ct                                     search_results  \\\n",
       "0               105  [2222, 3688, 2411378, 2402423, 2399290, 238831...   \n",
       "1                 5  [508, 2411378, 2394195, 2403373, 2405849, 2407...   \n",
       "2                92  [4441, 2395569, 832, 2416525, 2399847, 2392976...   \n",
       "3                89  [4441, 2397146, 2411378, 2400808, 2395968, 239...   \n",
       "4                89  [2402423, 2396603, 2392144, 3688, 4404, 239929...   \n",
       "\n",
       "   common_count  precision  recall_at_10  \n",
       "0             4        0.4      0.038095  \n",
       "1             3        0.3      0.600000  \n",
       "2             7        0.7      0.076087  \n",
       "3             3        0.3      0.033708  \n",
       "4             4        0.4      0.044944  "
      ]
     },
     "execution_count": 131,
     "metadata": {},
     "output_type": "execute_result"
    }
   ],
   "source": [
    "# precision: how many of the matched images are actually correct?\n",
    "df_judgement['precision'] = df_judgement['common_count'] / 10\n",
    "\n",
    "# recall: how many of the correct images are captured by search\n",
    "df_judgement[f'recall_at_{10}'] = df_judgement['common_count'] / df_judgement['matched_image_ct'] \n",
    "\n",
    "df_judgement.head()"
   ]
  },
  {
   "cell_type": "code",
   "execution_count": 132,
   "id": "1c71e6f8-1ee3-46dd-9f0b-33b7b556fb3a",
   "metadata": {},
   "outputs": [
    {
     "name": "stdout",
     "output_type": "stream",
     "text": [
      "Average Precision: 0.44\n",
      "Average Recall (at 10): 0.17\n"
     ]
    }
   ],
   "source": [
    "print(f\"Average Precision: {df_judgement['precision'].mean():.2f}\")\n",
    "\n",
    "print(f\"Average Recall (at 10): {df_judgement['recall_at_10'].mean():.2f}\")"
   ]
  },
  {
   "cell_type": "markdown",
   "id": "0b87e818-7d98-4ef4-abd3-784bd533a469",
   "metadata": {},
   "source": [
    "These results don't look very impressive, but that's not the point of this notebook. If you are trying different models, quantization techniques, etc. you can calculate the average precision and recall for all those approached and compare them against each other."
   ]
  },
  {
   "cell_type": "markdown",
   "id": "51833e91-0d86-456c-94d0-dc1134c2efa1",
   "metadata": {},
   "source": [
    "### Dashboard"
   ]
  },
  {
   "cell_type": "code",
   "execution_count": 133,
   "id": "95ded328-e002-40cd-b041-f40b12bf25db",
   "metadata": {},
   "outputs": [],
   "source": [
    "from io import BytesIO\n",
    "from PIL import Image\n",
    "import matplotlib.pyplot as plt\n",
    "from ipywidgets import interact, Dropdown, Output, VBox"
   ]
  },
  {
   "cell_type": "code",
   "execution_count": 135,
   "id": "57b376a8-131c-4464-9e09-660f531a643b",
   "metadata": {},
   "outputs": [],
   "source": [
    "def fetch_image(image_id):\n",
    "    url = f\"https://cs.stanford.edu/people/rak248/VG_100K_2/{image_id}.jpg\"\n",
    "    response = requests.get(url)\n",
    "    if response.status_code == 200:\n",
    "        return Image.open(BytesIO(response.content))\n",
    "    else:\n",
    "        return None\n",
    "\n",
    "def display_images(search_tag):\n",
    "    output.clear_output(wait=True)\n",
    "    image_ids = df_judgement[df_judgement[\"search_tag\"] == search_tag][\"image_ids\"].values[0]\n",
    "    fig, axes = plt.subplots(1, 10, figsize=(20, 5))\n",
    "    \n",
    "    for ax, image_id in zip(axes, image_ids):\n",
    "        image = fetch_image(image_id)\n",
    "        if image:\n",
    "            ax.imshow(image)\n",
    "            ax.axis(\"off\")\n",
    "            ax.set_title(image_id, fontsize=8)\n",
    "        else:\n",
    "            ax.set_axis_off()\n",
    "    \n",
    "    plt.show()\n",
    "\n",
    "search_tag_dropdown = Dropdown(\n",
    "    options=df_judgement[\"search_tag\"].unique(),\n",
    "    description=\"Search Tag:\",\n",
    ")\n",
    "\n",
    "output = Output()\n",
    "\n",
    "def on_change(change):\n",
    "    with output:\n",
    "        display_images(change.new)\n",
    "\n",
    "search_tag_dropdown.observe(lambda change: on_change(change), names=\"value\")"
   ]
  },
  {
   "cell_type": "code",
   "execution_count": 136,
   "id": "ac44b252-b853-4aee-97eb-7bfe5811d6e7",
   "metadata": {},
   "outputs": [
    {
     "data": {
      "application/vnd.jupyter.widget-view+json": {
       "model_id": "cd8bc06909df4bab90f4f7e3ac3b0c34",
       "version_major": 2,
       "version_minor": 0
      },
      "text/plain": [
       "VBox(children=(Dropdown(description='Search Tag:', options=('man', 'sink', 'tree', 'wall', 'shirt', 'ground', …"
      ]
     },
     "metadata": {},
     "output_type": "display_data"
    }
   ],
   "source": [
    "dashboard = VBox([search_tag_dropdown, output])\n",
    "display(dashboard)"
   ]
  }
 ],
 "metadata": {
  "kernelspec": {
   "display_name": "Python 3 (ipykernel)",
   "language": "python",
   "name": "python3"
  },
  "language_info": {
   "codemirror_mode": {
    "name": "ipython",
    "version": 3
   },
   "file_extension": ".py",
   "mimetype": "text/x-python",
   "name": "python",
   "nbconvert_exporter": "python",
   "pygments_lexer": "ipython3",
   "version": "3.10.12"
  }
 },
 "nbformat": 4,
 "nbformat_minor": 5
}
