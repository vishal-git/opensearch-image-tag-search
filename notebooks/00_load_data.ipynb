{
 "cells": [
  {
   "cell_type": "markdown",
   "id": "90343b96-6454-4898-84bf-5c261fa83b35",
   "metadata": {},
   "source": [
    "In this notebook, we will load a small subset of the **Visual Genome** dataset. All **Visual Genome** datasets are sourced from [here](https://homes.cs.washington.edu/~ranjay/visualgenome/api.html). We will pull a random sample of around 1,000 images from HuggingFace's `dataset` package, and download the `Objects` dataset from the [original source](https://homes.cs.washington.edu/~ranjay/visualgenome/api.html)."
   ]
  },
  {
   "cell_type": "code",
   "execution_count": 2,
   "id": "e2cb9284-b60d-4b71-9015-a837f67781ad",
   "metadata": {},
   "outputs": [
    {
     "name": "stdout",
     "output_type": "stream",
     "text": [
      "This took 0.01 minutes.\n"
     ]
    }
   ],
   "source": [
    "from datasets import load_dataset\n",
    "import aiohttp\n",
    "import time\n",
    "\n",
    "start = time.time()\n",
    "\n",
    "dataset = load_dataset(\"visual_genome\", \"region_descriptions_v1.2.0\", split=\"train[:1%]\",\n",
    "    storage_options={'client_kwargs': {'timeout': aiohttp.ClientTimeout(total=900)}})\n",
    "\n",
    "print(f\"This took {(time.time() - start) / 60:.2f} minutes.\")"
   ]
  },
  {
   "cell_type": "code",
   "execution_count": 3,
   "id": "e35efc84-8908-420a-8a3b-c192afe41932",
   "metadata": {},
   "outputs": [
    {
     "data": {
      "text/plain": [
       "1081"
      ]
     },
     "execution_count": 3,
     "metadata": {},
     "output_type": "execute_result"
    }
   ],
   "source": [
    "len(dataset)"
   ]
  },
  {
   "cell_type": "code",
   "execution_count": 43,
   "id": "e8e71073-14f8-44d9-821a-f421441af383",
   "metadata": {},
   "outputs": [
    {
     "data": {
      "text/plain": [
       "dict_keys(['image', 'image_id', 'url', 'width', 'height', 'coco_id', 'flickr_id', 'regions'])"
      ]
     },
     "execution_count": 43,
     "metadata": {},
     "output_type": "execute_result"
    }
   ],
   "source": [
    "dataset[1].keys()"
   ]
  },
  {
   "cell_type": "markdown",
   "id": "99a76495-9291-4c4f-964a-b5f01f453275",
   "metadata": {},
   "source": [
    "The raw images are available in the `url` column."
   ]
  },
  {
   "cell_type": "code",
   "execution_count": 28,
   "id": "f3ea429d-7e69-44e1-9813-6723adac34a1",
   "metadata": {},
   "outputs": [
    {
     "data": {
      "text/plain": [
       "'https://cs.stanford.edu/people/rak248/VG_100K/2.jpg'"
      ]
     },
     "execution_count": 28,
     "metadata": {},
     "output_type": "execute_result"
    }
   ],
   "source": [
    "dataset[1]['url']"
   ]
  },
  {
   "cell_type": "code",
   "execution_count": 29,
   "id": "de9121c0-c719-4998-9bf7-83bc8a70cb82",
   "metadata": {},
   "outputs": [],
   "source": [
    "# let's convert the dictionary into a dataframe\n",
    "df = pd.DataFrame(dataset)"
   ]
  },
  {
   "cell_type": "code",
   "execution_count": 30,
   "id": "d27cf1a7-a1a0-47bd-9ce7-6cf2048eda54",
   "metadata": {},
   "outputs": [
    {
     "data": {
      "text/html": [
       "<div>\n",
       "<style scoped>\n",
       "    .dataframe tbody tr th:only-of-type {\n",
       "        vertical-align: middle;\n",
       "    }\n",
       "\n",
       "    .dataframe tbody tr th {\n",
       "        vertical-align: top;\n",
       "    }\n",
       "\n",
       "    .dataframe thead th {\n",
       "        text-align: right;\n",
       "    }\n",
       "</style>\n",
       "<table border=\"1\" class=\"dataframe\">\n",
       "  <thead>\n",
       "    <tr style=\"text-align: right;\">\n",
       "      <th></th>\n",
       "      <th>image</th>\n",
       "      <th>image_id</th>\n",
       "      <th>url</th>\n",
       "      <th>width</th>\n",
       "      <th>height</th>\n",
       "      <th>coco_id</th>\n",
       "      <th>flickr_id</th>\n",
       "      <th>regions</th>\n",
       "    </tr>\n",
       "  </thead>\n",
       "  <tbody>\n",
       "    <tr>\n",
       "      <th>0</th>\n",
       "      <td>&lt;PIL.JpegImagePlugin.JpegImageFile image mode=...</td>\n",
       "      <td>1</td>\n",
       "      <td>https://cs.stanford.edu/people/rak248/VG_100K_...</td>\n",
       "      <td>800</td>\n",
       "      <td>600</td>\n",
       "      <td>None</td>\n",
       "      <td>None</td>\n",
       "      <td>[{'region_id': 1382, 'image_id': 1, 'phrase': ...</td>\n",
       "    </tr>\n",
       "    <tr>\n",
       "      <th>1</th>\n",
       "      <td>&lt;PIL.JpegImagePlugin.JpegImageFile image mode=...</td>\n",
       "      <td>2</td>\n",
       "      <td>https://cs.stanford.edu/people/rak248/VG_100K/...</td>\n",
       "      <td>800</td>\n",
       "      <td>600</td>\n",
       "      <td>None</td>\n",
       "      <td>None</td>\n",
       "      <td>[{'region_id': 1387, 'image_id': 2, 'phrase': ...</td>\n",
       "    </tr>\n",
       "    <tr>\n",
       "      <th>2</th>\n",
       "      <td>&lt;PIL.Image.Image image mode=RGB size=640x480 a...</td>\n",
       "      <td>3</td>\n",
       "      <td>https://cs.stanford.edu/people/rak248/VG_100K/...</td>\n",
       "      <td>640</td>\n",
       "      <td>480</td>\n",
       "      <td>None</td>\n",
       "      <td>None</td>\n",
       "      <td>[{'region_id': 1392, 'image_id': 3, 'phrase': ...</td>\n",
       "    </tr>\n",
       "    <tr>\n",
       "      <th>3</th>\n",
       "      <td>&lt;PIL.JpegImagePlugin.JpegImageFile image mode=...</td>\n",
       "      <td>4</td>\n",
       "      <td>https://cs.stanford.edu/people/rak248/VG_100K/...</td>\n",
       "      <td>640</td>\n",
       "      <td>480</td>\n",
       "      <td>None</td>\n",
       "      <td>None</td>\n",
       "      <td>[{'region_id': 1397, 'image_id': 4, 'phrase': ...</td>\n",
       "    </tr>\n",
       "    <tr>\n",
       "      <th>4</th>\n",
       "      <td>&lt;PIL.JpegImagePlugin.JpegImageFile image mode=...</td>\n",
       "      <td>5</td>\n",
       "      <td>https://cs.stanford.edu/people/rak248/VG_100K/...</td>\n",
       "      <td>800</td>\n",
       "      <td>600</td>\n",
       "      <td>None</td>\n",
       "      <td>None</td>\n",
       "      <td>[{'region_id': 1402, 'image_id': 5, 'phrase': ...</td>\n",
       "    </tr>\n",
       "  </tbody>\n",
       "</table>\n",
       "</div>"
      ],
      "text/plain": [
       "                                               image  image_id  \\\n",
       "0  <PIL.JpegImagePlugin.JpegImageFile image mode=...         1   \n",
       "1  <PIL.JpegImagePlugin.JpegImageFile image mode=...         2   \n",
       "2  <PIL.Image.Image image mode=RGB size=640x480 a...         3   \n",
       "3  <PIL.JpegImagePlugin.JpegImageFile image mode=...         4   \n",
       "4  <PIL.JpegImagePlugin.JpegImageFile image mode=...         5   \n",
       "\n",
       "                                                 url  width  height coco_id  \\\n",
       "0  https://cs.stanford.edu/people/rak248/VG_100K_...    800     600    None   \n",
       "1  https://cs.stanford.edu/people/rak248/VG_100K/...    800     600    None   \n",
       "2  https://cs.stanford.edu/people/rak248/VG_100K/...    640     480    None   \n",
       "3  https://cs.stanford.edu/people/rak248/VG_100K/...    640     480    None   \n",
       "4  https://cs.stanford.edu/people/rak248/VG_100K/...    800     600    None   \n",
       "\n",
       "  flickr_id                                            regions  \n",
       "0      None  [{'region_id': 1382, 'image_id': 1, 'phrase': ...  \n",
       "1      None  [{'region_id': 1387, 'image_id': 2, 'phrase': ...  \n",
       "2      None  [{'region_id': 1392, 'image_id': 3, 'phrase': ...  \n",
       "3      None  [{'region_id': 1397, 'image_id': 4, 'phrase': ...  \n",
       "4      None  [{'region_id': 1402, 'image_id': 5, 'phrase': ...  "
      ]
     },
     "execution_count": 30,
     "metadata": {},
     "output_type": "execute_result"
    }
   ],
   "source": [
    "df.head()"
   ]
  },
  {
   "cell_type": "code",
   "execution_count": 31,
   "id": "6fbbc5bb-4f12-48e2-8bb7-2556ee5bf3c1",
   "metadata": {},
   "outputs": [
    {
     "data": {
      "text/html": [
       "<div>\n",
       "<style scoped>\n",
       "    .dataframe tbody tr th:only-of-type {\n",
       "        vertical-align: middle;\n",
       "    }\n",
       "\n",
       "    .dataframe tbody tr th {\n",
       "        vertical-align: top;\n",
       "    }\n",
       "\n",
       "    .dataframe thead th {\n",
       "        text-align: right;\n",
       "    }\n",
       "</style>\n",
       "<table border=\"1\" class=\"dataframe\">\n",
       "  <thead>\n",
       "    <tr style=\"text-align: right;\">\n",
       "      <th></th>\n",
       "      <th>image_id</th>\n",
       "      <th>url</th>\n",
       "    </tr>\n",
       "  </thead>\n",
       "  <tbody>\n",
       "    <tr>\n",
       "      <th>0</th>\n",
       "      <td>1</td>\n",
       "      <td>https://cs.stanford.edu/people/rak248/VG_100K_...</td>\n",
       "    </tr>\n",
       "    <tr>\n",
       "      <th>1</th>\n",
       "      <td>2</td>\n",
       "      <td>https://cs.stanford.edu/people/rak248/VG_100K/...</td>\n",
       "    </tr>\n",
       "    <tr>\n",
       "      <th>2</th>\n",
       "      <td>3</td>\n",
       "      <td>https://cs.stanford.edu/people/rak248/VG_100K/...</td>\n",
       "    </tr>\n",
       "    <tr>\n",
       "      <th>3</th>\n",
       "      <td>4</td>\n",
       "      <td>https://cs.stanford.edu/people/rak248/VG_100K/...</td>\n",
       "    </tr>\n",
       "    <tr>\n",
       "      <th>4</th>\n",
       "      <td>5</td>\n",
       "      <td>https://cs.stanford.edu/people/rak248/VG_100K/...</td>\n",
       "    </tr>\n",
       "  </tbody>\n",
       "</table>\n",
       "</div>"
      ],
      "text/plain": [
       "   image_id                                                url\n",
       "0         1  https://cs.stanford.edu/people/rak248/VG_100K_...\n",
       "1         2  https://cs.stanford.edu/people/rak248/VG_100K/...\n",
       "2         3  https://cs.stanford.edu/people/rak248/VG_100K/...\n",
       "3         4  https://cs.stanford.edu/people/rak248/VG_100K/...\n",
       "4         5  https://cs.stanford.edu/people/rak248/VG_100K/..."
      ]
     },
     "execution_count": 31,
     "metadata": {},
     "output_type": "execute_result"
    }
   ],
   "source": [
    "# we don't need any columns other than image_id and url\n",
    "df = df[['image_id', 'url']]\n",
    "df.head()"
   ]
  },
  {
   "cell_type": "markdown",
   "id": "a1ab9b16-0f09-4017-afa9-7e86db5d2f21",
   "metadata": {},
   "source": [
    "The `objects` JSON file was downloaded from [here](https://homes.cs.washington.edu/~ranjay/visualgenome/api.html). This dataset contains image tags (aka objects) present in each image."
   ]
  },
  {
   "cell_type": "code",
   "execution_count": 32,
   "id": "9abf0fab-07d7-447b-a8c2-181139a621de",
   "metadata": {},
   "outputs": [
    {
     "data": {
      "text/html": [
       "<div>\n",
       "<style scoped>\n",
       "    .dataframe tbody tr th:only-of-type {\n",
       "        vertical-align: middle;\n",
       "    }\n",
       "\n",
       "    .dataframe tbody tr th {\n",
       "        vertical-align: top;\n",
       "    }\n",
       "\n",
       "    .dataframe thead th {\n",
       "        text-align: right;\n",
       "    }\n",
       "</style>\n",
       "<table border=\"1\" class=\"dataframe\">\n",
       "  <thead>\n",
       "    <tr style=\"text-align: right;\">\n",
       "      <th></th>\n",
       "      <th>image_id</th>\n",
       "      <th>objects</th>\n",
       "      <th>image_url</th>\n",
       "      <th>merged_object_ids</th>\n",
       "    </tr>\n",
       "  </thead>\n",
       "  <tbody>\n",
       "    <tr>\n",
       "      <th>0</th>\n",
       "      <td>1</td>\n",
       "      <td>[{'synsets': ['tree.n.01'], 'h': 557, 'object_...</td>\n",
       "      <td>https://cs.stanford.edu/people/rak248/VG_100K_...</td>\n",
       "      <td>NaN</td>\n",
       "    </tr>\n",
       "    <tr>\n",
       "      <th>1</th>\n",
       "      <td>2</td>\n",
       "      <td>[{'synsets': ['road.n.01'], 'h': 254, 'object_...</td>\n",
       "      <td>https://cs.stanford.edu/people/rak248/VG_100K_...</td>\n",
       "      <td>NaN</td>\n",
       "    </tr>\n",
       "    <tr>\n",
       "      <th>2</th>\n",
       "      <td>3</td>\n",
       "      <td>[{'synsets': ['booth.n.02'], 'h': 389, 'object...</td>\n",
       "      <td>https://cs.stanford.edu/people/rak248/VG_100K_...</td>\n",
       "      <td>NaN</td>\n",
       "    </tr>\n",
       "    <tr>\n",
       "      <th>3</th>\n",
       "      <td>4</td>\n",
       "      <td>[{'synsets': ['floor.n.01'], 'h': 168, 'object...</td>\n",
       "      <td>https://cs.stanford.edu/people/rak248/VG_100K_...</td>\n",
       "      <td>NaN</td>\n",
       "    </tr>\n",
       "    <tr>\n",
       "      <th>4</th>\n",
       "      <td>5</td>\n",
       "      <td>[{'synsets': ['room.n.01'], 'h': 599, 'object_...</td>\n",
       "      <td>https://cs.stanford.edu/people/rak248/VG_100K_...</td>\n",
       "      <td>NaN</td>\n",
       "    </tr>\n",
       "  </tbody>\n",
       "</table>\n",
       "</div>"
      ],
      "text/plain": [
       "   image_id                                            objects  \\\n",
       "0         1  [{'synsets': ['tree.n.01'], 'h': 557, 'object_...   \n",
       "1         2  [{'synsets': ['road.n.01'], 'h': 254, 'object_...   \n",
       "2         3  [{'synsets': ['booth.n.02'], 'h': 389, 'object...   \n",
       "3         4  [{'synsets': ['floor.n.01'], 'h': 168, 'object...   \n",
       "4         5  [{'synsets': ['room.n.01'], 'h': 599, 'object_...   \n",
       "\n",
       "                                           image_url merged_object_ids  \n",
       "0  https://cs.stanford.edu/people/rak248/VG_100K_...               NaN  \n",
       "1  https://cs.stanford.edu/people/rak248/VG_100K_...               NaN  \n",
       "2  https://cs.stanford.edu/people/rak248/VG_100K_...               NaN  \n",
       "3  https://cs.stanford.edu/people/rak248/VG_100K_...               NaN  \n",
       "4  https://cs.stanford.edu/people/rak248/VG_100K_...               NaN  "
      ]
     },
     "execution_count": 32,
     "metadata": {},
     "output_type": "execute_result"
    }
   ],
   "source": [
    "import pandas as pd\n",
    "\n",
    "df_obj = pd.read_json('../data/objects.json')\n",
    "df_obj.head()"
   ]
  },
  {
   "cell_type": "code",
   "execution_count": null,
   "id": "bdf25d5c-fb71-43e0-9054-efcf6fb4d9a2",
   "metadata": {},
   "outputs": [],
   "source": [
    "df_obj = df_obj[['image_id', 'objects']]"
   ]
  },
  {
   "cell_type": "code",
   "execution_count": 41,
   "id": "41e0a87f-50c8-49da-9324-93c36d1bdde3",
   "metadata": {},
   "outputs": [
    {
     "data": {
      "text/html": [
       "<div>\n",
       "<style scoped>\n",
       "    .dataframe tbody tr th:only-of-type {\n",
       "        vertical-align: middle;\n",
       "    }\n",
       "\n",
       "    .dataframe tbody tr th {\n",
       "        vertical-align: top;\n",
       "    }\n",
       "\n",
       "    .dataframe thead th {\n",
       "        text-align: right;\n",
       "    }\n",
       "</style>\n",
       "<table border=\"1\" class=\"dataframe\">\n",
       "  <thead>\n",
       "    <tr style=\"text-align: right;\">\n",
       "      <th></th>\n",
       "      <th>image_id</th>\n",
       "      <th>objects</th>\n",
       "      <th>image_url</th>\n",
       "      <th>merged_object_ids</th>\n",
       "      <th>tags</th>\n",
       "    </tr>\n",
       "  </thead>\n",
       "  <tbody>\n",
       "    <tr>\n",
       "      <th>0</th>\n",
       "      <td>1</td>\n",
       "      <td>[{'synsets': ['tree.n.01'], 'h': 557, 'object_...</td>\n",
       "      <td>https://cs.stanford.edu/people/rak248/VG_100K_...</td>\n",
       "      <td>NaN</td>\n",
       "      <td>[trees, sidewalk, building, street, wall, tree...</td>\n",
       "    </tr>\n",
       "    <tr>\n",
       "      <th>1</th>\n",
       "      <td>2</td>\n",
       "      <td>[{'synsets': ['road.n.01'], 'h': 254, 'object_...</td>\n",
       "      <td>https://cs.stanford.edu/people/rak248/VG_100K_...</td>\n",
       "      <td>NaN</td>\n",
       "      <td>[road, sidewalk, building, building, street li...</td>\n",
       "    </tr>\n",
       "    <tr>\n",
       "      <th>2</th>\n",
       "      <td>3</td>\n",
       "      <td>[{'synsets': ['booth.n.02'], 'h': 389, 'object...</td>\n",
       "      <td>https://cs.stanford.edu/people/rak248/VG_100K_...</td>\n",
       "      <td>NaN</td>\n",
       "      <td>[cubicles, table, desktop, desk, wall, dividin...</td>\n",
       "    </tr>\n",
       "    <tr>\n",
       "      <th>3</th>\n",
       "      <td>4</td>\n",
       "      <td>[{'synsets': ['floor.n.01'], 'h': 168, 'object...</td>\n",
       "      <td>https://cs.stanford.edu/people/rak248/VG_100K_...</td>\n",
       "      <td>NaN</td>\n",
       "      <td>[floor, carpet, curtains, patio, window, table...</td>\n",
       "    </tr>\n",
       "    <tr>\n",
       "      <th>4</th>\n",
       "      <td>5</td>\n",
       "      <td>[{'synsets': ['room.n.01'], 'h': 599, 'object_...</td>\n",
       "      <td>https://cs.stanford.edu/people/rak248/VG_100K_...</td>\n",
       "      <td>NaN</td>\n",
       "      <td>[room, area, wall, wall, shelf, books, chair, ...</td>\n",
       "    </tr>\n",
       "  </tbody>\n",
       "</table>\n",
       "</div>"
      ],
      "text/plain": [
       "   image_id                                            objects  \\\n",
       "0         1  [{'synsets': ['tree.n.01'], 'h': 557, 'object_...   \n",
       "1         2  [{'synsets': ['road.n.01'], 'h': 254, 'object_...   \n",
       "2         3  [{'synsets': ['booth.n.02'], 'h': 389, 'object...   \n",
       "3         4  [{'synsets': ['floor.n.01'], 'h': 168, 'object...   \n",
       "4         5  [{'synsets': ['room.n.01'], 'h': 599, 'object_...   \n",
       "\n",
       "                                           image_url merged_object_ids  \\\n",
       "0  https://cs.stanford.edu/people/rak248/VG_100K_...               NaN   \n",
       "1  https://cs.stanford.edu/people/rak248/VG_100K_...               NaN   \n",
       "2  https://cs.stanford.edu/people/rak248/VG_100K_...               NaN   \n",
       "3  https://cs.stanford.edu/people/rak248/VG_100K_...               NaN   \n",
       "4  https://cs.stanford.edu/people/rak248/VG_100K_...               NaN   \n",
       "\n",
       "                                                tags  \n",
       "0  [trees, sidewalk, building, street, wall, tree...  \n",
       "1  [road, sidewalk, building, building, street li...  \n",
       "2  [cubicles, table, desktop, desk, wall, dividin...  \n",
       "3  [floor, carpet, curtains, patio, window, table...  \n",
       "4  [room, area, wall, wall, shelf, books, chair, ...  "
      ]
     },
     "execution_count": 41,
     "metadata": {},
     "output_type": "execute_result"
    }
   ],
   "source": [
    "# extract the list of image tags from the `objects` column\n",
    "df_obj['tags'] = df_obj['objects'].apply(lambda row: [obj['names'][0] for obj in row])\n",
    "df_obj.head()"
   ]
  },
  {
   "cell_type": "code",
   "execution_count": 35,
   "id": "35d5ac82-d784-48c3-926d-abe9eb5e1c53",
   "metadata": {},
   "outputs": [
    {
     "data": {
      "text/plain": [
       "(1081, 3)"
      ]
     },
     "execution_count": 35,
     "metadata": {},
     "output_type": "execute_result"
    }
   ],
   "source": [
    "# combine both datasets\n",
    "df = df.merge(df_obj[['image_id', 'tags']], left_on='image_id', right_on='image_id')\n",
    "df.shape"
   ]
  },
  {
   "cell_type": "code",
   "execution_count": 36,
   "id": "d629cb03-d019-4e56-928f-9bed06428e7d",
   "metadata": {},
   "outputs": [
    {
     "data": {
      "text/html": [
       "<div>\n",
       "<style scoped>\n",
       "    .dataframe tbody tr th:only-of-type {\n",
       "        vertical-align: middle;\n",
       "    }\n",
       "\n",
       "    .dataframe tbody tr th {\n",
       "        vertical-align: top;\n",
       "    }\n",
       "\n",
       "    .dataframe thead th {\n",
       "        text-align: right;\n",
       "    }\n",
       "</style>\n",
       "<table border=\"1\" class=\"dataframe\">\n",
       "  <thead>\n",
       "    <tr style=\"text-align: right;\">\n",
       "      <th></th>\n",
       "      <th>image_id</th>\n",
       "      <th>url</th>\n",
       "      <th>tags</th>\n",
       "    </tr>\n",
       "  </thead>\n",
       "  <tbody>\n",
       "    <tr>\n",
       "      <th>0</th>\n",
       "      <td>1</td>\n",
       "      <td>https://cs.stanford.edu/people/rak248/VG_100K_...</td>\n",
       "      <td>[trees, sidewalk, building, street, wall, tree...</td>\n",
       "    </tr>\n",
       "    <tr>\n",
       "      <th>1</th>\n",
       "      <td>2</td>\n",
       "      <td>https://cs.stanford.edu/people/rak248/VG_100K/...</td>\n",
       "      <td>[road, sidewalk, building, building, street li...</td>\n",
       "    </tr>\n",
       "    <tr>\n",
       "      <th>2</th>\n",
       "      <td>3</td>\n",
       "      <td>https://cs.stanford.edu/people/rak248/VG_100K/...</td>\n",
       "      <td>[cubicles, table, desktop, desk, wall, dividin...</td>\n",
       "    </tr>\n",
       "    <tr>\n",
       "      <th>3</th>\n",
       "      <td>4</td>\n",
       "      <td>https://cs.stanford.edu/people/rak248/VG_100K/...</td>\n",
       "      <td>[floor, carpet, curtains, patio, window, table...</td>\n",
       "    </tr>\n",
       "    <tr>\n",
       "      <th>4</th>\n",
       "      <td>5</td>\n",
       "      <td>https://cs.stanford.edu/people/rak248/VG_100K/...</td>\n",
       "      <td>[room, area, wall, wall, shelf, books, chair, ...</td>\n",
       "    </tr>\n",
       "  </tbody>\n",
       "</table>\n",
       "</div>"
      ],
      "text/plain": [
       "   image_id                                                url  \\\n",
       "0         1  https://cs.stanford.edu/people/rak248/VG_100K_...   \n",
       "1         2  https://cs.stanford.edu/people/rak248/VG_100K/...   \n",
       "2         3  https://cs.stanford.edu/people/rak248/VG_100K/...   \n",
       "3         4  https://cs.stanford.edu/people/rak248/VG_100K/...   \n",
       "4         5  https://cs.stanford.edu/people/rak248/VG_100K/...   \n",
       "\n",
       "                                                tags  \n",
       "0  [trees, sidewalk, building, street, wall, tree...  \n",
       "1  [road, sidewalk, building, building, street li...  \n",
       "2  [cubicles, table, desktop, desk, wall, dividin...  \n",
       "3  [floor, carpet, curtains, patio, window, table...  \n",
       "4  [room, area, wall, wall, shelf, books, chair, ...  "
      ]
     },
     "execution_count": 36,
     "metadata": {},
     "output_type": "execute_result"
    }
   ],
   "source": [
    "df.head()"
   ]
  },
  {
   "cell_type": "code",
   "execution_count": 39,
   "id": "c495dbb4-50bd-4927-b137-bb93bfad9dd6",
   "metadata": {},
   "outputs": [
    {
     "data": {
      "text/html": [
       "<div>\n",
       "<style scoped>\n",
       "    .dataframe tbody tr th:only-of-type {\n",
       "        vertical-align: middle;\n",
       "    }\n",
       "\n",
       "    .dataframe tbody tr th {\n",
       "        vertical-align: top;\n",
       "    }\n",
       "\n",
       "    .dataframe thead th {\n",
       "        text-align: right;\n",
       "    }\n",
       "</style>\n",
       "<table border=\"1\" class=\"dataframe\">\n",
       "  <thead>\n",
       "    <tr style=\"text-align: right;\">\n",
       "      <th></th>\n",
       "      <th>image_id</th>\n",
       "      <th>url</th>\n",
       "      <th>tags</th>\n",
       "    </tr>\n",
       "  </thead>\n",
       "  <tbody>\n",
       "    <tr>\n",
       "      <th>0</th>\n",
       "      <td>1</td>\n",
       "      <td>https://cs.stanford.edu/people/rak248/VG_100K_...</td>\n",
       "      <td>[windows, car, man, trees, back, tree trunk, a...</td>\n",
       "    </tr>\n",
       "    <tr>\n",
       "      <th>1</th>\n",
       "      <td>2</td>\n",
       "      <td>https://cs.stanford.edu/people/rak248/VG_100K/...</td>\n",
       "      <td>[sign, sidewalk, window, backpack, sneakers, t...</td>\n",
       "    </tr>\n",
       "    <tr>\n",
       "      <th>2</th>\n",
       "      <td>3</td>\n",
       "      <td>https://cs.stanford.edu/people/rak248/VG_100K/...</td>\n",
       "      <td>[photos, wireless phone, chain, computer tower...</td>\n",
       "    </tr>\n",
       "    <tr>\n",
       "      <th>3</th>\n",
       "      <td>4</td>\n",
       "      <td>https://cs.stanford.edu/people/rak248/VG_100K/...</td>\n",
       "      <td>[carpet, chair, cloths, colour, frame, drape, ...</td>\n",
       "    </tr>\n",
       "    <tr>\n",
       "      <th>4</th>\n",
       "      <td>5</td>\n",
       "      <td>https://cs.stanford.edu/people/rak248/VG_100K/...</td>\n",
       "      <td>[windows, chair, colour, paper, cables, color,...</td>\n",
       "    </tr>\n",
       "  </tbody>\n",
       "</table>\n",
       "</div>"
      ],
      "text/plain": [
       "   image_id                                                url  \\\n",
       "0         1  https://cs.stanford.edu/people/rak248/VG_100K_...   \n",
       "1         2  https://cs.stanford.edu/people/rak248/VG_100K/...   \n",
       "2         3  https://cs.stanford.edu/people/rak248/VG_100K/...   \n",
       "3         4  https://cs.stanford.edu/people/rak248/VG_100K/...   \n",
       "4         5  https://cs.stanford.edu/people/rak248/VG_100K/...   \n",
       "\n",
       "                                                tags  \n",
       "0  [windows, car, man, trees, back, tree trunk, a...  \n",
       "1  [sign, sidewalk, window, backpack, sneakers, t...  \n",
       "2  [photos, wireless phone, chain, computer tower...  \n",
       "3  [carpet, chair, cloths, colour, frame, drape, ...  \n",
       "4  [windows, chair, colour, paper, cables, color,...  "
      ]
     },
     "execution_count": 39,
     "metadata": {},
     "output_type": "execute_result"
    }
   ],
   "source": [
    "df['tags'] = df['tags'].apply(lambda x: list(set(x)))\n",
    "df.head()"
   ]
  },
  {
   "cell_type": "code",
   "execution_count": 40,
   "id": "68741a00-3dff-4fa5-bee8-6f9ba79c18cc",
   "metadata": {},
   "outputs": [],
   "source": [
    "# export the dataset; we will use it late\n",
    "df.to_csv('../data/vgenome_sample_1k.csv')"
   ]
  }
 ],
 "metadata": {
  "kernelspec": {
   "display_name": "Python 3 (ipykernel)",
   "language": "python",
   "name": "python3"
  },
  "language_info": {
   "codemirror_mode": {
    "name": "ipython",
    "version": 3
   },
   "file_extension": ".py",
   "mimetype": "text/x-python",
   "name": "python",
   "nbconvert_exporter": "python",
   "pygments_lexer": "ipython3",
   "version": "3.10.12"
  }
 },
 "nbformat": 4,
 "nbformat_minor": 5
}
