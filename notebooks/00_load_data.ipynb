{
 "cells": [
  {
   "cell_type": "markdown",
   "id": "90343b96-6454-4898-84bf-5c261fa83b35",
   "metadata": {},
   "source": [
    "In this notebook, we will load a small subset of the **Visual Genome** dataset. All **Visual Genome** datasets are sourced from [here](https://homes.cs.washington.edu/~ranjay/visualgenome/api.html). We only need one dataset from here called `Objects`. This is a `JSON` file,  which should be downloaded into `./data` directory."
   ]
  },
  {
   "cell_type": "markdown",
   "id": "fa011eff-b904-452f-bcd7-4927ee435d81",
   "metadata": {},
   "source": [
    "Once downloaded, we can read it into a `pandas` dataframe."
   ]
  },
  {
   "cell_type": "markdown",
   "id": "ba23b0f0-9838-4ce0-8cd3-7fdbfcd9b44a",
   "metadata": {},
   "source": [
    "### Read data"
   ]
  },
  {
   "cell_type": "code",
   "execution_count": 1,
   "id": "9abf0fab-07d7-447b-a8c2-181139a621de",
   "metadata": {},
   "outputs": [
    {
     "data": {
      "text/html": [
       "<div>\n",
       "<style scoped>\n",
       "    .dataframe tbody tr th:only-of-type {\n",
       "        vertical-align: middle;\n",
       "    }\n",
       "\n",
       "    .dataframe tbody tr th {\n",
       "        vertical-align: top;\n",
       "    }\n",
       "\n",
       "    .dataframe thead th {\n",
       "        text-align: right;\n",
       "    }\n",
       "</style>\n",
       "<table border=\"1\" class=\"dataframe\">\n",
       "  <thead>\n",
       "    <tr style=\"text-align: right;\">\n",
       "      <th></th>\n",
       "      <th>image_id</th>\n",
       "      <th>objects</th>\n",
       "      <th>image_url</th>\n",
       "      <th>merged_object_ids</th>\n",
       "    </tr>\n",
       "  </thead>\n",
       "  <tbody>\n",
       "    <tr>\n",
       "      <th>53559</th>\n",
       "      <td>2366867</td>\n",
       "      <td>[{'synsets': ['bird.n.01'], 'h': 17, 'object_i...</td>\n",
       "      <td>http://crowdfile.blob.core.chinacloudapi.cn/46...</td>\n",
       "      <td>NaN</td>\n",
       "    </tr>\n",
       "    <tr>\n",
       "      <th>41981</th>\n",
       "      <td>2378980</td>\n",
       "      <td>[{'synsets': ['wheel.n.01'], 'h': 60, 'object_...</td>\n",
       "      <td>http://crowdfile.blob.core.chinacloudapi.cn/46...</td>\n",
       "      <td>NaN</td>\n",
       "    </tr>\n",
       "    <tr>\n",
       "      <th>89244</th>\n",
       "      <td>2329504</td>\n",
       "      <td>[{'synsets': [], 'h': 16, 'object_id': 4673734...</td>\n",
       "      <td>http://crowdfile.blob.core.chinacloudapi.cn/46...</td>\n",
       "      <td>NaN</td>\n",
       "    </tr>\n",
       "    <tr>\n",
       "      <th>71785</th>\n",
       "      <td>2347788</td>\n",
       "      <td>[{'synsets': ['apron.n.01'], 'h': 163, 'object...</td>\n",
       "      <td>http://crowdfile.blob.core.chinacloudapi.cn/46...</td>\n",
       "      <td>NaN</td>\n",
       "    </tr>\n",
       "    <tr>\n",
       "      <th>100014</th>\n",
       "      <td>2318253</td>\n",
       "      <td>[{'synsets': ['bear.n.01'], 'h': 204, 'object_...</td>\n",
       "      <td>http://crowdfile.blob.core.chinacloudapi.cn/46...</td>\n",
       "      <td>NaN</td>\n",
       "    </tr>\n",
       "  </tbody>\n",
       "</table>\n",
       "</div>"
      ],
      "text/plain": [
       "        image_id                                            objects  \\\n",
       "53559    2366867  [{'synsets': ['bird.n.01'], 'h': 17, 'object_i...   \n",
       "41981    2378980  [{'synsets': ['wheel.n.01'], 'h': 60, 'object_...   \n",
       "89244    2329504  [{'synsets': [], 'h': 16, 'object_id': 4673734...   \n",
       "71785    2347788  [{'synsets': ['apron.n.01'], 'h': 163, 'object...   \n",
       "100014   2318253  [{'synsets': ['bear.n.01'], 'h': 204, 'object_...   \n",
       "\n",
       "                                                image_url merged_object_ids  \n",
       "53559   http://crowdfile.blob.core.chinacloudapi.cn/46...               NaN  \n",
       "41981   http://crowdfile.blob.core.chinacloudapi.cn/46...               NaN  \n",
       "89244   http://crowdfile.blob.core.chinacloudapi.cn/46...               NaN  \n",
       "71785   http://crowdfile.blob.core.chinacloudapi.cn/46...               NaN  \n",
       "100014  http://crowdfile.blob.core.chinacloudapi.cn/46...               NaN  "
      ]
     },
     "execution_count": 1,
     "metadata": {},
     "output_type": "execute_result"
    }
   ],
   "source": [
    "import pandas as pd\n",
    "\n",
    "df = pd.read_json('../data/objects.json')\n",
    "\n",
    "# we will take a small random sample for this exercise\n",
    "df = df.sample(n=1000)\n",
    "df.head()"
   ]
  },
  {
   "cell_type": "markdown",
   "id": "edea2456-c5ac-485a-9384-302c5d3b9b27",
   "metadata": {},
   "source": [
    "### Clean data"
   ]
  },
  {
   "cell_type": "code",
   "execution_count": 2,
   "id": "bdf25d5c-fb71-43e0-9054-efcf6fb4d9a2",
   "metadata": {},
   "outputs": [],
   "source": [
    "# drop the last column (we don't need it)\n",
    "df = df.drop(columns=df.columns[-1])"
   ]
  },
  {
   "cell_type": "markdown",
   "id": "d98dd89d-2f63-4a52-817c-97fcadf44cab",
   "metadata": {},
   "source": [
    "Let's look closely at the `objects` column. It contains multiple items, but all we need is the values from `names`."
   ]
  },
  {
   "cell_type": "code",
   "execution_count": 3,
   "id": "e1ddd55c-1e8c-4c0b-8496-38d172d562ef",
   "metadata": {},
   "outputs": [
    {
     "data": {
      "text/plain": [
       "{'synsets': ['wheel.n.01'],\n",
       " 'h': 60,\n",
       " 'object_id': 555958,\n",
       " 'merged_object_ids': [],\n",
       " 'names': ['back wheel'],\n",
       " 'w': 39,\n",
       " 'y': 245,\n",
       " 'x': 368}"
      ]
     },
     "execution_count": 3,
     "metadata": {},
     "output_type": "execute_result"
    }
   ],
   "source": [
    "df.iloc[1, 1][0]"
   ]
  },
  {
   "cell_type": "markdown",
   "id": "825dd838-10d1-4ccb-be63-a52fdea6b501",
   "metadata": {},
   "source": [
    "Let's extract the list of image tags from the `objects` column and store them in a new column."
   ]
  },
  {
   "cell_type": "code",
   "execution_count": 4,
   "id": "41e0a87f-50c8-49da-9324-93c36d1bdde3",
   "metadata": {},
   "outputs": [
    {
     "data": {
      "text/html": [
       "<div>\n",
       "<style scoped>\n",
       "    .dataframe tbody tr th:only-of-type {\n",
       "        vertical-align: middle;\n",
       "    }\n",
       "\n",
       "    .dataframe tbody tr th {\n",
       "        vertical-align: top;\n",
       "    }\n",
       "\n",
       "    .dataframe thead th {\n",
       "        text-align: right;\n",
       "    }\n",
       "</style>\n",
       "<table border=\"1\" class=\"dataframe\">\n",
       "  <thead>\n",
       "    <tr style=\"text-align: right;\">\n",
       "      <th></th>\n",
       "      <th>image_id</th>\n",
       "      <th>image_url</th>\n",
       "      <th>tags</th>\n",
       "    </tr>\n",
       "  </thead>\n",
       "  <tbody>\n",
       "    <tr>\n",
       "      <th>53559</th>\n",
       "      <td>2366867</td>\n",
       "      <td>http://crowdfile.blob.core.chinacloudapi.cn/46...</td>\n",
       "      <td>[bird, bird, bird, bird, bird, bird, bird, bir...</td>\n",
       "    </tr>\n",
       "    <tr>\n",
       "      <th>41981</th>\n",
       "      <td>2378980</td>\n",
       "      <td>http://crowdfile.blob.core.chinacloudapi.cn/46...</td>\n",
       "      <td>[back wheel, bus, bus, destination window, dou...</td>\n",
       "    </tr>\n",
       "    <tr>\n",
       "      <th>89244</th>\n",
       "      <td>2329504</td>\n",
       "      <td>http://crowdfile.blob.core.chinacloudapi.cn/46...</td>\n",
       "      <td>[briefcase, building, building, bus, car, flag...</td>\n",
       "    </tr>\n",
       "    <tr>\n",
       "      <th>71785</th>\n",
       "      <td>2347788</td>\n",
       "      <td>http://crowdfile.blob.core.chinacloudapi.cn/46...</td>\n",
       "      <td>[apron, bench, bench, bench, bowl, box, child,...</td>\n",
       "    </tr>\n",
       "    <tr>\n",
       "      <th>100014</th>\n",
       "      <td>2318253</td>\n",
       "      <td>http://crowdfile.blob.core.chinacloudapi.cn/46...</td>\n",
       "      <td>[bear, claws, ear, ear, eye, face, grass, grou...</td>\n",
       "    </tr>\n",
       "  </tbody>\n",
       "</table>\n",
       "</div>"
      ],
      "text/plain": [
       "        image_id                                          image_url  \\\n",
       "53559    2366867  http://crowdfile.blob.core.chinacloudapi.cn/46...   \n",
       "41981    2378980  http://crowdfile.blob.core.chinacloudapi.cn/46...   \n",
       "89244    2329504  http://crowdfile.blob.core.chinacloudapi.cn/46...   \n",
       "71785    2347788  http://crowdfile.blob.core.chinacloudapi.cn/46...   \n",
       "100014   2318253  http://crowdfile.blob.core.chinacloudapi.cn/46...   \n",
       "\n",
       "                                                     tags  \n",
       "53559   [bird, bird, bird, bird, bird, bird, bird, bir...  \n",
       "41981   [back wheel, bus, bus, destination window, dou...  \n",
       "89244   [briefcase, building, building, bus, car, flag...  \n",
       "71785   [apron, bench, bench, bench, bowl, box, child,...  \n",
       "100014  [bear, claws, ear, ear, eye, face, grass, grou...  "
      ]
     },
     "execution_count": 4,
     "metadata": {},
     "output_type": "execute_result"
    }
   ],
   "source": [
    "df['tags'] = df['objects'].apply(lambda row: [obj['names'][0] for obj in row])\n",
    "\n",
    "df = df.drop(columns='objects')\n",
    "\n",
    "df.head()"
   ]
  },
  {
   "cell_type": "code",
   "execution_count": 5,
   "id": "c495dbb4-50bd-4927-b137-bb93bfad9dd6",
   "metadata": {},
   "outputs": [
    {
     "data": {
      "text/html": [
       "<div>\n",
       "<style scoped>\n",
       "    .dataframe tbody tr th:only-of-type {\n",
       "        vertical-align: middle;\n",
       "    }\n",
       "\n",
       "    .dataframe tbody tr th {\n",
       "        vertical-align: top;\n",
       "    }\n",
       "\n",
       "    .dataframe thead th {\n",
       "        text-align: right;\n",
       "    }\n",
       "</style>\n",
       "<table border=\"1\" class=\"dataframe\">\n",
       "  <thead>\n",
       "    <tr style=\"text-align: right;\">\n",
       "      <th></th>\n",
       "      <th>image_id</th>\n",
       "      <th>image_url</th>\n",
       "      <th>tags</th>\n",
       "    </tr>\n",
       "  </thead>\n",
       "  <tbody>\n",
       "    <tr>\n",
       "      <th>53559</th>\n",
       "      <td>2366867</td>\n",
       "      <td>http://crowdfile.blob.core.chinacloudapi.cn/46...</td>\n",
       "      <td>[birds, camera, bird, sky, neck, peach sky, me...</td>\n",
       "    </tr>\n",
       "    <tr>\n",
       "      <th>41981</th>\n",
       "      <td>2378980</td>\n",
       "      <td>http://crowdfile.blob.core.chinacloudapi.cn/46...</td>\n",
       "      <td>[window, line, double door, front windshield, ...</td>\n",
       "    </tr>\n",
       "    <tr>\n",
       "      <th>89244</th>\n",
       "      <td>2329504</td>\n",
       "      <td>http://crowdfile.blob.core.chinacloudapi.cn/46...</td>\n",
       "      <td>[window, head, man, flag, pole, light, tie, bu...</td>\n",
       "    </tr>\n",
       "    <tr>\n",
       "      <th>71785</th>\n",
       "      <td>2347788</td>\n",
       "      <td>http://crowdfile.blob.core.chinacloudapi.cn/46...</td>\n",
       "      <td>[headband, kid, child, whisk, visor, container...</td>\n",
       "    </tr>\n",
       "    <tr>\n",
       "      <th>100014</th>\n",
       "      <td>2318253</td>\n",
       "      <td>http://crowdfile.blob.core.chinacloudapi.cn/46...</td>\n",
       "      <td>[bear, eye, claws, face, grass, mouth, these, ...</td>\n",
       "    </tr>\n",
       "  </tbody>\n",
       "</table>\n",
       "</div>"
      ],
      "text/plain": [
       "        image_id                                          image_url  \\\n",
       "53559    2366867  http://crowdfile.blob.core.chinacloudapi.cn/46...   \n",
       "41981    2378980  http://crowdfile.blob.core.chinacloudapi.cn/46...   \n",
       "89244    2329504  http://crowdfile.blob.core.chinacloudapi.cn/46...   \n",
       "71785    2347788  http://crowdfile.blob.core.chinacloudapi.cn/46...   \n",
       "100014   2318253  http://crowdfile.blob.core.chinacloudapi.cn/46...   \n",
       "\n",
       "                                                     tags  \n",
       "53559   [birds, camera, bird, sky, neck, peach sky, me...  \n",
       "41981   [window, line, double door, front windshield, ...  \n",
       "89244   [window, head, man, flag, pole, light, tie, bu...  \n",
       "71785   [headband, kid, child, whisk, visor, container...  \n",
       "100014  [bear, eye, claws, face, grass, mouth, these, ...  "
      ]
     },
     "execution_count": 5,
     "metadata": {},
     "output_type": "execute_result"
    }
   ],
   "source": [
    "# not sure if there are duplicates; let's remove them (if any)\n",
    "df['tags'] = df['tags'].apply(lambda x: list(set(x)))\n",
    "\n",
    "df.head()"
   ]
  },
  {
   "cell_type": "markdown",
   "id": "97a8fc5b-35f0-4418-9a90-b8bf7543c748",
   "metadata": {},
   "source": [
    "### Export data"
   ]
  },
  {
   "cell_type": "code",
   "execution_count": 6,
   "id": "68741a00-3dff-4fa5-bee8-6f9ba79c18cc",
   "metadata": {},
   "outputs": [],
   "source": [
    "# reindex and export the dataset; we will use it later\n",
    "df.reindex().to_csv('../data/vgenome_sample_1k.csv')"
   ]
  },
  {
   "cell_type": "markdown",
   "id": "0ec29064-7bb7-4222-bccf-3adebba4b1aa",
   "metadata": {},
   "source": [
    "In the [next notebook](01_prepare_opensearch.ipynb), we will configure and prepare OpenSearch."
   ]
  }
 ],
 "metadata": {
  "kernelspec": {
   "display_name": "Python 3 (ipykernel)",
   "language": "python",
   "name": "python3"
  },
  "language_info": {
   "codemirror_mode": {
    "name": "ipython",
    "version": 3
   },
   "file_extension": ".py",
   "mimetype": "text/x-python",
   "name": "python",
   "nbconvert_exporter": "python",
   "pygments_lexer": "ipython3",
   "version": "3.10.12"
  }
 },
 "nbformat": 4,
 "nbformat_minor": 5
}
